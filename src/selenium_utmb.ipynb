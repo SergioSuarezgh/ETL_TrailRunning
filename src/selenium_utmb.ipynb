{
 "cells": [
  {
   "cell_type": "code",
   "execution_count": 1,
   "metadata": {},
   "outputs": [],
   "source": [
    "from selenium import webdriver\n",
    "from selenium import webdriver # driver de selenium\n",
    "from webdriver_manager.chrome import ChromeDriverManager\n",
    "from selenium.webdriver.common.by import By   # para buscar segun tag, id, class, etc...\n",
    "import time   # pa%pip install requestsra manejar tiempo\n",
    "from selenium.webdriver.chrome.options import Options\n",
    "from selenium.webdriver.support.ui import WebDriverWait   # es para esperar\n",
    "from selenium.webdriver.support import expected_conditions as EC  # condiciones esperadas...\n",
    "from selenium.webdriver import ActionChains as AC   # acciones encadenadas, rollo doble click\n",
    "from selenium.webdriver.common.action_chains import ActionChains\n",
    "from selenium.webdriver.common.keys import Keys  # manejar teclas\n",
    "import pandas as pd\n",
    "\n",
    "\n",
    "import asyncio\n",
    "\n",
    "\n",
    "from joblib import Parallel, delayed\n",
    "\n",
    "from tqdm.notebook import tqdm\n",
    "\n",
    "\n",
    "import warnings\n",
    "warnings.filterwarnings('ignore')\n",
    "\n",
    "\n",
    "pd.set_option('display.max_columns',None)\n",
    "pd.set_option('display.max_rows',None)\n"
   ]
  },
  {
   "cell_type": "code",
   "execution_count": 4,
   "metadata": {},
   "outputs": [
    {
     "name": "stderr",
     "output_type": "stream",
     "text": [
      "[WDM] - Downloading:  96%|█████████▌| 6.20M/6.46M [00:02<00:00, 2.73MB/s]"
     ]
    }
   ],
   "source": [
    "PATH=ChromeDriverManager().install() \n"
   ]
  },
  {
   "cell_type": "markdown",
   "metadata": {},
   "source": [
    "###Descargar con selenium info de la pagina de la carrera del utmb"
   ]
  },
  {
   "cell_type": "code",
   "execution_count": 16,
   "metadata": {},
   "outputs": [],
   "source": [
    "##Accedemos a una tabla de resultados y la descargamos\n",
    "\n",
    "\n",
    "driver=webdriver.Chrome(PATH) \n",
    "utmb_url='https://utmbmontblanc.com/es/page/107/107.html'\n",
    "driver.get(utmb_url) \n",
    "tabla=driver.find_element(By.XPATH, '//*[@id=\"ct107\"]/div[2]/div[2]/div[2]/span[2]/input').click()\n",
    "\n",
    "time.sleep(2)\n",
    "\n",
    "element= driver.find_element(By.TAG_NAME,'table')\n",
    "\n",
    "filas=element.find_elements(By.TAG_NAME,'tr')\n",
    "\n",
    "data=[]\n",
    "\n",
    "for f in filas:\n",
    "    \n",
    "    elemen=f.find_elements(By.TAG_NAME, 'td')\n",
    "    \n",
    "    tmp=[]\n",
    "    \n",
    "    for e in elemen:\n",
    "        \n",
    "        tmp.append(e.text)\n",
    "        \n",
    "    data.append(tmp)\n",
    "\n",
    "    \n",
    "df=pd.DataFrame(data)\n",
    "#time.sleep(2)\n",
    "#for fila in filas:\n",
    "#    print(fila.text)\n",
    "\n",
    "\n",
    "time.sleep(2)\n",
    "#driver.get(utmb_url) "
   ]
  },
  {
   "cell_type": "code",
   "execution_count": 22,
   "metadata": {},
   "outputs": [],
   "source": [
    "##Ejecutamos la función asincrona\n",
    "\n",
    "def asincrono(funcion):\n",
    "    \n",
    "    def eventos(*args, **kwargs):\n",
    "        return asyncio.get_event_loop().run_in_executor(None, funcion, *args, **kwargs)\n",
    "    \n",
    "    return eventos"
   ]
  },
  {
   "cell_type": "code",
   "execution_count": 32,
   "metadata": {},
   "outputs": [],
   "source": [
    "##Creamos una función para intentar descargarnos todos los resultados de varios años a la vez\n",
    "\n",
    "def utmb(i):  #i es el número de la tabla que n os queremos descargar\n",
    "    PATH=ChromeDriverManager().install()\n",
    "    driver=webdriver.Chrome(PATH) \n",
    "    utmb_url='https://utmbmontblanc.com/es/page/107/107.html'\n",
    "    driver.get(utmb_url) \n",
    "    \n",
    "    \n",
    "        \n",
    "    tabla=driver.find_element(By.XPATH, f'//*[@id=\"ct107\"]/div[2]/div[{i}]/div[2]/span[2]/input').click()\n",
    "\n",
    "    time.sleep(2)\n",
    "\n",
    "    element= driver.find_element(By.TAG_NAME,'table')\n",
    "\n",
    "    filas=element.find_elements(By.TAG_NAME,'tr')\n",
    "\n",
    "    data=[]\n",
    "\n",
    "    for f in filas:\n",
    "            \n",
    "        elemen=f.find_elements(By.TAG_NAME, 'td')\n",
    "            \n",
    "        tmp=[]\n",
    "            \n",
    "        for e in elemen:\n",
    "                \n",
    "            tmp.append(e.text)\n",
    "                \n",
    "        data.append(tmp)\n",
    "    driver.quit()\n",
    "    return pd.DataFrame(data)\n",
    "    \n",
    "\n",
    "        \n",
    "##Intentamos en varias ocasiones descagarla de forma asincrona pero da errorr asi que la descargamos de una en una    "
   ]
  },
  {
   "cell_type": "code",
   "execution_count": 33,
   "metadata": {},
   "outputs": [
    {
     "name": "stderr",
     "output_type": "stream",
     "text": [
      "Future exception was never retrieved\n",
      "future: <Future finished exception=TypeError(\"'NoneType' object is not iterable\")>\n",
      "Traceback (most recent call last):\n",
      "  File \"c:\\Users\\sersu\\anaconda3\\lib\\concurrent\\futures\\thread.py\", line 58, in run\n",
      "    result = self.fn(*self.args, **self.kwargs)\n",
      "  File \"C:\\Users\\sersu\\AppData\\Local\\Temp\\ipykernel_23520\\1979641972.py\", line 26, in utmb\n",
      "    for e in elemen:\n",
      "TypeError: 'NoneType' object is not iterable\n"
     ]
    }
   ],
   "source": []
  },
  {
   "cell_type": "code",
   "execution_count": null,
   "metadata": {},
   "outputs": [],
   "source": []
  },
  {
   "cell_type": "code",
   "execution_count": null,
   "metadata": {},
   "outputs": [],
   "source": [
    "lst=[1,2,3,4]\n",
    "utmb2022=utmb(2)\n",
    "utmb2021=utmb(3)\n",
    "utmb2020=utmb(lst[3])\n",
    "utmb2019=utmb(4)\n",
    "utmb2018=utmb(5)\n",
    "utmb2017=utmb(6)"
   ]
  },
  {
   "cell_type": "code",
   "execution_count": null,
   "metadata": {},
   "outputs": [],
   "source": []
  },
  {
   "cell_type": "code",
   "execution_count": 55,
   "metadata": {},
   "outputs": [],
   "source": [
    "columns=['clasificación','nombre_club', 'cat','clasificacion', 'tiempo', 'diferencia', 'nacionalidad']"
   ]
  },
  {
   "cell_type": "code",
   "execution_count": 63,
   "metadata": {},
   "outputs": [],
   "source": [
    "##Reseteamos los indices de todas\n",
    "\n",
    "utmb2022.reset_index(level=None, drop=False, inplace=True, col_level=0, col_fill='')\n",
    "utmb2021.reset_index(level=None, drop=False, inplace=True, col_level=0, col_fill='')\n",
    "utmb2020.reset_index(level=None, drop=False, inplace=True, col_level=0, col_fill='')\n",
    "utmb2019.reset_index(level=None, drop=False, inplace=True, col_level=0, col_fill='')\n",
    "utmb2018.reset_index(level=None, drop=False, inplace=True, col_level=0, col_fill='')\n",
    "utmb2017.reset_index(level=None, drop=False, inplace=True, col_level=0, col_fill='')\n",
    "\n"
   ]
  },
  {
   "cell_type": "code",
   "execution_count": 64,
   "metadata": {},
   "outputs": [],
   "source": [
    "##Las subimos a csv\n",
    "\n",
    "utmb2022.to_csv('../data/utmb2022.csv',index=False)\n",
    "utmb2021.to_csv('../data/utmb2021.csv',index=False)\n",
    "utmb2020.to_csv('../data/utmb2020.csv',index=False)\n",
    "utmb2019.to_csv('../data/utmb2019.csv',index=False)\n",
    "utmb2018.to_csv('../data/utmb2018.csv',index=False)\n",
    "utmb2017.to_csv('../data/utmb2017.csv',index=False)"
   ]
  },
  {
   "cell_type": "code",
   "execution_count": null,
   "metadata": {},
   "outputs": [],
   "source": [
    "##Con selenium creamos una función para decargar todas las tablas de resultados de la maraton del meridiano\n",
    "\n",
    "def meridiano(n):   #n es el número de la pestaña de resultados que debemos dar en la página para ir saltando de año en año\n",
    "    PATH=ChromeDriverManager().install()\n",
    "    driver=webdriver.Chrome(PATH) \n",
    "    utmb_url=f'http://results.trackingsport.com/resultados/evento.jsp?oid=2df4f6994ab122b91d1ac2a9fbc4be1633bfa1ae7c7d29af2298339fdc45c82df4f6994ab122b91d1ac2a9fbc4be1633bfa11302e7d29af2298339fdc45c8'\n",
    "    \n",
    "               \n",
    "    driver.get(utmb_url) \n",
    "    \n",
    "    time.sleep(2)\n",
    "    \n",
    "    iframe=driver.find_element(By.XPATH, '//*[@id=\"iFrameResizer\"]')  ##Al tener iframe debemos entrar enb el \n",
    "\n",
    "    driver.switch_to.frame(iframe)\n",
    "    time.sleep(2)\n",
    "    \n",
    "    driver.find_element(By.XPATH,'/html/body/div[1]/div/button[2]').click()  #Esto es paraq quitar un pop up que nos sale\n",
    "    \n",
    "    \n",
    "    \n",
    "    time.sleep(2)\n",
    "    \n",
    "    \n",
    "    \n",
    "    driver.find_element(By.XPATH,'//*[@id=\"link_to_results\"]').click()\n",
    "    \n",
    "    time.sleep(2)\n",
    "    \n",
    "    driver.find_element(By.XPATH,'/html/body/div[1]/div/button[2]').click()\n",
    "    \n",
    "    time.sleep(2)\n",
    "    \n",
    "    \n",
    "    driver.find_element(By.XPATH,f'//*[@id=\"editionsBar\"]/ul/li[{n}]/a').click()\n",
    "    \n",
    "    driver.find_element(By.XPATH,'/html/body/div[1]/div/button[2]').click()\n",
    "    \n",
    "    time.sleep(2)\n",
    "    \n",
    "    \n",
    "     \n",
    "    tabla=driver.find_element(By.XPATH, '//*[@id=\"tableForData\"]')\n",
    "    \n",
    "    paginas=driver.find_elements(By.CLASS_NAME,'paginate_button')\n",
    "    \n",
    "    j=''\n",
    "    for i in paginas[:-1]:\n",
    "        j=i.text.strip()\n",
    "        \n",
    "    n=int(j)\n",
    "    \n",
    "    \n",
    "    \n",
    "    data=[]\n",
    "    \n",
    "    for i in range(n):\n",
    "        \n",
    "        element= driver.find_element(By.TAG_NAME,'tbody')\n",
    "\n",
    "        filas=element.find_elements(By.TAG_NAME,'tr')\n",
    "        \n",
    "        \n",
    "\n",
    "        for f in filas:\n",
    "                \n",
    "            elemen=f.find_elements(By.TAG_NAME, 'td')\n",
    "                \n",
    "            tmp=[]\n",
    "                \n",
    "            for e in elemen:\n",
    "                    \n",
    "                tmp.append(e.text)\n",
    "                \n",
    "            data.append(tmp)\n",
    "                \n",
    "        driver.find_element(By.XPATH,'//*[@id=\"tableForData_next\"]/a').click()\n",
    "                \n",
    "           \n",
    "            \n",
    "           \n",
    "                    \n",
    "        \n",
    "    #driver.quit()\n",
    "    return pd.DataFrame(data)\n",
    "    \n",
    "\n"
   ]
  },
  {
   "cell_type": "code",
   "execution_count": 68,
   "metadata": {},
   "outputs": [
    {
     "data": {
      "application/json": {
       "ascii": false,
       "bar_format": null,
       "colour": null,
       "elapsed": 0.010509729385375977,
       "initial": 0,
       "n": 0,
       "ncols": null,
       "nrows": null,
       "postfix": null,
       "prefix": "",
       "rate": null,
       "total": 4,
       "unit": "it",
       "unit_divisor": 1000,
       "unit_scale": false
      },
      "application/vnd.jupyter.widget-view+json": {
       "model_id": "0200c8c90732454db88017c7de79a705",
       "version_major": 2,
       "version_minor": 0
      },
      "text/plain": [
       "  0%|          | 0/4 [00:00<?, ?it/s]"
      ]
     },
     "metadata": {},
     "output_type": "display_data"
    },
    {
     "name": "stderr",
     "output_type": "stream",
     "text": [
      "[Parallel(n_jobs=6)]: Using backend LokyBackend with 6 concurrent workers.\n",
      "[Parallel(n_jobs=6)]: Done   4 out of   4 | elapsed:  2.0min finished\n"
     ]
    }
   ],
   "source": [
    "##Lo ejecutamos en paralelo y esta vez si funciona\n",
    "\n",
    "num_pag=[1,2,3,4]\n",
    "\n",
    "lst_df=Parallel(n_jobs=6, verbose=True)(delayed(meridiano)(num) for num in tqdm(num_pag))"
   ]
  },
  {
   "cell_type": "code",
   "execution_count": 76,
   "metadata": {},
   "outputs": [],
   "source": [
    "#Subimos los datos a un csv\n",
    "\n",
    "lst_df[0].to_csv('../data/meridiano/meridano2020.csv',index=False)\n",
    "lst_df[1].to_csv('../data/meridiano/meridano2019.csv',index=False)\n",
    "lst_df[2].to_csv('../data/meridiano/meridano2018.csv',index=False)\n",
    "lst_df[3].to_csv('../data/meridiano/meridano2017.csv',index=False)"
   ]
  },
  {
   "cell_type": "code",
   "execution_count": 20,
   "metadata": {},
   "outputs": [],
   "source": [
    "#Este programa no funciona coge los primeros pero no toda la tabla creo que es un problema del scroll pero tengo que investigarlo\n",
    "\n",
    "\n",
    "driver=webdriver.Chrome(PATH) \n",
    "utmb_url='https://transgrancanaria.livetrail.net/classement.php?course=class&cat=scratch'\n",
    "driver.get(utmb_url) \n",
    "tabla=driver.find_element(By.XPATH, '//*[@id=\"scrollZone\"]')\n",
    "\n",
    "\n",
    "\n",
    "time.sleep(2)\n",
    "\n",
    "element= tabla.find_element(By.TAG_NAME,'table')\n",
    "\n",
    "filas=element.find_elements(By.TAG_NAME,'tr')\n",
    "\n",
    "data=[]\n",
    "\n",
    "for f in filas:\n",
    "    \n",
    "    elemen=f.find_elements(By.TAG_NAME, 'td')\n",
    "    \n",
    "    tmp=[]\n",
    "    \n",
    "    for e in elemen:\n",
    "        \n",
    "        tmp.append(e.text)\n",
    "        \n",
    "    data.append(tmp)\n",
    "\n",
    "    \n",
    "df=pd.DataFrame(data)\n",
    "\n",
    "\n",
    "\n",
    "time.sleep(2)\n"
   ]
  }
 ],
 "metadata": {
  "kernelspec": {
   "display_name": "Python 3.9.12 ('base')",
   "language": "python",
   "name": "python3"
  },
  "language_info": {
   "codemirror_mode": {
    "name": "ipython",
    "version": 3
   },
   "file_extension": ".py",
   "mimetype": "text/x-python",
   "name": "python",
   "nbconvert_exporter": "python",
   "pygments_lexer": "ipython3",
   "version": "3.9.12"
  },
  "orig_nbformat": 4,
  "vscode": {
   "interpreter": {
    "hash": "1551151381e773f0aad4d7f5dd85d557969b09f98d8f1647db122078155b292b"
   }
  }
 },
 "nbformat": 4,
 "nbformat_minor": 2
}
