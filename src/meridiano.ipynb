{
 "cells": [
  {
   "cell_type": "code",
   "execution_count": 89,
   "metadata": {},
   "outputs": [],
   "source": [
    "import pandas as pd\n",
    "import numpy as np\n",
    "import re\n",
    "import io\n",
    "import warnings\n",
    "import generador\n",
    "pd.set_option('display.max_columns',None)\n",
    "pd.set_option('display.max_rows',None)\n",
    "warnings.filterwarnings('ignore')"
   ]
  },
  {
   "cell_type": "markdown",
   "metadata": {},
   "source": [
    "#Meridiano17"
   ]
  },
  {
   "cell_type": "code",
   "execution_count": 90,
   "metadata": {},
   "outputs": [],
   "source": [
    "out_file = io.StringIO()\n",
    "\n",
    "with open('../data/meridiano/meridano2017.csv', encoding='utf8') as file:\n",
    "    out_file.write(file.read().replace('\"\"', '|').replace('\"', \"\"))\n",
    "\n",
    "out_file.seek(0)\n",
    "\n",
    "meridiano17 = pd.read_csv(out_file, delimiter = ',', quotechar='|')"
   ]
  },
  {
   "cell_type": "code",
   "execution_count": 91,
   "metadata": {},
   "outputs": [],
   "source": [
    "meridiano17.drop(['0','1','2','3','4','6','7','12','14'],axis='columns',inplace=True)   #Eliminamos las columnas que no necesitamos\n",
    "\n",
    "columns=['posicion','nombre','club','pos_sex','cat','tiempo','media','dif']\n",
    "meridiano17.set_axis(columns,axis='columns',inplace=True)       #Modificamos el nombre de las columnas\n",
    "     "
   ]
  },
  {
   "cell_type": "code",
   "execution_count": 92,
   "metadata": {},
   "outputs": [],
   "source": [
    "##Enla columna categoria hay varios datos por lo que procedemos a trocerarla en 3, la propia de cat y la de sex y pto_cat. Para ello generamos un regex e iteramos\n",
    "limpiar=meridiano17['cat']      #creamos una serie para iterarla y modificar datos\n",
    "final=[]\n",
    "final2=[]\n",
    "cate=[]\n",
    "for i in limpiar:\n",
    "    i=i.upper()\n",
    "    masc=re.findall('M$',i)\n",
    "    fem=re.findall('F$',i)\n",
    "    puesto=re.findall('^\\d',i)\n",
    "    cat1=re.findall('[A-Z]{3}',i)\n",
    "    cat2=re.findall('[A-Z]{3}\\-[A-Z]\\d+',i)\n",
    "    \n",
    "    if puesto:\n",
    "        final2.append(\"\".join(puesto))\n",
    "        \n",
    "    if cat2:\n",
    "        cate.append(\"\".join(cat2))\n",
    "    elif cat1:\n",
    "        cate.append(\"\".join(cat1))\n",
    "        \n",
    "    if masc:\n",
    "        final.append(\"\".join(masc))\n",
    "    elif fem:\n",
    "        final.append(\"\".join(fem))\n",
    "        \n",
    "meridiano17['sex']=final\n",
    "meridiano17['pto_cat']=final2\n",
    "meridiano17['cat']=cate"
   ]
  },
  {
   "cell_type": "code",
   "execution_count": 93,
   "metadata": {},
   "outputs": [],
   "source": [
    "meridiano17=meridiano17.reindex(columns=['posicion','tiempo','dif','nombre','club','sex','pos_sex','cat','pto_cat','media'])  #reordenamos las columnas"
   ]
  },
  {
   "cell_type": "code",
   "execution_count": 94,
   "metadata": {},
   "outputs": [
    {
     "data": {
      "text/plain": [
       "array(['SENIOR', 'VET-A', 'VET-B', 'VET-C'], dtype=object)"
      ]
     },
     "execution_count": 94,
     "metadata": {},
     "output_type": "execute_result"
    }
   ],
   "source": [
    "#creamos una columna de categoria en base a los rangos de edad y la colocamos\n",
    "meridiano17['cat']=meridiano17['cat']\n",
    "\n",
    "for i in range(len(meridiano17.cat)):\n",
    "    if meridiano17.cat[i]=='SEN' or meridiano17.cat[i]=='JUN':\n",
    "        meridiano17.cat[i]='SENIOR'\n",
    "    elif meridiano17.cat[i]=='VET-M40':\n",
    "        meridiano17.cat[i]='VET-A'\n",
    "    elif meridiano17.cat[i]=='VET-M50':\n",
    "        meridiano17.cat[i]='VET-B'\n",
    "    else:\n",
    "        meridiano17.cat[i]='VET-C'\n",
    "        \n",
    "        \n",
    "#Quitamos los - de la columna club por 'N/D'\n",
    "    if meridiano17.club[i]=='-':\n",
    "        meridiano17.club[i]='N/D'         \n",
    "\n",
    "meridiano17.cat.unique()"
   ]
  },
  {
   "cell_type": "code",
   "execution_count": 95,
   "metadata": {},
   "outputs": [],
   "source": [
    "#Normalizamos formato de campos de las columnas añadiendo la configuración final para todas las tablas\n",
    "\n",
    "meridiano17.drop(['pos_sex','pto_cat','media'],axis='columns',inplace=True) #damos de baja columnas\n",
    "\n",
    "#Generamos las columnas restanetes\n",
    "meridiano17['pais']=generador.generador(len(meridiano17))\n",
    "meridiano17['carrera']=generador.carrera(len(meridiano17),'meridiano')\n",
    "meridiano17['anio']=generador.anio(len(meridiano17),'2017')\n",
    "\n",
    "meridiano17=meridiano17.reindex(columns=['posicion','tiempo','dif','nombre','club','pais','sex','cat','carrera','anio']) #Reorganizamos"
   ]
  },
  {
   "cell_type": "code",
   "execution_count": 96,
   "metadata": {},
   "outputs": [],
   "source": [
    "meridiano17.to_csv('../data/meridiano/meridano2017mod.csv', index=False, index_label=False)"
   ]
  },
  {
   "cell_type": "markdown",
   "metadata": {},
   "source": [
    "#Meridiano18"
   ]
  },
  {
   "cell_type": "code",
   "execution_count": 97,
   "metadata": {},
   "outputs": [],
   "source": [
    "out_file = io.StringIO()\n",
    "\n",
    "with open('../data/meridiano/meridano2018.csv', encoding='utf8') as file:\n",
    "    out_file.write(file.read().replace('\"\"', '|').replace('\"', \"\"))\n",
    "\n",
    "out_file.seek(0)\n",
    "\n",
    "meridiano18 = pd.read_csv(out_file, delimiter = ',', quotechar='|')"
   ]
  },
  {
   "cell_type": "code",
   "execution_count": 98,
   "metadata": {},
   "outputs": [],
   "source": [
    "meridiano18.drop(['0','1','2','3','4','6','7','12','14'],axis='columns',inplace=True)       #Eliminamos las columnas que no necesitamos\n",
    "columns=['posicion','nombre','club','pos_sex','cat','tiempo','media','dif']\n",
    "meridiano18.set_axis(columns,axis='columns',inplace=True)       #Cambiamos los nombres de las columnas\n",
    "\n",
    "\n",
    "##Enla columna categoria hay varios datos por lo que procedemos a trocerarla en 3, la propia de cat y la de sex y pto_cat. Para ello generamos un regex e iteramos\n",
    "limpiar=meridiano18['cat']      #creamos una serie para iterarla y modificar datos\n",
    "final=[]\n",
    "final2=[]\n",
    "cate=[]\n",
    "for i in limpiar:\n",
    "    i=i.upper()\n",
    "    masc=re.findall('M$',i)\n",
    "    fem=re.findall('F$',i)\n",
    "    puesto=re.findall('^\\d',i)\n",
    "    cat1=re.findall('[A-Z]{3}',i)\n",
    "    cat2=re.findall('[A-Z]{3}\\-[A-Z]\\d+',i)\n",
    "    \n",
    "    if puesto:\n",
    "        final2.append(\"\".join(puesto))\n",
    "        \n",
    "    if cat2:\n",
    "        cate.append(\"\".join(cat2))\n",
    "    elif cat1:\n",
    "        cate.append(\"\".join(cat1))\n",
    "        \n",
    "    if masc:\n",
    "        final.append(\"\".join(masc))\n",
    "    elif fem:\n",
    "        final.append(\"\".join(fem))\n",
    "        \n",
    "meridiano18['sex']=final\n",
    "meridiano18['pto_cat']=final2\n",
    "meridiano18['cat']=cate\n",
    "\n",
    "meridiano18=meridiano18.reindex(columns=['posicion','tiempo','dif','nombre','club','sex','pos_sex','cat','pto_cat','media'])    #reordenamos las columnas"
   ]
  },
  {
   "cell_type": "code",
   "execution_count": 99,
   "metadata": {},
   "outputs": [],
   "source": [
    "#Para nomalizar el dato de los clubs lo pasamos a mayuscula\n",
    "for i in range(len(meridiano18.club)):\n",
    "    meridiano18.club[i]=str(meridiano18.club[i].upper())"
   ]
  },
  {
   "cell_type": "code",
   "execution_count": 100,
   "metadata": {},
   "outputs": [
    {
     "data": {
      "text/plain": [
       "array(['SENIOR', 'VET-A', 'VET-B', 'VET-C'], dtype=object)"
      ]
     },
     "execution_count": 100,
     "metadata": {},
     "output_type": "execute_result"
    }
   ],
   "source": [
    "#creamos una columna de categoria en base a los rangos de edad y la colocamos\n",
    "meridiano18['cat']=meridiano18['cat']\n",
    "\n",
    "for i in range(len(meridiano18.cat)):\n",
    "    if meridiano18.cat[i]=='SEN' or meridiano18.cat[i]=='JUN':\n",
    "        meridiano18.cat[i]='SENIOR'\n",
    "    elif meridiano18.cat[i]=='VET-M40':\n",
    "        meridiano18.cat[i]='VET-A'\n",
    "    elif meridiano18.cat[i]=='VET-M50':\n",
    "        meridiano18.cat[i]='VET-B'\n",
    "    else:\n",
    "        meridiano18.cat[i]='VET-C'\n",
    "        \n",
    "    #Quitamos los - de la columna club por 'N/D'\n",
    "    if meridiano18.club[i]=='-':\n",
    "        meridiano18.club[i]='N/D'   \n",
    "        \n",
    "\n",
    "meridiano18.cat.unique()"
   ]
  },
  {
   "cell_type": "code",
   "execution_count": 101,
   "metadata": {},
   "outputs": [
    {
     "data": {
      "text/html": [
       "<div>\n",
       "<style scoped>\n",
       "    .dataframe tbody tr th:only-of-type {\n",
       "        vertical-align: middle;\n",
       "    }\n",
       "\n",
       "    .dataframe tbody tr th {\n",
       "        vertical-align: top;\n",
       "    }\n",
       "\n",
       "    .dataframe thead th {\n",
       "        text-align: right;\n",
       "    }\n",
       "</style>\n",
       "<table border=\"1\" class=\"dataframe\">\n",
       "  <thead>\n",
       "    <tr style=\"text-align: right;\">\n",
       "      <th></th>\n",
       "      <th>posicion</th>\n",
       "      <th>tiempo</th>\n",
       "      <th>dif</th>\n",
       "      <th>nombre</th>\n",
       "      <th>club</th>\n",
       "      <th>sex</th>\n",
       "      <th>pos_sex</th>\n",
       "      <th>cat</th>\n",
       "      <th>pto_cat</th>\n",
       "      <th>media</th>\n",
       "    </tr>\n",
       "  </thead>\n",
       "  <tbody>\n",
       "    <tr>\n",
       "      <th>0</th>\n",
       "      <td>1</td>\n",
       "      <td>03:41:18</td>\n",
       "      <td>00:00:00</td>\n",
       "      <td>Stian ARGERMUND-VIK</td>\n",
       "      <td>N/D</td>\n",
       "      <td>M</td>\n",
       "      <td>1</td>\n",
       "      <td>SENIOR</td>\n",
       "      <td>1</td>\n",
       "      <td>05:16</td>\n",
       "    </tr>\n",
       "    <tr>\n",
       "      <th>1</th>\n",
       "      <td>2</td>\n",
       "      <td>03:51:23</td>\n",
       "      <td>00:10:04</td>\n",
       "      <td>Efren SEGUNDO QUESADA</td>\n",
       "      <td>N/D</td>\n",
       "      <td>M</td>\n",
       "      <td>2</td>\n",
       "      <td>SENIOR</td>\n",
       "      <td>2</td>\n",
       "      <td>05:30</td>\n",
       "    </tr>\n",
       "    <tr>\n",
       "      <th>2</th>\n",
       "      <td>3</td>\n",
       "      <td>03:51:24</td>\n",
       "      <td>00:10:05</td>\n",
       "      <td>Cristofer CLEMENTE MORA</td>\n",
       "      <td>N/D</td>\n",
       "      <td>M</td>\n",
       "      <td>3</td>\n",
       "      <td>SENIOR</td>\n",
       "      <td>3</td>\n",
       "      <td>05:30</td>\n",
       "    </tr>\n",
       "    <tr>\n",
       "      <th>3</th>\n",
       "      <td>4</td>\n",
       "      <td>03:57:30</td>\n",
       "      <td>00:16:11</td>\n",
       "      <td>Zaid AT MALEK</td>\n",
       "      <td>N/D</td>\n",
       "      <td>M</td>\n",
       "      <td>4</td>\n",
       "      <td>SENIOR</td>\n",
       "      <td>4</td>\n",
       "      <td>05:39</td>\n",
       "    </tr>\n",
       "    <tr>\n",
       "      <th>4</th>\n",
       "      <td>5</td>\n",
       "      <td>04:10:38</td>\n",
       "      <td>00:29:20</td>\n",
       "      <td>Yeray DURÁN LÓPEZ</td>\n",
       "      <td>N/D</td>\n",
       "      <td>M</td>\n",
       "      <td>5</td>\n",
       "      <td>VET-A</td>\n",
       "      <td>1</td>\n",
       "      <td>05:58</td>\n",
       "    </tr>\n",
       "  </tbody>\n",
       "</table>\n",
       "</div>"
      ],
      "text/plain": [
       "   posicion    tiempo       dif                   nombre club sex  pos_sex  \\\n",
       "0         1  03:41:18  00:00:00      Stian ARGERMUND-VIK  N/D   M        1   \n",
       "1         2  03:51:23  00:10:04    Efren SEGUNDO QUESADA  N/D   M        2   \n",
       "2         3  03:51:24  00:10:05  Cristofer CLEMENTE MORA  N/D   M        3   \n",
       "3         4  03:57:30  00:16:11            Zaid AT MALEK  N/D   M        4   \n",
       "4         5  04:10:38  00:29:20        Yeray DURÁN LÓPEZ  N/D   M        5   \n",
       "\n",
       "      cat pto_cat  media  \n",
       "0  SENIOR       1  05:16  \n",
       "1  SENIOR       2  05:30  \n",
       "2  SENIOR       3  05:30  \n",
       "3  SENIOR       4  05:39  \n",
       "4   VET-A       1  05:58  "
      ]
     },
     "execution_count": 101,
     "metadata": {},
     "output_type": "execute_result"
    }
   ],
   "source": [
    "meridiano18.head()"
   ]
  },
  {
   "cell_type": "code",
   "execution_count": 102,
   "metadata": {},
   "outputs": [],
   "source": [
    "#Normalizamos formato de campos de las columnas añadiendo la configuración final para todas las tablas\n",
    "\n",
    "meridiano18.drop(['pos_sex','pto_cat','media'],axis='columns',inplace=True) #damos de baja columnas\n",
    "\n",
    "#Generamos las columnas restanetes\n",
    "meridiano18['pais']=generador.generador(len(meridiano18))\n",
    "meridiano18['carrera']=generador.carrera(len(meridiano18),'meridiano')\n",
    "meridiano18['anio']=generador.anio(len(meridiano18),'2018')\n",
    "\n",
    "meridiano18=meridiano18.reindex(columns=['posicion','tiempo','dif','nombre','club','pais','sex','cat','carrera','anio']) #Reorganizamos"
   ]
  },
  {
   "cell_type": "code",
   "execution_count": 103,
   "metadata": {},
   "outputs": [],
   "source": [
    "meridiano18.to_csv('../data/meridiano/meridano2018mod.csv', index=False, index_label=False)  #Cargamos el csv"
   ]
  },
  {
   "cell_type": "markdown",
   "metadata": {},
   "source": [
    "#Meridiano19"
   ]
  },
  {
   "cell_type": "code",
   "execution_count": 104,
   "metadata": {},
   "outputs": [],
   "source": [
    "out_file = io.StringIO()\n",
    "\n",
    "with open('../data/meridiano/meridano2019.csv', encoding='utf8') as file:\n",
    "    out_file.write(file.read().replace('\"\"', '|').replace('\"', \"\"))\n",
    "\n",
    "out_file.seek(0)\n",
    "\n",
    "meridiano19 = pd.read_csv(out_file, on_bad_lines='skip',delimiter = ',', quotechar='|')"
   ]
  },
  {
   "cell_type": "code",
   "execution_count": 105,
   "metadata": {},
   "outputs": [],
   "source": [
    "meridiano19.drop(['0','1','2','3','4','6','7','12','14'],axis='columns',inplace=True)       #Damos de baja las columnas que no queremos\n",
    "\n",
    "columns=['posicion','nombre','club','pos_sex','cat','tiempo','media','dif']\n",
    "meridiano19.set_axis(columns,axis='columns',inplace=True)       #Modificamos los nombres de las columnas\n",
    "\n",
    "##Enla columna categoria hay varios datos por lo que procedemos a trocerarla en 3, la propia de cat y la de sex y pto_cat. Para ello generamos un regex e iteramos\n",
    "limpiar=meridiano19['cat']      #creamos una serie para iterarla y modificar datos\n",
    "final=[]\n",
    "final2=[]\n",
    "cate=[]\n",
    "for i in limpiar:\n",
    "    i=i.upper()\n",
    "    masc=re.findall('M$',i)\n",
    "    fem=re.findall('F$',i)\n",
    "    puesto=re.findall('^\\d',i)\n",
    "    cat1=re.findall('[A-Z]{3}',i)\n",
    "    cat2=re.findall('[A-Z]{3}\\-[A-Z]\\d+',i)\n",
    "    \n",
    "    if puesto:\n",
    "        final2.append(\"\".join(puesto))\n",
    "        \n",
    "    if cat2:\n",
    "        cate.append(\"\".join(cat2))\n",
    "    elif cat1:\n",
    "        cate.append(\"\".join(cat1))\n",
    "        \n",
    "    if masc:\n",
    "        final.append(\"\".join(masc))\n",
    "    elif fem:\n",
    "        final.append(\"\".join(fem))\n",
    "        \n",
    "meridiano19['sex']=final\n",
    "meridiano19['pto_cat']=final2\n",
    "meridiano19['cat']=cate\n",
    "\n",
    "meridiano19=meridiano19.reindex(columns=['posicion','tiempo','dif','nombre','club','sex','pos_sex','cat','pto_cat','media'])  #Reordenamos las columnas"
   ]
  },
  {
   "cell_type": "code",
   "execution_count": 106,
   "metadata": {},
   "outputs": [],
   "source": [
    "#Para nomalizar el dato de los clubs lo pasamos a mayuscula\n",
    "for i in range(len(meridiano19.club)):\n",
    "    meridiano19.club[i]=str(meridiano19.club[i].upper())"
   ]
  },
  {
   "cell_type": "code",
   "execution_count": 107,
   "metadata": {},
   "outputs": [
    {
     "data": {
      "text/plain": [
       "array(['SENIOR', 'VET-A', 'VET-B', 'VET-C'], dtype=object)"
      ]
     },
     "execution_count": 107,
     "metadata": {},
     "output_type": "execute_result"
    }
   ],
   "source": [
    "#creamos una columna de categoria en base a los rangos de edad y la colocamos\n",
    "meridiano19['cat']=meridiano19['cat']\n",
    "\n",
    "for i in range(len(meridiano19.cat)):\n",
    "    if meridiano19.cat[i]=='SEN' or meridiano19.cat[i]=='JUN':\n",
    "        meridiano19.cat[i]='SENIOR'\n",
    "    elif meridiano19.cat[i]=='VET-M40':\n",
    "        meridiano19.cat[i]='VET-A'\n",
    "    elif meridiano19.cat[i]=='VET-M50':\n",
    "        meridiano19.cat[i]='VET-B'\n",
    "    else:\n",
    "        meridiano19.cat[i]='VET-C'\n",
    "        \n",
    "    #Quitamos los - de la columna club por 'N/D'\n",
    "    if meridiano19.club[i]=='-':\n",
    "        meridiano19.club[i]='N/D'   \n",
    "        \n",
    "\n",
    "meridiano19.cat.unique()"
   ]
  },
  {
   "cell_type": "code",
   "execution_count": 108,
   "metadata": {},
   "outputs": [],
   "source": [
    "#Normalizamos formato de campos de las columnas añadiendo la configuración final para todas las tablas\n",
    "\n",
    "meridiano19.drop(['pos_sex','pto_cat','media'],axis='columns',inplace=True) #damos de baja columnas\n",
    "\n",
    "#Generamos las columnas restanetes\n",
    "meridiano19['pais']=generador.generador(len(meridiano19))\n",
    "meridiano19['carrera']=generador.carrera(len(meridiano19),'meridiano')\n",
    "meridiano19['anio']=generador.anio(len(meridiano19),'2019')\n",
    "\n",
    "meridiano19=meridiano19.reindex(columns=['posicion','tiempo','dif','nombre','club','pais','sex','cat','carrera','anio']) #Reorganizamos"
   ]
  },
  {
   "cell_type": "code",
   "execution_count": 109,
   "metadata": {},
   "outputs": [],
   "source": [
    "meridiano19.to_csv('../data/meridiano/meridano2019mod.csv', index=False, index_label=False)        #Cargamos el csv"
   ]
  },
  {
   "cell_type": "markdown",
   "metadata": {},
   "source": [
    "#Meridiano20"
   ]
  },
  {
   "cell_type": "code",
   "execution_count": 110,
   "metadata": {},
   "outputs": [],
   "source": [
    "out_file = io.StringIO()\n",
    "\n",
    "with open('../data/meridiano/meridano2020.csv', encoding='utf8') as file:\n",
    "    out_file.write(file.read().replace('\"\"', '|').replace('\"', \"\"))\n",
    "\n",
    "out_file.seek(0)\n",
    "\n",
    "meridiano20 = pd.read_csv(out_file, on_bad_lines='skip',delimiter = ',', quotechar='|')"
   ]
  },
  {
   "cell_type": "code",
   "execution_count": 111,
   "metadata": {},
   "outputs": [],
   "source": [
    "meridiano20.drop(['0','1','2','3','4','6','7','12','14'],axis='columns',inplace=True)       #Damos de baja las columnas que no queremos\n",
    "columns=['posicion','nombre','club','pos_sex','cat','tiempo','media','dif']\n",
    "meridiano20.set_axis(columns,axis='columns',inplace=True)       #Modificamos los nombres de las columnas\n",
    "\n",
    "\n",
    "##Enla columna categoria hay varios datos por lo que procedemos a trocerarla en 3, la propia de cat y la de sex y pto_cat. Para ello generamos un regex e iteramos\n",
    "limpiar=meridiano20['cat']#creamos una serie para iterarla y modificar datos\n",
    "final=[]\n",
    "final2=[]\n",
    "cate=[]\n",
    "for i in limpiar:\n",
    "    i=i.upper()\n",
    "    masc=re.findall('M$',i)\n",
    "    fem=re.findall('F$',i)\n",
    "    puesto=re.findall('^\\d',i)\n",
    "    cat1=re.findall('[A-Z]{3}',i)\n",
    "    cat2=re.findall('[A-Z]{3}\\-[A-Z]\\d+',i)\n",
    "    \n",
    "    if puesto:\n",
    "        final2.append(\"\".join(puesto))\n",
    "        \n",
    "    if cat2:\n",
    "        cate.append(\"\".join(cat2))\n",
    "    elif cat1:\n",
    "        cate.append(\"\".join(cat1))\n",
    "        \n",
    "    if masc:\n",
    "        final.append(\"\".join(masc))\n",
    "    elif fem:\n",
    "        final.append(\"\".join(fem))\n",
    "        \n",
    "meridiano20['sex']=final\n",
    "meridiano20['pto_cat']=final2\n",
    "meridiano20['cat']=cate\n",
    "\n",
    "meridiano20=meridiano20.reindex(columns=['posicion','tiempo','dif','nombre','club','sex','pos_sex','cat','pto_cat','media'])  #Reordenamos las columnas"
   ]
  },
  {
   "cell_type": "code",
   "execution_count": 112,
   "metadata": {},
   "outputs": [],
   "source": [
    "#Para nomalizar el dato de los clubs lo pasamos a mayuscula\n",
    "for i in range(len(meridiano20.club)):\n",
    "    meridiano20.club[i]=str(meridiano20.club[i].upper())"
   ]
  },
  {
   "cell_type": "code",
   "execution_count": 113,
   "metadata": {},
   "outputs": [
    {
     "data": {
      "text/plain": [
       "array(['SENIOR', 'VET-A', 'VET-B', 'VET-C'], dtype=object)"
      ]
     },
     "execution_count": 113,
     "metadata": {},
     "output_type": "execute_result"
    }
   ],
   "source": [
    "#creamos una columna de categoria en base a los rangos de edad y la colocamos\n",
    "meridiano20['cat']=meridiano20['cat']\n",
    "\n",
    "for i in range(len(meridiano20.cat)):\n",
    "    if meridiano20.cat[i]=='SEN' or meridiano20.cat[i]=='JUN':\n",
    "        meridiano20.cat[i]='SENIOR'\n",
    "    elif meridiano20.cat[i]=='VET-M40':\n",
    "        meridiano20.cat[i]='VET-A'\n",
    "    elif meridiano20.cat[i]=='VET-M50':\n",
    "        meridiano20.cat[i]='VET-B'\n",
    "    else:\n",
    "        meridiano20.cat[i]='VET-C'\n",
    "        \n",
    "        \n",
    "    #Quitamos los - de la columna club por 'N/D'\n",
    "    if meridiano20.club[i]=='-':\n",
    "        meridiano20.club[i]='N/D'   \n",
    "        \n",
    "\n",
    "meridiano20.cat.unique()"
   ]
  },
  {
   "cell_type": "code",
   "execution_count": null,
   "metadata": {},
   "outputs": [],
   "source": []
  },
  {
   "cell_type": "code",
   "execution_count": 114,
   "metadata": {},
   "outputs": [],
   "source": [
    "#Normalizamos formato de campos de las columnas añadiendo la configuración final para todas las tablas\n",
    "\n",
    "meridiano20.drop(['pos_sex','pto_cat','media'],axis='columns',inplace=True) #damos de baja columnas\n",
    "\n",
    "#Generamos las columnas restanetes\n",
    "meridiano20['pais']=generador.generador(len(meridiano20))\n",
    "meridiano20['carrera']=generador.carrera(len(meridiano20),'meridiano')\n",
    "meridiano20['anio']=generador.anio(len(meridiano20),'2020')\n",
    "\n",
    "meridiano20=meridiano20.reindex(columns=['posicion','tiempo','dif','nombre','club','pais','sex','cat','carrera','anio']) #Reorganizamos"
   ]
  },
  {
   "cell_type": "code",
   "execution_count": 115,
   "metadata": {},
   "outputs": [],
   "source": [
    "meridiano20.to_csv('../data/meridiano/meridano2020mod.csv', index=False, index_label=False)        #Cargamos el csv"
   ]
  },
  {
   "cell_type": "code",
   "execution_count": 116,
   "metadata": {},
   "outputs": [],
   "source": [
    "meridiano=pd.concat([meridiano17,meridiano18,meridiano19,meridiano20])"
   ]
  },
  {
   "cell_type": "code",
   "execution_count": 117,
   "metadata": {},
   "outputs": [],
   "source": [
    "meridiano.to_csv('../data/meridiano/meridiano.csv', index=False,index_label=False)"
   ]
  }
 ],
 "metadata": {
  "kernelspec": {
   "display_name": "Python 3.9.12 ('base')",
   "language": "python",
   "name": "python3"
  },
  "language_info": {
   "codemirror_mode": {
    "name": "ipython",
    "version": 3
   },
   "file_extension": ".py",
   "mimetype": "text/x-python",
   "name": "python",
   "nbconvert_exporter": "python",
   "pygments_lexer": "ipython3",
   "version": "3.9.12"
  },
  "orig_nbformat": 4,
  "vscode": {
   "interpreter": {
    "hash": "1551151381e773f0aad4d7f5dd85d557969b09f98d8f1647db122078155b292b"
   }
  }
 },
 "nbformat": 4,
 "nbformat_minor": 2
}
