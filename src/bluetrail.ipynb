{
 "cells": [
  {
   "cell_type": "code",
   "execution_count": 1,
   "metadata": {},
   "outputs": [],
   "source": [
    "\n",
    "import pandas as pd\n",
    "import numpy as np\n",
    "import re\n",
    "import io\n",
    "import warnings\n",
    "import generador\n",
    "pd.set_option('display.max_columns',None)\n",
    "pd.set_option('display.max_rows',None)\n",
    "warnings.filterwarnings('ignore')"
   ]
  },
  {
   "cell_type": "markdown",
   "metadata": {},
   "source": [
    "#Blue2017"
   ]
  },
  {
   "cell_type": "code",
   "execution_count": 2,
   "metadata": {},
   "outputs": [],
   "source": [
    "out_file = io.StringIO()\n",
    "\n",
    "with open('../data/bluetrail/tenerifebluetrail17.csv', encoding='utf8') as file:\n",
    "    out_file.write(file.read().replace('\"\"', '|').replace('\"', \"\"))\n",
    "\n",
    "out_file.seek(0)\n",
    "\n",
    "blue17 = pd.read_csv(out_file, delimiter = ',', quotechar='|')"
   ]
  },
  {
   "cell_type": "code",
   "execution_count": 3,
   "metadata": {},
   "outputs": [],
   "source": [
    "columns=['posicion','dorsal','nombre','unnamed1','pos_sex','cat2','cat','club','tiempo','media','dif','unnamed3','sex','otros']\n",
    "\n",
    "blue17.set_axis(columns,axis='columns', inplace='True')     #modificamos el nombre de las columnas\n",
    "\n",
    "blue17.drop(['unnamed1','unnamed1','unnamed3','cat2','dorsal'],axis='columns',inplace=True)  #Eliminamos columnas sobrantes\n",
    "\n",
    "blue17=blue17.reindex(columns=['posicion', 'tiempo', 'dif', 'nombre', 'sex','cat','pos_sex','media','otros']) #recolocamos las columnas\n",
    "\n",
    "\n",
    "\n"
   ]
  },
  {
   "cell_type": "code",
   "execution_count": 4,
   "metadata": {},
   "outputs": [],
   "source": [
    "#blue17.info()   #comprobamos que no hay nulos\n",
    "\n",
    "#quitamos las letras de las posiciones\n",
    "\n",
    "pto_cat=[]\n",
    "for i in blue17.pos_sex:\n",
    "    i=str(i)\n",
    "    puesto=re.findall('\\d+',i)\n",
    "    if puesto:\n",
    "        pto_cat.append(\"\".join(puesto))\n",
    "        \n",
    "\n",
    "        \n",
    "blue17.pos_sex=pto_cat        "
   ]
  },
  {
   "cell_type": "code",
   "execution_count": 5,
   "metadata": {},
   "outputs": [
    {
     "data": {
      "text/plain": [
       "array(['VETA', 'SEN', 'VETB', 'VETC'], dtype=object)"
      ]
     },
     "execution_count": 5,
     "metadata": {},
     "output_type": "execute_result"
    }
   ],
   "source": [
    "blue17.cat.unique()"
   ]
  },
  {
   "cell_type": "code",
   "execution_count": 6,
   "metadata": {},
   "outputs": [],
   "source": [
    "for i in range(len(blue17.cat)):\n",
    "    if blue17.cat[i]=='SEN':\n",
    "        blue17.cat[i]='SENIOR'\n",
    "    elif blue17.cat[i]=='VETA':\n",
    "        blue17.cat[i]='VET-A'\n",
    "    elif blue17.cat[i]=='VETB':\n",
    "        blue17.cat[i]='VET-B'\n",
    "    elif blue17.cat[i]=='VETC':\n",
    "        blue17.cat[i]='VET-C'"
   ]
  },
  {
   "cell_type": "code",
   "execution_count": 7,
   "metadata": {},
   "outputs": [
    {
     "name": "stdout",
     "output_type": "stream",
     "text": [
      "<class 'pandas.core.frame.DataFrame'>\n",
      "RangeIndex: 235 entries, 0 to 234\n",
      "Data columns (total 9 columns):\n",
      " #   Column    Non-Null Count  Dtype \n",
      "---  ------    --------------  ----- \n",
      " 0   posicion  235 non-null    int64 \n",
      " 1   tiempo    235 non-null    object\n",
      " 2   dif       235 non-null    object\n",
      " 3   nombre    235 non-null    object\n",
      " 4   sex       235 non-null    object\n",
      " 5   cat       235 non-null    object\n",
      " 6   pos_sex   235 non-null    object\n",
      " 7   media     235 non-null    object\n",
      " 8   otros     235 non-null    object\n",
      "dtypes: int64(1), object(8)\n",
      "memory usage: 16.6+ KB\n"
     ]
    }
   ],
   "source": [
    "blue17.info()"
   ]
  },
  {
   "cell_type": "code",
   "execution_count": 8,
   "metadata": {},
   "outputs": [],
   "source": [
    "#Normalizamos formato de campos de las columnas añadiendo la configuración final para todas las tablas\n",
    "\n",
    "blue17.drop(['pos_sex','media','otros'],axis='columns',inplace=True)  #Damos de baja las columnas que no vamos a usar de forma definitiva\n",
    "\n",
    "#Generamos las columnas restanetes\n",
    "blue17['club']=generador.generador(len(blue17))\n",
    "blue17['pais']=generador.generador(len(blue17))\n",
    "blue17['carrera']=generador.carrera(len(blue17),'bluetrail')\n",
    "blue17['anio']=generador.anio(len(blue17),'2017')"
   ]
  },
  {
   "cell_type": "code",
   "execution_count": 9,
   "metadata": {},
   "outputs": [],
   "source": [
    "blue17=blue17.reindex(columns=['posicion','tiempo','dif','nombre','club','pais','sex','cat','carrera','anio']) #Reorganizamos"
   ]
  },
  {
   "cell_type": "code",
   "execution_count": 10,
   "metadata": {},
   "outputs": [],
   "source": [
    "blue17.to_csv('../data/bluetrail/bluetrail17mod.csv', index='False', index_label=False)  #Cargamos el csv"
   ]
  },
  {
   "cell_type": "markdown",
   "metadata": {},
   "source": [
    "#Blue2018"
   ]
  },
  {
   "cell_type": "code",
   "execution_count": 11,
   "metadata": {},
   "outputs": [],
   "source": [
    "out_file = io.StringIO()\n",
    "\n",
    "with open('../data/bluetrail/bluetrail2018.csv', encoding='utf8') as file:\n",
    "    out_file.write(file.read().replace('\"\"', '|').replace('\"', \"\"))\n",
    "\n",
    "out_file.seek(0)\n",
    "\n",
    "blue18 = pd.read_csv(out_file, delimiter = ',', quotechar='|')"
   ]
  },
  {
   "cell_type": "code",
   "execution_count": 12,
   "metadata": {},
   "outputs": [],
   "source": [
    "columns=['posicion', 'tiempo', 'nombre','link','pais','sex','rango_edad']\n",
    "blue18.set_axis(columns,axis='columns', inplace='True')     #modificamos el nombre de las columnas\n",
    "\n",
    "blue18.drop(['link'],axis='columns',inplace=True)           #Eliminamos columnas sobrantes\n",
    "\n"
   ]
  },
  {
   "cell_type": "code",
   "execution_count": 13,
   "metadata": {},
   "outputs": [
    {
     "data": {
      "text/plain": [
       "array(['M', 'F'], dtype=object)"
      ]
     },
     "execution_count": 13,
     "metadata": {},
     "output_type": "execute_result"
    }
   ],
   "source": [
    "#normalizamos los datos de sexo dejando las mujeres con F y los hombres con H\n",
    "\n",
    "for i in range(len(blue18.sex)):\n",
    "    if 'women' in blue18.sex[i]:\n",
    "        blue18.sex[i]='F'\n",
    "    elif 'men' in blue18.sex[i]:\n",
    "        blue18.sex[i]='M'\n",
    "    else:\n",
    "        blue18.sex[i]='unkwnow'    \n",
    "        \n",
    "blue18.sex.unique()  "
   ]
  },
  {
   "cell_type": "code",
   "execution_count": 14,
   "metadata": {},
   "outputs": [
    {
     "data": {
      "text/plain": [
       "array(['VET-A', 'SENIOR', 'VET-B', 'VET-C'], dtype=object)"
      ]
     },
     "execution_count": 14,
     "metadata": {},
     "output_type": "execute_result"
    }
   ],
   "source": [
    "#creamos una columna de categoria en base a los rangos de edad y la colocamos\n",
    "blue18['cat']=blue18['rango_edad']\n",
    "\n",
    "for i in range(len(blue18.rango_edad)):\n",
    "    if blue18.rango_edad[i]=='20-34' or blue18.rango_edad[i]=='35-39':\n",
    "        blue18.cat[i]='SENIOR'\n",
    "    elif blue18.rango_edad[i]=='40-44' or blue18.rango_edad[i]=='45-49':\n",
    "        blue18.cat[i]='VET-A'\n",
    "    elif blue18.rango_edad[i]=='50-54' or blue18.rango_edad[i]=='55-59':\n",
    "        blue18.cat[i]='VET-B'\n",
    "    elif blue18.rango_edad[i]=='60-64' or blue18.rango_edad[i]=='65-69':\n",
    "        blue18.cat[i]='VET-C'\n",
    "        \n",
    "blue18=blue18.reindex(columns=['posicion','tiempo','nombre','pais','sex','cat','rango_edad'])\n",
    "\n",
    "blue18.cat.unique()\n",
    "        "
   ]
  },
  {
   "cell_type": "code",
   "execution_count": 15,
   "metadata": {},
   "outputs": [
    {
     "name": "stdout",
     "output_type": "stream",
     "text": [
      "<class 'pandas.core.frame.DataFrame'>\n",
      "RangeIndex: 222 entries, 0 to 221\n",
      "Data columns (total 7 columns):\n",
      " #   Column      Non-Null Count  Dtype \n",
      "---  ------      --------------  ----- \n",
      " 0   posicion    222 non-null    int64 \n",
      " 1   tiempo      222 non-null    object\n",
      " 2   nombre      222 non-null    object\n",
      " 3   pais        222 non-null    object\n",
      " 4   sex         222 non-null    object\n",
      " 5   cat         222 non-null    object\n",
      " 6   rango_edad  222 non-null    object\n",
      "dtypes: int64(1), object(6)\n",
      "memory usage: 12.3+ KB\n"
     ]
    }
   ],
   "source": [
    "blue18.info()"
   ]
  },
  {
   "cell_type": "code",
   "execution_count": 16,
   "metadata": {},
   "outputs": [],
   "source": [
    "#Normalizamos formato de campos de las columnas añadiendo la configuración final para todas las tablas\n",
    "\n",
    "blue18.drop(['rango_edad'],axis='columns',inplace=True) #damos de baja columnas\n",
    "\n",
    "#Generamos las columnas restanetes\n",
    "blue18['dif']=generador.dif(len(blue18))\n",
    "blue18['club']=generador.generador(len(blue18))\n",
    "blue18['pais']=generador.generador(len(blue18))\n",
    "blue18['carrera']=generador.carrera(len(blue18),'bluetrail')\n",
    "blue18['anio']=generador.anio(len(blue18),'2018')\n",
    "\n",
    "blue18=blue18.reindex(columns=['posicion','tiempo','dif','nombre','club','pais','sex','cat','carrera','anio']) #Reorganizamos"
   ]
  },
  {
   "cell_type": "code",
   "execution_count": 17,
   "metadata": {},
   "outputs": [],
   "source": [
    "\n",
    "blue18.to_csv('../data/bluetrail/bluetrail18mod.csv', index='False', index_label=False)  #Cargamos el csv"
   ]
  },
  {
   "cell_type": "markdown",
   "metadata": {},
   "source": [
    "#Blue19"
   ]
  },
  {
   "cell_type": "code",
   "execution_count": 18,
   "metadata": {},
   "outputs": [],
   "source": [
    "out_file = io.StringIO()\n",
    "\n",
    "with open('../data/bluetrail/bluetrail2019.csv', encoding='utf8') as file:\n",
    "    out_file.write(file.read().replace('\"\"', '|').replace('\"', \"\"))\n",
    "\n",
    "out_file.seek(0)\n",
    "\n",
    "blue19 = pd.read_csv(out_file, delimiter = ',', quotechar='|')"
   ]
  },
  {
   "cell_type": "code",
   "execution_count": 19,
   "metadata": {},
   "outputs": [],
   "source": [
    "columns=['posicion', 'tiempo', 'nombre','link','pais','sex','rango_edad','otros']\n",
    "blue19.set_axis(columns,axis='columns', inplace='True')         #modificamos el nombre de las columnas\n",
    "\n",
    "blue19.drop(['link','otros'],axis='columns',inplace=True)       #Eliminamos columnas sobrantes\n",
    "\n"
   ]
  },
  {
   "cell_type": "code",
   "execution_count": 20,
   "metadata": {},
   "outputs": [
    {
     "data": {
      "text/plain": [
       "array(['M', 'F', 'unkwnow'], dtype=object)"
      ]
     },
     "execution_count": 20,
     "metadata": {},
     "output_type": "execute_result"
    }
   ],
   "source": [
    "#normalizamos los datos de sexo dejando las mujeres con F y los hombres con H\n",
    "\n",
    "for i in range(len(blue19.sex)):\n",
    "    if 'women' in blue19.sex[i]:\n",
    "        blue19.sex[i]='F'\n",
    "    elif 'men' in blue19.sex[i]:\n",
    "        blue19.sex[i]='M'\n",
    "    else:\n",
    "        blue19.sex[i]='unkwnow'  \n",
    "        \n",
    "blue19.sex.unique()"
   ]
  },
  {
   "cell_type": "code",
   "execution_count": 21,
   "metadata": {},
   "outputs": [
    {
     "data": {
      "text/plain": [
       "array(['40-44', '20-34', '35-39', '45-49', '50-54', '60-64', '55-59',\n",
       "       '70-74', '65-69', 'gender'], dtype=object)"
      ]
     },
     "execution_count": 21,
     "metadata": {},
     "output_type": "execute_result"
    }
   ],
   "source": [
    "blue19.rango_edad.unique()"
   ]
  },
  {
   "cell_type": "code",
   "execution_count": 22,
   "metadata": {},
   "outputs": [],
   "source": [
    "#creamos una columna de categoria en base a los rangos de edad y la colocamos\n",
    "blue19['cat']=blue19['rango_edad']\n",
    "\n",
    "for i in range(len(blue19.rango_edad)):\n",
    "    if blue19.rango_edad[i]=='20-34' or blue19.rango_edad[i]=='35-39':\n",
    "        blue19.cat[i]='SENIOR'\n",
    "    elif blue19.rango_edad[i]=='40-44' or blue19.rango_edad[i]=='45-49':\n",
    "        blue19.cat[i]='VET-A'\n",
    "    elif blue19.rango_edad[i]=='50-54' or blue19.rango_edad[i]=='55-59':\n",
    "        blue19.cat[i]='VET-B'\n",
    "    else:\n",
    "        blue19.cat[i]='VET-C'\n",
    "        \n",
    "blue19=blue19.reindex(columns=['posicion','tiempo','nombre','pais','sex','cat','rango_edad'])"
   ]
  },
  {
   "cell_type": "code",
   "execution_count": 23,
   "metadata": {},
   "outputs": [],
   "source": [
    "blue19.cat.unique()\n",
    "\n",
    "#Damos de baja el nulo\n",
    "blue19.nombre[blue19.nombre.isna()]\n",
    "\n",
    "blue19.drop(350,axis=0,inplace=True)\n",
    "\n",
    "blue19.reset_index(drop=True, inplace=True)"
   ]
  },
  {
   "cell_type": "code",
   "execution_count": 24,
   "metadata": {},
   "outputs": [
    {
     "name": "stdout",
     "output_type": "stream",
     "text": [
      "<class 'pandas.core.frame.DataFrame'>\n",
      "RangeIndex: 354 entries, 0 to 353\n",
      "Data columns (total 7 columns):\n",
      " #   Column      Non-Null Count  Dtype \n",
      "---  ------      --------------  ----- \n",
      " 0   posicion    354 non-null    object\n",
      " 1   tiempo      354 non-null    object\n",
      " 2   nombre      354 non-null    object\n",
      " 3   pais        354 non-null    object\n",
      " 4   sex         354 non-null    object\n",
      " 5   cat         354 non-null    object\n",
      " 6   rango_edad  354 non-null    object\n",
      "dtypes: object(7)\n",
      "memory usage: 19.5+ KB\n"
     ]
    }
   ],
   "source": [
    "blue19.info()"
   ]
  },
  {
   "cell_type": "code",
   "execution_count": 25,
   "metadata": {},
   "outputs": [],
   "source": [
    "#Normalizamos formato de campos de las columnas añadiendo la configuración final para todas las tablas\n",
    "\n",
    "blue19.drop(['rango_edad'],axis='columns',inplace=True) #damos de baja columnas\n",
    "\n",
    "#Generamos las columnas restanetes\n",
    "blue19['dif']=generador.dif(len(blue19))\n",
    "blue19['club']=generador.generador(len(blue19))\n",
    "blue19['pais']=generador.generador(len(blue19))\n",
    "blue19['carrera']=generador.carrera(len(blue19),'bluetrail')\n",
    "blue19['anio']=generador.anio(len(blue19),'2019')\n",
    "\n",
    "blue19=blue19.reindex(columns=['posicion','tiempo','dif','nombre','club','pais','sex','cat','carrera','anio']) #Reorganizamos"
   ]
  },
  {
   "cell_type": "code",
   "execution_count": 26,
   "metadata": {},
   "outputs": [],
   "source": [
    "blue19.to_csv('../data/bluetrail/bluetrail19mod.csv', index='False', index_label=False)    #Cargamos el csv"
   ]
  },
  {
   "cell_type": "markdown",
   "metadata": {},
   "source": [
    "#Blue2021"
   ]
  },
  {
   "cell_type": "code",
   "execution_count": 27,
   "metadata": {},
   "outputs": [],
   "source": [
    "out_file = io.StringIO()\n",
    "\n",
    "with open('../data/bluetrail/bluetrail2021.csv', encoding='utf8') as file:\n",
    "    out_file.write(file.read().replace('\"\"', '|').replace('\"', \"\"))\n",
    "\n",
    "out_file.seek(0)\n",
    "\n",
    "blue21 = pd.read_csv(out_file, delimiter = ',', quotechar='|')"
   ]
  },
  {
   "cell_type": "code",
   "execution_count": 28,
   "metadata": {},
   "outputs": [],
   "source": [
    "columns=['posicion', 'tiempo', 'nombre','link','pais','sex','rango_edad']\n",
    "blue21.set_axis(columns,axis='columns', inplace='True')         #modificamos el nombre de las columnas\n",
    "\n",
    "blue21.drop(['link'],axis='columns',inplace=True)               #Eliminamos columnas sobrantes\n",
    "\n"
   ]
  },
  {
   "cell_type": "code",
   "execution_count": 29,
   "metadata": {},
   "outputs": [],
   "source": [
    "#normalizamos los datos de sexo dejando las mujeres con F y los hombres con H\n",
    "\n",
    "for i in range(len(blue21.sex)):\n",
    "    if 'women' in blue21.sex[i]:\n",
    "        blue21.sex[i]='F'\n",
    "    elif 'men' in blue21.sex[i]:\n",
    "        blue21.sex[i]='M'\n",
    "    else:\n",
    "        blue21.sex[i]='unkwnow' "
   ]
  },
  {
   "cell_type": "code",
   "execution_count": 30,
   "metadata": {},
   "outputs": [
    {
     "name": "stdout",
     "output_type": "stream",
     "text": [
      "<class 'pandas.core.frame.DataFrame'>\n",
      "RangeIndex: 244 entries, 0 to 243\n",
      "Data columns (total 6 columns):\n",
      " #   Column      Non-Null Count  Dtype \n",
      "---  ------      --------------  ----- \n",
      " 0   posicion    244 non-null    int64 \n",
      " 1   tiempo      244 non-null    object\n",
      " 2   nombre      244 non-null    object\n",
      " 3   pais        244 non-null    object\n",
      " 4   sex         244 non-null    object\n",
      " 5   rango_edad  244 non-null    object\n",
      "dtypes: int64(1), object(5)\n",
      "memory usage: 11.6+ KB\n"
     ]
    }
   ],
   "source": [
    "blue21.info()"
   ]
  },
  {
   "cell_type": "code",
   "execution_count": 31,
   "metadata": {},
   "outputs": [
    {
     "data": {
      "text/plain": [
       "array(['SENIOR', 'VET-A', 'VET-C', 'VET-B'], dtype=object)"
      ]
     },
     "execution_count": 31,
     "metadata": {},
     "output_type": "execute_result"
    }
   ],
   "source": [
    "#creamos una columna de categoria en base a los rangos de edad y la colocamos\n",
    "blue21['cat']=blue21['rango_edad']\n",
    "\n",
    "for i in range(len(blue21.rango_edad)):\n",
    "    if blue21.rango_edad[i]=='20-34' or blue21.rango_edad[i]=='35-39':\n",
    "        blue21.cat[i]='SENIOR'\n",
    "    elif blue21.rango_edad[i]=='40-44' or blue21.rango_edad[i]=='45-49':\n",
    "        blue21.cat[i]='VET-A'\n",
    "    elif blue21.rango_edad[i]=='50-54' or blue21.rango_edad[i]=='55-59':\n",
    "        blue21.cat[i]='VET-B'\n",
    "    else:\n",
    "        blue21.cat[i]='VET-C'\n",
    "        \n",
    "blue21=blue21.reindex(columns=['posicion','tiempo','nombre','pais','sex','cat','rango_edad'])\n",
    "\n",
    "blue21.cat.unique()"
   ]
  },
  {
   "cell_type": "code",
   "execution_count": 32,
   "metadata": {},
   "outputs": [],
   "source": [
    "#Normalizamos formato de campos de las columnas añadiendo la configuración final para todas las tablas\n",
    "\n",
    "blue21.drop(['rango_edad'],axis='columns',inplace=True) #damos de baja columnas\n",
    "\n",
    "#Generamos las columnas restanetes\n",
    "blue21['dif']=generador.dif(len(blue21))\n",
    "blue21['club']=generador.generador(len(blue21))\n",
    "blue21['pais']=generador.generador(len(blue21))\n",
    "blue21['carrera']=generador.carrera(len(blue21),'bluetrail')\n",
    "blue21['anio']=generador.anio(len(blue21),'2021')\n",
    "\n",
    "blue21=blue21.reindex(columns=['posicion','tiempo','dif','nombre','club','pais','sex','cat','carrera','anio']) #Reorganizamos"
   ]
  },
  {
   "cell_type": "code",
   "execution_count": 33,
   "metadata": {},
   "outputs": [],
   "source": [
    "blue21.to_csv('../data/bluetrail/bluetrail21mod.csv', index='False', index_label=False)    #Cargamos el csv"
   ]
  },
  {
   "cell_type": "markdown",
   "metadata": {},
   "source": [
    "#Blue22"
   ]
  },
  {
   "cell_type": "code",
   "execution_count": 34,
   "metadata": {},
   "outputs": [],
   "source": [
    "out_file = io.StringIO()\n",
    "\n",
    "with open('../data/bluetrail/bluetrail2022.csv', encoding='utf8') as file:\n",
    "    out_file.write(file.read().replace('\"\"', '|').replace('\"', \"\"))\n",
    "\n",
    "out_file.seek(0)\n",
    "\n",
    "blue22 = pd.read_csv(out_file, delimiter = ',', quotechar='|')"
   ]
  },
  {
   "cell_type": "code",
   "execution_count": 35,
   "metadata": {},
   "outputs": [],
   "source": [
    "columns=['posicion', 'tiempo', 'nombre','link','pais','sex','rango_edad']\n",
    "blue22.set_axis(columns,axis='columns', inplace='True')     #modificamos el nombre de las columnas\n",
    "\n",
    "blue22.drop(['link'],axis='columns',inplace=True)           #Eliminamos columnas sobrantes\n",
    "\n",
    "\n"
   ]
  },
  {
   "cell_type": "code",
   "execution_count": 36,
   "metadata": {},
   "outputs": [
    {
     "data": {
      "text/plain": [
       "array(['M', 'F'], dtype=object)"
      ]
     },
     "execution_count": 36,
     "metadata": {},
     "output_type": "execute_result"
    }
   ],
   "source": [
    "#normalizamos los datos de sexo dejando las mujeres con F y los hombres con H\n",
    "\n",
    "for i in range(len(blue22.sex)):\n",
    "    if 'mujeres' in blue22.sex[i]:\n",
    "        blue22.sex[i]='F'\n",
    "    elif 'hombres' in blue22.sex[i]:\n",
    "        blue22.sex[i]='M'\n",
    "    else:\n",
    "        blue22.sex[i]='unkwnow' \n",
    "        \n",
    "blue22.sex.unique()"
   ]
  },
  {
   "cell_type": "code",
   "execution_count": 37,
   "metadata": {},
   "outputs": [
    {
     "name": "stdout",
     "output_type": "stream",
     "text": [
      "<class 'pandas.core.frame.DataFrame'>\n",
      "RangeIndex: 183 entries, 0 to 182\n",
      "Data columns (total 6 columns):\n",
      " #   Column      Non-Null Count  Dtype \n",
      "---  ------      --------------  ----- \n",
      " 0   posicion    183 non-null    int64 \n",
      " 1   tiempo      183 non-null    object\n",
      " 2   nombre      183 non-null    object\n",
      " 3   pais        183 non-null    object\n",
      " 4   sex         183 non-null    object\n",
      " 5   rango_edad  183 non-null    object\n",
      "dtypes: int64(1), object(5)\n",
      "memory usage: 8.7+ KB\n"
     ]
    }
   ],
   "source": [
    "blue22.info()"
   ]
  },
  {
   "cell_type": "code",
   "execution_count": 38,
   "metadata": {},
   "outputs": [
    {
     "data": {
      "text/plain": [
       "array(['VET-A', 'SENIOR', 'VET-B', 'VET-C'], dtype=object)"
      ]
     },
     "execution_count": 38,
     "metadata": {},
     "output_type": "execute_result"
    }
   ],
   "source": [
    "#creamos una columna de categoria en base a los rangos de edad y la colocamos\n",
    "blue22['cat']=blue22['rango_edad']\n",
    "\n",
    "for i in range(len(blue22.rango_edad)):\n",
    "    if blue22.rango_edad[i]=='20-34' or blue22.rango_edad[i]=='35-39':\n",
    "        blue22.cat[i]='SENIOR'\n",
    "    elif blue22.rango_edad[i]=='40-44' or blue22.rango_edad[i]=='45-49':\n",
    "        blue22.cat[i]='VET-A'\n",
    "    elif blue22.rango_edad[i]=='50-54' or blue22.rango_edad[i]=='55-59':\n",
    "        blue22.cat[i]='VET-B'\n",
    "    else:\n",
    "        blue22.cat[i]='VET-C'\n",
    "        \n",
    "blue22=blue22.reindex(columns=['posicion','tiempo','nombre','pais','sex','cat','rango_edad'])\n",
    "\n",
    "blue22.cat.unique()"
   ]
  },
  {
   "cell_type": "code",
   "execution_count": 39,
   "metadata": {},
   "outputs": [],
   "source": [
    "#Normalizamos formato de campos de las columnas añadiendo la configuración final para todas las tablas\n",
    "\n",
    "blue22.drop(['rango_edad'],axis='columns',inplace=True) #damos de baja columnas\n",
    "\n",
    "#Generamos las columnas restanetes\n",
    "blue22['dif']=generador.dif(len(blue22))\n",
    "blue22['club']=generador.generador(len(blue22))\n",
    "blue22['pais']=generador.generador(len(blue22))\n",
    "blue22['carrera']=generador.carrera(len(blue22),'bluetrail')\n",
    "blue22['anio']=generador.anio(len(blue22),'2022')\n",
    "\n",
    "blue22=blue22.reindex(columns=['posicion','tiempo','dif','nombre','club','pais','sex','cat','carrera','anio']) #Reorganizamos"
   ]
  },
  {
   "cell_type": "code",
   "execution_count": 40,
   "metadata": {},
   "outputs": [],
   "source": [
    "blue22.to_csv('../data/bluetrail/bluetrail22mod.csv', index='False', index_label=False)    #Cargamos el csv"
   ]
  },
  {
   "cell_type": "code",
   "execution_count": 41,
   "metadata": {},
   "outputs": [],
   "source": [
    "bluetrail=pd.concat([blue17,blue18,blue19,blue21,blue22])"
   ]
  },
  {
   "cell_type": "code",
   "execution_count": 42,
   "metadata": {},
   "outputs": [],
   "source": [
    "bluetrail.to_csv('../data/bluetrail/bluetrail.csv',index=False,index_label=False)"
   ]
  }
 ],
 "metadata": {
  "kernelspec": {
   "display_name": "Python 3.9.12 ('base')",
   "language": "python",
   "name": "python3"
  },
  "language_info": {
   "codemirror_mode": {
    "name": "ipython",
    "version": 3
   },
   "file_extension": ".py",
   "mimetype": "text/x-python",
   "name": "python",
   "nbconvert_exporter": "python",
   "pygments_lexer": "ipython3",
   "version": "3.9.12"
  },
  "orig_nbformat": 4,
  "vscode": {
   "interpreter": {
    "hash": "1551151381e773f0aad4d7f5dd85d557969b09f98d8f1647db122078155b292b"
   }
  }
 },
 "nbformat": 4,
 "nbformat_minor": 2
}
