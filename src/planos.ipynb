{
 "cells": [
  {
   "cell_type": "markdown",
   "metadata": {},
   "source": [
    "#Codigo para generar gráficos"
   ]
  },
  {
   "cell_type": "code",
   "execution_count": 1,
   "metadata": {},
   "outputs": [],
   "source": [
    "import pylab as plt\n",
    "import seaborn as sns\n",
    "import pandas as pd\n",
    "import matplotlib.pyplot as plt"
   ]
  },
  {
   "cell_type": "code",
   "execution_count": 2,
   "metadata": {},
   "outputs": [],
   "source": [
    "blue=pd.read_csv('../data/bluetrail/bluetrail.csv')\n",
    "haria=pd.read_csv('../data/haria/haria_final.csv')\n",
    "meri=pd.read_csv('../data/meridiano/meridiano.csv')\n",
    "trans=pd.read_csv('../data/transvulcania/transvulcania.csv')\n",
    "utmb=pd.read_csv('../data/utmb/utmb.csv')"
   ]
  },
  {
   "cell_type": "code",
   "execution_count": 14,
   "metadata": {},
   "outputs": [],
   "source": [
    "total=pd.concat([blue,haria,meri,trans,utmb])"
   ]
  },
  {
   "cell_type": "code",
   "execution_count": 16,
   "metadata": {},
   "outputs": [],
   "source": [
    "total.to_csv('../data/total.csv', index=False,index_label='False')"
   ]
  },
  {
   "cell_type": "code",
   "execution_count": 17,
   "metadata": {},
   "outputs": [
    {
     "data": {
      "text/plain": [
       "<AxesSubplot:xlabel='sex', ylabel='count'>"
      ]
     },
     "execution_count": 17,
     "metadata": {},
     "output_type": "execute_result"
    },
    {
     "data": {
      "image/png": "[encoded data removed]",
      "text/plain": [
       "<Figure size 432x288 with 1 Axes>"
      ]
     },
     "metadata": {
      "needs_background": "light"
     },
     "output_type": "display_data"
    }
   ],
   "source": [
    "sns.countplot(x=total.sex, palette='Blues', hue=total.anio)"
   ]
  },
  {
   "cell_type": "code",
   "execution_count": 62,
   "metadata": {},
   "outputs": [],
   "source": [
    "mejores=total[(total.posicion<=10) & (total.carrera=='utmb') & (total.sex!='N/D')]\n",
    "\n",
    "mejores_muj_utmb=total[(total.posicion<=10) & (total.sex=='F') & (total.carrera=='utmb') & (total.sex!='N/D')]\n",
    "\n",
    "mejores_hom_utmb=total[(total.posicion<=10) & (total.sex=='M') & (total.carrera=='utmb') & (total.sex!='N/D')]"
   ]
  },
  {
   "cell_type": "code",
   "execution_count": 92,
   "metadata": {},
   "outputs": [],
   "source": [
    "hombre_1=total[(total.posicion==1) & (total.carrera=='utmb')]\n",
    "mujer_1=total[(total.sex=='F') & (total.carrera=='utmb') & (total.posicion<25)].head(5)"
   ]
  },
  {
   "cell_type": "code",
   "execution_count": 93,
   "metadata": {},
   "outputs": [
    {
     "data": {
      "text/html": [
       "<div>\n",
       "<style scoped>\n",
       "    .dataframe tbody tr th:only-of-type {\n",
       "        vertical-align: middle;\n",
       "    }\n",
       "\n",
       "    .dataframe tbody tr th {\n",
       "        vertical-align: top;\n",
       "    }\n",
       "\n",
       "    .dataframe thead th {\n",
       "        text-align: right;\n",
       "    }\n",
       "</style>\n",
       "<table border=\"1\" class=\"dataframe\">\n",
       "  <thead>\n",
       "    <tr style=\"text-align: right;\">\n",
       "      <th></th>\n",
       "      <th>posicion</th>\n",
       "      <th>tiempo</th>\n",
       "      <th>dif</th>\n",
       "      <th>nombre</th>\n",
       "      <th>club</th>\n",
       "      <th>pais</th>\n",
       "      <th>sex</th>\n",
       "      <th>cat</th>\n",
       "      <th>carrera</th>\n",
       "      <th>anio</th>\n",
       "    </tr>\n",
       "  </thead>\n",
       "  <tbody>\n",
       "    <tr>\n",
       "      <th>3485</th>\n",
       "      <td>21</td>\n",
       "      <td>24:34:26</td>\n",
       "      <td>04:15:19</td>\n",
       "      <td>Courtney DAUWALTER</td>\n",
       "      <td>SALOMON</td>\n",
       "      <td>Estados Unidos</td>\n",
       "      <td>F</td>\n",
       "      <td>SENIOR</td>\n",
       "      <td>utmb</td>\n",
       "      <td>2019</td>\n",
       "    </tr>\n",
       "    <tr>\n",
       "      <th>5041</th>\n",
       "      <td>21</td>\n",
       "      <td>24:34:26</td>\n",
       "      <td>04:15:19</td>\n",
       "      <td>Courtney DAUWALTER</td>\n",
       "      <td>SALOMON</td>\n",
       "      <td>Estados Unidos</td>\n",
       "      <td>F</td>\n",
       "      <td>SENIOR</td>\n",
       "      <td>utmb</td>\n",
       "      <td>2020</td>\n",
       "    </tr>\n",
       "    <tr>\n",
       "      <th>6583</th>\n",
       "      <td>7</td>\n",
       "      <td>22:30:55</td>\n",
       "      <td>01:44:55</td>\n",
       "      <td>Courtney DAUWALTER</td>\n",
       "      <td>SALOMON</td>\n",
       "      <td>Estados Unidos</td>\n",
       "      <td>F</td>\n",
       "      <td>SENIOR</td>\n",
       "      <td>utmb</td>\n",
       "      <td>2021</td>\n",
       "    </tr>\n",
       "    <tr>\n",
       "      <th>6592</th>\n",
       "      <td>16</td>\n",
       "      <td>24:09:42</td>\n",
       "      <td>03:23:42</td>\n",
       "      <td>Camille BRUYAS</td>\n",
       "      <td>SALOMON FRANCE</td>\n",
       "      <td>Francia</td>\n",
       "      <td>F</td>\n",
       "      <td>SENIOR</td>\n",
       "      <td>utmb</td>\n",
       "      <td>2021</td>\n",
       "    </tr>\n",
       "    <tr>\n",
       "      <th>6599</th>\n",
       "      <td>23</td>\n",
       "      <td>25:08:30</td>\n",
       "      <td>04:22:30</td>\n",
       "      <td>Mimmi KOTKA</td>\n",
       "      <td>LA SPORTIVA</td>\n",
       "      <td>Suecia</td>\n",
       "      <td>F</td>\n",
       "      <td>VET-A</td>\n",
       "      <td>utmb</td>\n",
       "      <td>2021</td>\n",
       "    </tr>\n",
       "  </tbody>\n",
       "</table>\n",
       "</div>"
      ],
      "text/plain": [
       "      posicion    tiempo       dif              nombre            club  \\\n",
       "3485        21  24:34:26  04:15:19  Courtney DAUWALTER         SALOMON   \n",
       "5041        21  24:34:26  04:15:19  Courtney DAUWALTER         SALOMON   \n",
       "6583         7  22:30:55  01:44:55  Courtney DAUWALTER         SALOMON   \n",
       "6592        16  24:09:42  03:23:42      Camille BRUYAS  SALOMON FRANCE   \n",
       "6599        23  25:08:30  04:22:30         Mimmi KOTKA     LA SPORTIVA   \n",
       "\n",
       "                pais sex     cat carrera  anio  \n",
       "3485  Estados Unidos   F  SENIOR    utmb  2019  \n",
       "5041  Estados Unidos   F  SENIOR    utmb  2020  \n",
       "6583  Estados Unidos   F  SENIOR    utmb  2021  \n",
       "6592         Francia   F  SENIOR    utmb  2021  \n",
       "6599          Suecia   F   VET-A    utmb  2021  "
      ]
     },
     "execution_count": 93,
     "metadata": {},
     "output_type": "execute_result"
    }
   ],
   "source": [
    "mujer_1"
   ]
  },
  {
   "cell_type": "code",
   "execution_count": 89,
   "metadata": {},
   "outputs": [
    {
     "data": {
      "text/html": [
       "<div>\n",
       "<style scoped>\n",
       "    .dataframe tbody tr th:only-of-type {\n",
       "        vertical-align: middle;\n",
       "    }\n",
       "\n",
       "    .dataframe tbody tr th {\n",
       "        vertical-align: top;\n",
       "    }\n",
       "\n",
       "    .dataframe thead th {\n",
       "        text-align: right;\n",
       "    }\n",
       "</style>\n",
       "<table border=\"1\" class=\"dataframe\">\n",
       "  <thead>\n",
       "    <tr style=\"text-align: right;\">\n",
       "      <th></th>\n",
       "      <th>posicion</th>\n",
       "      <th>tiempo</th>\n",
       "      <th>dif</th>\n",
       "      <th>nombre</th>\n",
       "      <th>club</th>\n",
       "      <th>pais</th>\n",
       "      <th>sex</th>\n",
       "      <th>cat</th>\n",
       "      <th>carrera</th>\n",
       "      <th>anio</th>\n",
       "    </tr>\n",
       "  </thead>\n",
       "  <tbody>\n",
       "    <tr>\n",
       "      <th>0</th>\n",
       "      <td>1</td>\n",
       "      <td>19:01:54</td>\n",
       "      <td>00:00:00</td>\n",
       "      <td>François D'HAENE</td>\n",
       "      <td>SALOMON</td>\n",
       "      <td>Francia</td>\n",
       "      <td>M</td>\n",
       "      <td>SENIOR</td>\n",
       "      <td>utmb</td>\n",
       "      <td>2017</td>\n",
       "    </tr>\n",
       "    <tr>\n",
       "      <th>1687</th>\n",
       "      <td>1</td>\n",
       "      <td>20:44:16</td>\n",
       "      <td>00:00:00</td>\n",
       "      <td>Xavier THEVENARD</td>\n",
       "      <td>NONE</td>\n",
       "      <td>Francia</td>\n",
       "      <td>M</td>\n",
       "      <td>SENIOR</td>\n",
       "      <td>utmb</td>\n",
       "      <td>2018</td>\n",
       "    </tr>\n",
       "    <tr>\n",
       "      <th>3465</th>\n",
       "      <td>1</td>\n",
       "      <td>20:19:07</td>\n",
       "      <td>00:00:00</td>\n",
       "      <td>Pau CAPELL</td>\n",
       "      <td>THE NORTH FACE</td>\n",
       "      <td>España</td>\n",
       "      <td>M</td>\n",
       "      <td>SENIOR</td>\n",
       "      <td>utmb</td>\n",
       "      <td>2019</td>\n",
       "    </tr>\n",
       "    <tr>\n",
       "      <th>5021</th>\n",
       "      <td>1</td>\n",
       "      <td>20:19:07</td>\n",
       "      <td>00:00:00</td>\n",
       "      <td>Pau CAPELL</td>\n",
       "      <td>THE NORTH FACE</td>\n",
       "      <td>España</td>\n",
       "      <td>M</td>\n",
       "      <td>SENIOR</td>\n",
       "      <td>utmb</td>\n",
       "      <td>2020</td>\n",
       "    </tr>\n",
       "    <tr>\n",
       "      <th>6577</th>\n",
       "      <td>1</td>\n",
       "      <td>20:46:00</td>\n",
       "      <td>00:00:00</td>\n",
       "      <td>François D'HAENE</td>\n",
       "      <td>CMSAB</td>\n",
       "      <td>Francia</td>\n",
       "      <td>M</td>\n",
       "      <td>SENIOR</td>\n",
       "      <td>utmb</td>\n",
       "      <td>2021</td>\n",
       "    </tr>\n",
       "    <tr>\n",
       "      <th>8098</th>\n",
       "      <td>1</td>\n",
       "      <td>19:49:30</td>\n",
       "      <td>00:00:00</td>\n",
       "      <td>Kilian JORNET BURGADA</td>\n",
       "      <td>NNORMAL</td>\n",
       "      <td>España</td>\n",
       "      <td>M</td>\n",
       "      <td>SENIOR</td>\n",
       "      <td>utmb</td>\n",
       "      <td>2022</td>\n",
       "    </tr>\n",
       "  </tbody>\n",
       "</table>\n",
       "</div>"
      ],
      "text/plain": [
       "      posicion    tiempo       dif                 nombre            club  \\\n",
       "0            1  19:01:54  00:00:00       François D'HAENE         SALOMON   \n",
       "1687         1  20:44:16  00:00:00       Xavier THEVENARD            NONE   \n",
       "3465         1  20:19:07  00:00:00             Pau CAPELL  THE NORTH FACE   \n",
       "5021         1  20:19:07  00:00:00             Pau CAPELL  THE NORTH FACE   \n",
       "6577         1  20:46:00  00:00:00       François D'HAENE           CMSAB   \n",
       "8098         1  19:49:30  00:00:00  Kilian JORNET BURGADA         NNORMAL   \n",
       "\n",
       "         pais sex     cat carrera  anio  \n",
       "0     Francia   M  SENIOR    utmb  2017  \n",
       "1687  Francia   M  SENIOR    utmb  2018  \n",
       "3465   España   M  SENIOR    utmb  2019  \n",
       "5021   España   M  SENIOR    utmb  2020  \n",
       "6577  Francia   M  SENIOR    utmb  2021  \n",
       "8098   España   M  SENIOR    utmb  2022  "
      ]
     },
     "execution_count": 89,
     "metadata": {},
     "output_type": "execute_result"
    }
   ],
   "source": [
    "hombre_1"
   ]
  },
  {
   "cell_type": "code",
   "execution_count": null,
   "metadata": {},
   "outputs": [],
   "source": []
  }
 ],
 "metadata": {
  "kernelspec": {
   "display_name": "Python 3.9.12 ('base')",
   "language": "python",
   "name": "python3"
  },
  "language_info": {
   "codemirror_mode": {
    "name": "ipython",
    "version": 3
   },
   "file_extension": ".py",
   "mimetype": "text/x-python",
   "name": "python",
   "nbconvert_exporter": "python",
   "pygments_lexer": "ipython3",
   "version": "3.9.12"
  },
  "orig_nbformat": 4,
  "vscode": {
   "interpreter": {
    "hash": "1551151381e773f0aad4d7f5dd85d557969b09f98d8f1647db122078155b292b"
   }
  }
 },
 "nbformat": 4,
 "nbformat_minor": 2
}
