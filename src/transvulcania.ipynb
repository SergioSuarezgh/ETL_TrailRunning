{
 "cells": [
  {
   "cell_type": "code",
   "execution_count": 88,
   "metadata": {},
   "outputs": [],
   "source": [
    "import pandas as pd\n",
    "import numpy as np\n",
    "import re\n",
    "import io\n",
    "import warnings\n",
    "import generador\n",
    "pd.set_option('display.max_columns',None)\n",
    "pd.set_option('display.max_rows',None)\n",
    "warnings.filterwarnings('ignore')\n"
   ]
  },
  {
   "cell_type": "code",
   "execution_count": 89,
   "metadata": {},
   "outputs": [],
   "source": [
    "paises=pd.read_excel('../data/paisess.xlsx')\n",
    "pasar_nombres=pd.read_excel('../data/paises.xlsx')"
   ]
  },
  {
   "cell_type": "markdown",
   "metadata": {},
   "source": [
    "#Transvulcania17"
   ]
  },
  {
   "cell_type": "code",
   "execution_count": 90,
   "metadata": {},
   "outputs": [],
   "source": [
    "vulca17=pd.read_excel('../data/transvulcania/transvulcania_2017.xlsx')"
   ]
  },
  {
   "cell_type": "code",
   "execution_count": 91,
   "metadata": {},
   "outputs": [],
   "source": [
    "vulca17.drop(['Dorsal', 'Unnamed: 4'], axis='columns', inplace=True)   #Damos de baja las columnas que no queremos\n",
    "\n",
    "\n",
    "#Limipiamos la columna de puestos Categ donde se mezclan dos datos el puesto y la categoria y lo dejamos solo con la categoria\n",
    "puestos=[]\n",
    "for i in vulca17['Puesto Categ.']:\n",
    "    puesto=re.findall('[a-zA-Z]+',i)\n",
    "    \n",
    "    if puesto:\n",
    "        puestos.append(\"\".join(puesto))\n",
    "vulca17['Puesto Categ.']=puestos\n",
    "\n",
    "\n",
    "#Los datos de tiempo vienen mal  asi que los limpiamos y dejamos y dejamos solo datos de tiempo\n",
    "tiempos=[]\n",
    "for i in range(len(vulca17)):\n",
    "    vulca17['Tiempo'][i]=str(vulca17['Tiempo'][i])[:8]\n",
    "    vulca17['Diff.'][i]=str(vulca17['Diff.'][i])[:8]\n",
    "    \n",
    "    \n",
    "columns=['posicion', 'nombre','pais','pos_sex','cat','club','tiempo','media','dif']\n",
    "vulca17.set_axis(columns,axis='columns',inplace=True)       #Modificamos el nombre de las columnas\n",
    "\n",
    "vulca17=vulca17.reindex(columns=['posicion','tiempo','dif','nombre','club','pais','cat','pos_sex','media'])     #Reordenamos las columnas\n",
    "\n",
    "vulca17.drop(['cat'], axis='columns', inplace=True)         #Eliminamos la columna ya que no nos da ningunda info\n",
    "    "
   ]
  },
  {
   "cell_type": "code",
   "execution_count": 92,
   "metadata": {},
   "outputs": [],
   "source": [
    "nombres=[]\n",
    "for i in range(len(vulca17.nombre)):\n",
    "    nombre=str(vulca17.nombre[i]).split()\n",
    "    nombre[0]=nombre[0].lower().capitalize()\n",
    "    nombres.append(\" \".join(nombre))\n",
    "    \n",
    "    \n",
    "vulca17.nombre=nombres\n",
    "    "
   ]
  },
  {
   "cell_type": "code",
   "execution_count": 93,
   "metadata": {},
   "outputs": [
    {
     "name": "stdout",
     "output_type": "stream",
     "text": [
      "<class 'pandas.core.frame.DataFrame'>\n",
      "RangeIndex: 1487 entries, 0 to 1486\n",
      "Data columns (total 8 columns):\n",
      " #   Column    Non-Null Count  Dtype \n",
      "---  ------    --------------  ----- \n",
      " 0   posicion  1487 non-null   int64 \n",
      " 1   tiempo    1487 non-null   object\n",
      " 2   dif       1487 non-null   object\n",
      " 3   nombre    1487 non-null   object\n",
      " 4   club      1465 non-null   object\n",
      " 5   pais      1480 non-null   object\n",
      " 6   pos_sex   1487 non-null   object\n",
      " 7   media     1487 non-null   object\n",
      "dtypes: int64(1), object(7)\n",
      "memory usage: 93.1+ KB\n",
      "<class 'pandas.core.frame.DataFrame'>\n",
      "RangeIndex: 1487 entries, 0 to 1486\n",
      "Data columns (total 8 columns):\n",
      " #   Column    Non-Null Count  Dtype \n",
      "---  ------    --------------  ----- \n",
      " 0   posicion  1487 non-null   int64 \n",
      " 1   tiempo    1487 non-null   object\n",
      " 2   dif       1487 non-null   object\n",
      " 3   nombre    1487 non-null   object\n",
      " 4   club      1487 non-null   object\n",
      " 5   pais      1487 non-null   object\n",
      " 6   pos_sex   1487 non-null   object\n",
      " 7   media     1487 non-null   object\n",
      "dtypes: int64(1), object(7)\n",
      "memory usage: 93.1+ KB\n"
     ]
    }
   ],
   "source": [
    "#Cumplimentamos los nulos\n",
    "vulca17.info()\n",
    "vulca17.club.fillna(value='N/D', inplace=True)\n",
    "vulca17.pais.fillna(value='N/D', inplace=True)\n",
    "vulca17.info()"
   ]
  },
  {
   "cell_type": "code",
   "execution_count": 94,
   "metadata": {},
   "outputs": [],
   "source": [
    "#Normalizamos el nombre de los países con el resto\n",
    "#generador.paises(vulca17.pais,paises,'largo','pais')\n",
    "\n",
    "for i in range(len(vulca17.pais)):\n",
    "    for j in paises['largo']:\n",
    "        if str(j) in vulca17.pais[i]:\n",
    "            vulca17.pais[i]= list(paises.pais[paises['largo']==j])[0]"
   ]
  },
  {
   "cell_type": "code",
   "execution_count": 95,
   "metadata": {},
   "outputs": [],
   "source": [
    "#Normalizamos formato de campos de las columnas añadiendo la configuración final para todas las tablas\n",
    "\n",
    "vulca17.drop(['pos_sex','media'],axis='columns',inplace=True) #damos de baja columnas\n",
    "\n",
    "#Generamos las columnas restanetes\n",
    "vulca17['sex']=generador.generador(len(vulca17))\n",
    "vulca17['cat']=generador.generador(len(vulca17))\n",
    "vulca17['carrera']=generador.carrera(len(vulca17),'transvulcania')\n",
    "vulca17['anio']=generador.anio(len(vulca17),'2017')\n",
    "\n",
    "vulca17=vulca17.reindex(columns=['posicion','tiempo','dif','nombre','club','pais','sex','cat','carrera','anio']) #Reorganizamos"
   ]
  },
  {
   "cell_type": "code",
   "execution_count": 96,
   "metadata": {},
   "outputs": [
    {
     "data": {
      "text/html": [
       "<div>\n",
       "<style scoped>\n",
       "    .dataframe tbody tr th:only-of-type {\n",
       "        vertical-align: middle;\n",
       "    }\n",
       "\n",
       "    .dataframe tbody tr th {\n",
       "        vertical-align: top;\n",
       "    }\n",
       "\n",
       "    .dataframe thead th {\n",
       "        text-align: right;\n",
       "    }\n",
       "</style>\n",
       "<table border=\"1\" class=\"dataframe\">\n",
       "  <thead>\n",
       "    <tr style=\"text-align: right;\">\n",
       "      <th></th>\n",
       "      <th>posicion</th>\n",
       "      <th>tiempo</th>\n",
       "      <th>dif</th>\n",
       "      <th>nombre</th>\n",
       "      <th>club</th>\n",
       "      <th>pais</th>\n",
       "      <th>sex</th>\n",
       "      <th>cat</th>\n",
       "      <th>carrera</th>\n",
       "      <th>anio</th>\n",
       "    </tr>\n",
       "  </thead>\n",
       "  <tbody>\n",
       "    <tr>\n",
       "      <th>1482</th>\n",
       "      <td>1483</td>\n",
       "      <td>16:34:26</td>\n",
       "      <td>09:32:22</td>\n",
       "      <td>Loren HARNETT</td>\n",
       "      <td>GOTRI ADVENTURE</td>\n",
       "      <td>Irlanda</td>\n",
       "      <td>N/D</td>\n",
       "      <td>N/D</td>\n",
       "      <td>transvulcania</td>\n",
       "      <td>2017</td>\n",
       "    </tr>\n",
       "    <tr>\n",
       "      <th>1483</th>\n",
       "      <td>1484</td>\n",
       "      <td>16:36:45</td>\n",
       "      <td>09:34:43</td>\n",
       "      <td>Jorge VELASCO</td>\n",
       "      <td>RUNNING</td>\n",
       "      <td>España</td>\n",
       "      <td>N/D</td>\n",
       "      <td>N/D</td>\n",
       "      <td>transvulcania</td>\n",
       "      <td>2017</td>\n",
       "    </tr>\n",
       "    <tr>\n",
       "      <th>1484</th>\n",
       "      <td>1485</td>\n",
       "      <td>16:37:15</td>\n",
       "      <td>09:35:12</td>\n",
       "      <td>Antonio VICENTE DIAZ RODRIGUEZ</td>\n",
       "      <td>ARISTA</td>\n",
       "      <td>España</td>\n",
       "      <td>N/D</td>\n",
       "      <td>N/D</td>\n",
       "      <td>transvulcania</td>\n",
       "      <td>2017</td>\n",
       "    </tr>\n",
       "    <tr>\n",
       "      <th>1485</th>\n",
       "      <td>1486</td>\n",
       "      <td>16:38:44</td>\n",
       "      <td>09:36:41</td>\n",
       "      <td>Marcus RÖMER</td>\n",
       "      <td>TEAM TRICK-REISEN</td>\n",
       "      <td>Alemania</td>\n",
       "      <td>N/D</td>\n",
       "      <td>N/D</td>\n",
       "      <td>transvulcania</td>\n",
       "      <td>2017</td>\n",
       "    </tr>\n",
       "    <tr>\n",
       "      <th>1486</th>\n",
       "      <td>1487</td>\n",
       "      <td>16:47:04</td>\n",
       "      <td>09:45:01</td>\n",
       "      <td>Julian ALBERTO AHUMADA BETIN</td>\n",
       "      <td>PIMPOPS - TEAM</td>\n",
       "      <td>España</td>\n",
       "      <td>N/D</td>\n",
       "      <td>N/D</td>\n",
       "      <td>transvulcania</td>\n",
       "      <td>2017</td>\n",
       "    </tr>\n",
       "  </tbody>\n",
       "</table>\n",
       "</div>"
      ],
      "text/plain": [
       "      posicion    tiempo       dif                          nombre  \\\n",
       "1482      1483  16:34:26  09:32:22                   Loren HARNETT   \n",
       "1483      1484  16:36:45  09:34:43                   Jorge VELASCO   \n",
       "1484      1485  16:37:15  09:35:12  Antonio VICENTE DIAZ RODRIGUEZ   \n",
       "1485      1486  16:38:44  09:36:41                    Marcus RÖMER   \n",
       "1486      1487  16:47:04  09:45:01    Julian ALBERTO AHUMADA BETIN   \n",
       "\n",
       "                   club      pais  sex  cat        carrera  anio  \n",
       "1482    GOTRI ADVENTURE   Irlanda  N/D  N/D  transvulcania  2017  \n",
       "1483            RUNNING    España  N/D  N/D  transvulcania  2017  \n",
       "1484             ARISTA    España  N/D  N/D  transvulcania  2017  \n",
       "1485  TEAM TRICK-REISEN  Alemania  N/D  N/D  transvulcania  2017  \n",
       "1486     PIMPOPS - TEAM    España  N/D  N/D  transvulcania  2017  "
      ]
     },
     "execution_count": 96,
     "metadata": {},
     "output_type": "execute_result"
    }
   ],
   "source": [
    "vulca17.tail()"
   ]
  },
  {
   "cell_type": "code",
   "execution_count": 97,
   "metadata": {},
   "outputs": [],
   "source": [
    "vulca17.to_csv('../data/transvulcania/transvulcania_2017mod.xlsx', index=False)  #Cargamos el csv"
   ]
  },
  {
   "cell_type": "markdown",
   "metadata": {},
   "source": [
    "#Transvulcania18"
   ]
  },
  {
   "cell_type": "code",
   "execution_count": 98,
   "metadata": {},
   "outputs": [],
   "source": [
    "out_file = io.StringIO()\n",
    "\n",
    "with open('../data/transvulcania/transvulcania2018.csv', encoding='utf8') as file:\n",
    "    out_file.write(file.read().replace('\"\"', '|').replace('\"', \"\"))\n",
    "\n",
    "out_file.seek(0)\n",
    "\n",
    "vulca18 = pd.read_csv(out_file, on_bad_lines='skip',delimiter = ',', quotechar='|')"
   ]
  },
  {
   "cell_type": "code",
   "execution_count": 99,
   "metadata": {},
   "outputs": [],
   "source": [
    "vulca18.drop(['link_link__96ppl href'],axis='columns', inplace=True)  #Eliminamos columnas\n",
    "\n",
    "columns=['posicion','tiempo','nombre','pais','sex','rango_edad']\n",
    "vulca18.set_axis(columns,axis='columns', inplace=True)  #Modificamos nombres de columnas"
   ]
  },
  {
   "cell_type": "code",
   "execution_count": 100,
   "metadata": {},
   "outputs": [
    {
     "data": {
      "text/plain": [
       "array(['35-39', '20-34', '40-44', '45-49', '50-54', '55-59', '65-69',\n",
       "       '60-64'], dtype=object)"
      ]
     },
     "execution_count": 100,
     "metadata": {},
     "output_type": "execute_result"
    }
   ],
   "source": [
    "vulca18.rango_edad.unique()"
   ]
  },
  {
   "cell_type": "code",
   "execution_count": 101,
   "metadata": {},
   "outputs": [
    {
     "data": {
      "text/plain": [
       "array(['SENIOR', 'VET-A', 'VET-B', 'VET-C'], dtype=object)"
      ]
     },
     "execution_count": 101,
     "metadata": {},
     "output_type": "execute_result"
    }
   ],
   "source": [
    "#creamos una columna de categoria en base a los rangos de edad y la colocamos. \n",
    "#Aprovechamos y normalizamos el sexo tb\n",
    "\n",
    "vulca18['cat']=vulca18['rango_edad']\n",
    "\n",
    "for i in range(len(vulca18.rango_edad)):\n",
    "    if vulca18.rango_edad[i]=='20-34' or vulca18.rango_edad[i]=='35-39':\n",
    "        vulca18.cat[i]='SENIOR'\n",
    "    elif vulca18.rango_edad[i]=='40-44' or vulca18.rango_edad[i]=='45-49':\n",
    "        vulca18.cat[i]='VET-A'\n",
    "    elif vulca18.rango_edad[i]=='50-54' or vulca18.rango_edad[i]=='55-59':\n",
    "        vulca18.cat[i]='VET-B'\n",
    "    else:\n",
    "        vulca18.cat[i]='VET-C'\n",
    "        \n",
    "        \n",
    "    if vulca18.sex[i]=='women':  #nornalizamos el sexo con m\n",
    "        vulca18.sex[i]='F'\n",
    "    elif vulca18.sex[i]=='men':  \n",
    "        vulca18.sex[i]='M'\n",
    "        \n",
    "        \n",
    "        \n",
    "vulca18=vulca18.reindex(columns=['posicion','tiempo','nombre','pais','sex','cat','rango_edad'])\n",
    "\n",
    "vulca18.cat.unique()"
   ]
  },
  {
   "cell_type": "code",
   "execution_count": 102,
   "metadata": {},
   "outputs": [
    {
     "data": {
      "text/plain": [
       "Index(['posicion', 'tiempo', 'nombre', 'pais', 'sex', 'cat', 'rango_edad'], dtype='object')"
      ]
     },
     "execution_count": 102,
     "metadata": {},
     "output_type": "execute_result"
    }
   ],
   "source": [
    "vulca18.columns"
   ]
  },
  {
   "cell_type": "code",
   "execution_count": 103,
   "metadata": {},
   "outputs": [],
   "source": [
    "#generador.paises(vulca18.pais,pasar_nombres,'ingles','espagnol')\n",
    "\n",
    "for i in range(len(vulca18.pais)):\n",
    "    for j in pasar_nombres['ingles']:\n",
    "        if str(j) in vulca18.pais[i]:\n",
    "            vulca18.pais[i]= list(pasar_nombres.espagnol[pasar_nombres['ingles']==j])[0]"
   ]
  },
  {
   "cell_type": "code",
   "execution_count": 104,
   "metadata": {},
   "outputs": [],
   "source": [
    "#Normalizamos formato de campos de las columnas añadiendo la configuración final para todas las tablas\n",
    "\n",
    "vulca18.drop(['rango_edad'],axis='columns',inplace=True) #damos de baja columnas\n",
    "\n",
    "#Generamos las columnas restanetes\n",
    "vulca18['dif']=generador.dif(len(vulca18))\n",
    "vulca18['club']=generador.generador(len(vulca18))\n",
    "vulca18['carrera']=generador.carrera(len(vulca18),'transvulcania')\n",
    "vulca18['anio']=generador.anio(len(vulca18),'2018')\n",
    "\n",
    "vulca18=vulca18.reindex(columns=['posicion','tiempo','dif','nombre','club','pais','sex','cat','carrera','anio']) #Reorganizamos"
   ]
  },
  {
   "cell_type": "code",
   "execution_count": 105,
   "metadata": {},
   "outputs": [],
   "source": [
    "vulca18.to_csv('../data/transvulcania/transvulcania_2018mod.xlsx', index=False) #Cargamos el csv"
   ]
  },
  {
   "cell_type": "markdown",
   "metadata": {},
   "source": [
    "#Transvulcania19"
   ]
  },
  {
   "cell_type": "code",
   "execution_count": 106,
   "metadata": {},
   "outputs": [],
   "source": [
    "out_file = io.StringIO()\n",
    "\n",
    "with open('../data/transvulcania/transvulcania2019.csv', encoding='utf8') as file:\n",
    "    out_file.write(file.read().replace('\"\"', '|').replace('\"', \"\"))\n",
    "\n",
    "out_file.seek(0)\n",
    "\n",
    "vulca19 = pd.read_csv(out_file, on_bad_lines='skip',delimiter = ',', quotechar='|')"
   ]
  },
  {
   "cell_type": "code",
   "execution_count": 107,
   "metadata": {},
   "outputs": [],
   "source": [
    "vulca19.drop(['tablescraper-selected-row href','tablescraper-selected-row src','tablescraper-selected-row src 2'], axis='columns',inplace=True)\n",
    "\n",
    "columns=['posicion','nombre','tiempo','rango_edad','sex','pais']\n",
    "vulca19.set_axis(columns,axis='columns',inplace=True)\n",
    "\n",
    "vulca19=vulca19.reindex(columns=['posicion','tiempo','nombre','pais','sex','rango_edad'])"
   ]
  },
  {
   "cell_type": "code",
   "execution_count": 108,
   "metadata": {},
   "outputs": [
    {
     "data": {
      "text/plain": [
       "array([29, 28, 25, 30, 35, 36, 39, 37, 40, 38, 27, 41, 31, 21, 33, 23, 45,\n",
       "       24, 34, 32, 47, 43, 53, 49, 42, 46, 26, 50, 51, 44, 57, 52, 55, 48,\n",
       "       62, 54, 69, 56, 22, 58, 63, 61, 59, 19, 60, 64], dtype=int64)"
      ]
     },
     "execution_count": 108,
     "metadata": {},
     "output_type": "execute_result"
    }
   ],
   "source": [
    "vulca19.rango_edad.unique()"
   ]
  },
  {
   "cell_type": "code",
   "execution_count": 109,
   "metadata": {},
   "outputs": [
    {
     "data": {
      "text/plain": [
       "array(['SENIOR', 'VET-A', 'VET-B', 'VET-C'], dtype=object)"
      ]
     },
     "execution_count": 109,
     "metadata": {},
     "output_type": "execute_result"
    }
   ],
   "source": [
    "#creamos una columna de categoria en base a los rangos de edad y la colocamos. Tambien modificamos el sexo\n",
    "vulca19['cat']=vulca19['rango_edad']\n",
    "\n",
    "for i in range(len(vulca19.rango_edad)):\n",
    "    if int(vulca19.rango_edad[i])>=20 and int(vulca19.rango_edad[i])<40:\n",
    "        vulca19.cat[i]='SENIOR'\n",
    "    elif int(vulca19.rango_edad[i])>=40 and int(vulca19.rango_edad[i])<50:\n",
    "        vulca19.cat[i]='VET-A'\n",
    "    elif int(vulca19.rango_edad[i])>=50 and int(vulca19.rango_edad[i])<60:\n",
    "        vulca19.cat[i]='VET-B'\n",
    "    else:\n",
    "        vulca19.cat[i]='VET-C'\n",
    "        \n",
    "    if vulca19.sex[i]=='H':  #nornalizamos el sexo con m\n",
    "        vulca19.sex[i]='M'\n",
    "        \n",
    "vulca19=vulca19.reindex(columns=['posicion','tiempo','nombre','pais','sex','cat','rango_edad'])\n",
    "\n",
    "vulca19.cat.unique()"
   ]
  },
  {
   "cell_type": "code",
   "execution_count": 110,
   "metadata": {},
   "outputs": [],
   "source": [
    "\n",
    "#Normalizamos el nombre de los países con el resto\n",
    "for i in range(len(vulca19.pais)):\n",
    "    for j in paises['largo']:\n",
    "        if str(j) in vulca19.pais[i]:\n",
    "            vulca19.pais[i]= list(paises.pais[paises['largo']==j])[0]\n",
    "\n",
    "#Modificamos este valor que no se modifica al pasar la función\n",
    "vulca19.pais[vulca19.pais=='ES']='España'"
   ]
  },
  {
   "cell_type": "code",
   "execution_count": 111,
   "metadata": {},
   "outputs": [],
   "source": [
    "#Normalizamos formato de campos de las columnas añadiendo la configuración final para todas las tablas\n",
    "\n",
    "vulca19.drop(['rango_edad'],axis='columns',inplace=True) #damos de baja columnas\n",
    "\n",
    "#Generamos las columnas restanetes\n",
    "vulca19['dif']=generador.dif(len(vulca19))\n",
    "vulca19['club']=generador.generador(len(vulca19))\n",
    "vulca19['carrera']=generador.carrera(len(vulca19),'transvulcania')\n",
    "vulca19['anio']=generador.anio(len(vulca19),'2019')\n",
    "\n",
    "vulca19=vulca19.reindex(columns=['posicion','tiempo','dif','nombre','club','pais','sex','cat','carrera','anio']) #Reorganizamos"
   ]
  },
  {
   "cell_type": "code",
   "execution_count": 112,
   "metadata": {},
   "outputs": [],
   "source": [
    "vulca19.to_csv('../data/transvulcania/transvulcania_2019mod.xlsx', index=False) #Cargamos el csv"
   ]
  },
  {
   "cell_type": "code",
   "execution_count": 113,
   "metadata": {},
   "outputs": [
    {
     "data": {
      "text/html": [
       "<div>\n",
       "<style scoped>\n",
       "    .dataframe tbody tr th:only-of-type {\n",
       "        vertical-align: middle;\n",
       "    }\n",
       "\n",
       "    .dataframe tbody tr th {\n",
       "        vertical-align: top;\n",
       "    }\n",
       "\n",
       "    .dataframe thead th {\n",
       "        text-align: right;\n",
       "    }\n",
       "</style>\n",
       "<table border=\"1\" class=\"dataframe\">\n",
       "  <thead>\n",
       "    <tr style=\"text-align: right;\">\n",
       "      <th></th>\n",
       "      <th>posicion</th>\n",
       "      <th>tiempo</th>\n",
       "      <th>dif</th>\n",
       "      <th>nombre</th>\n",
       "      <th>club</th>\n",
       "      <th>pais</th>\n",
       "      <th>sex</th>\n",
       "      <th>cat</th>\n",
       "      <th>carrera</th>\n",
       "      <th>anio</th>\n",
       "    </tr>\n",
       "  </thead>\n",
       "  <tbody>\n",
       "    <tr>\n",
       "      <th>1482</th>\n",
       "      <td>1483</td>\n",
       "      <td>16:34:26</td>\n",
       "      <td>09:32:22</td>\n",
       "      <td>Loren HARNETT</td>\n",
       "      <td>GOTRI ADVENTURE</td>\n",
       "      <td>Irlanda</td>\n",
       "      <td>N/D</td>\n",
       "      <td>N/D</td>\n",
       "      <td>transvulcania</td>\n",
       "      <td>2017</td>\n",
       "    </tr>\n",
       "    <tr>\n",
       "      <th>1483</th>\n",
       "      <td>1484</td>\n",
       "      <td>16:36:45</td>\n",
       "      <td>09:34:43</td>\n",
       "      <td>Jorge VELASCO</td>\n",
       "      <td>RUNNING</td>\n",
       "      <td>España</td>\n",
       "      <td>N/D</td>\n",
       "      <td>N/D</td>\n",
       "      <td>transvulcania</td>\n",
       "      <td>2017</td>\n",
       "    </tr>\n",
       "    <tr>\n",
       "      <th>1484</th>\n",
       "      <td>1485</td>\n",
       "      <td>16:37:15</td>\n",
       "      <td>09:35:12</td>\n",
       "      <td>Antonio VICENTE DIAZ RODRIGUEZ</td>\n",
       "      <td>ARISTA</td>\n",
       "      <td>España</td>\n",
       "      <td>N/D</td>\n",
       "      <td>N/D</td>\n",
       "      <td>transvulcania</td>\n",
       "      <td>2017</td>\n",
       "    </tr>\n",
       "    <tr>\n",
       "      <th>1485</th>\n",
       "      <td>1486</td>\n",
       "      <td>16:38:44</td>\n",
       "      <td>09:36:41</td>\n",
       "      <td>Marcus RÖMER</td>\n",
       "      <td>TEAM TRICK-REISEN</td>\n",
       "      <td>Alemania</td>\n",
       "      <td>N/D</td>\n",
       "      <td>N/D</td>\n",
       "      <td>transvulcania</td>\n",
       "      <td>2017</td>\n",
       "    </tr>\n",
       "    <tr>\n",
       "      <th>1486</th>\n",
       "      <td>1487</td>\n",
       "      <td>16:47:04</td>\n",
       "      <td>09:45:01</td>\n",
       "      <td>Julian ALBERTO AHUMADA BETIN</td>\n",
       "      <td>PIMPOPS - TEAM</td>\n",
       "      <td>España</td>\n",
       "      <td>N/D</td>\n",
       "      <td>N/D</td>\n",
       "      <td>transvulcania</td>\n",
       "      <td>2017</td>\n",
       "    </tr>\n",
       "  </tbody>\n",
       "</table>\n",
       "</div>"
      ],
      "text/plain": [
       "      posicion    tiempo       dif                          nombre  \\\n",
       "1482      1483  16:34:26  09:32:22                   Loren HARNETT   \n",
       "1483      1484  16:36:45  09:34:43                   Jorge VELASCO   \n",
       "1484      1485  16:37:15  09:35:12  Antonio VICENTE DIAZ RODRIGUEZ   \n",
       "1485      1486  16:38:44  09:36:41                    Marcus RÖMER   \n",
       "1486      1487  16:47:04  09:45:01    Julian ALBERTO AHUMADA BETIN   \n",
       "\n",
       "                   club      pais  sex  cat        carrera  anio  \n",
       "1482    GOTRI ADVENTURE   Irlanda  N/D  N/D  transvulcania  2017  \n",
       "1483            RUNNING    España  N/D  N/D  transvulcania  2017  \n",
       "1484             ARISTA    España  N/D  N/D  transvulcania  2017  \n",
       "1485  TEAM TRICK-REISEN  Alemania  N/D  N/D  transvulcania  2017  \n",
       "1486     PIMPOPS - TEAM    España  N/D  N/D  transvulcania  2017  "
      ]
     },
     "execution_count": 113,
     "metadata": {},
     "output_type": "execute_result"
    }
   ],
   "source": [
    "vulca17.tail()"
   ]
  },
  {
   "cell_type": "markdown",
   "metadata": {},
   "source": [
    "#Transvulcania22"
   ]
  },
  {
   "cell_type": "code",
   "execution_count": 114,
   "metadata": {},
   "outputs": [],
   "source": [
    "out_file = io.StringIO()\n",
    "\n",
    "with open('../data/transvulcania/transvulcania2022.csv', encoding='utf8') as file:\n",
    "    out_file.write(file.read().replace('\"\"', '|').replace('\"', \"\"))\n",
    "\n",
    "out_file.seek(0)\n",
    "\n",
    "vulca22 = pd.read_csv(out_file, on_bad_lines='skip',delimiter = ',', quotechar='|')"
   ]
  },
  {
   "cell_type": "code",
   "execution_count": 115,
   "metadata": {},
   "outputs": [],
   "source": [
    "vulca22.drop(['rank-sup_rankSup__TNqsa','race-progressive-ranking_linkUnderline__9ReuG href','font-d-16 2'],axis='columns',inplace=True)        #Eliminamos columnas\n",
    "\n",
    "columns=['posicion','nombre','pais','rango_edad','club','pto_cat','pos_sex','tiempo','dif']\n",
    "vulca22.set_axis(columns,axis='columns',inplace=True)       #Modificamos nombres columnas\n",
    "\n",
    "#Las columnas posicion,pto_cat y pos_sex vienen en formato float y lo dejamos como str y con un número que tiene más sentido\n",
    "for i in range(len(vulca22)):\n",
    "    npos=str(vulca22.posicion[i]).find('.')\n",
    "    ncat=str(vulca22.pto_cat[i]).find('.')\n",
    "    nsex=str(vulca22.pos_sex[i]).find('.')\n",
    "    pos=str(vulca22.posicion[i])[:npos]\n",
    "    pos_cat=str(vulca22.pto_cat[i])[:ncat]\n",
    "    pos_sex=str(vulca22.pos_sex[i])[:nsex]\n",
    "    \n",
    "    posi=re.findall('\\d+',pos)\n",
    "    cati=re.findall('\\d+',pos_cat)\n",
    "    sexi=re.findall('\\d',pos_sex)\n",
    "    vulca22.posicion[i]=\"\".join(posi)\n",
    "    vulca22.pto_cat[i]=\"\".join(cati)\n",
    "    vulca22.pos_sex[i]=\"\".join(sexi)\n",
    "\n",
    "\n",
    "\n",
    "\n",
    "\n",
    "#La columnas rangos_edad viene con información de sexo y lo podemos en una columna a parte\n",
    "vulca22['sex']=vulca22['posicion']      #Creamos columna sex para meter valores\n",
    "for i in range(len(vulca22.rango_edad)):\n",
    "    vulca22['sex'][i]=str(vulca22.rango_edad[i])[-1]\n",
    "    vulca22.rango_edad[i]=str(vulca22.rango_edad[i])[:5]\n",
    "    \n"
   ]
  },
  {
   "cell_type": "code",
   "execution_count": 116,
   "metadata": {},
   "outputs": [
    {
     "data": {
      "text/plain": [
       "array(['20-34', '45-49', '35-39', '40-44', '50-54', '55-59', 'nan',\n",
       "       '60-64', '65-69', '70-74'], dtype=object)"
      ]
     },
     "execution_count": 116,
     "metadata": {},
     "output_type": "execute_result"
    }
   ],
   "source": [
    "vulca22.rango_edad.unique()"
   ]
  },
  {
   "cell_type": "code",
   "execution_count": 117,
   "metadata": {},
   "outputs": [
    {
     "data": {
      "text/plain": [
       "array(['SENIOR', 'VET-A', 'VET-B', 'VET-C'], dtype=object)"
      ]
     },
     "execution_count": 117,
     "metadata": {},
     "output_type": "execute_result"
    }
   ],
   "source": [
    "#creamos una columna de categoria en base a los rangos de edad y la colocamos\n",
    "vulca22['cat']=vulca22['rango_edad']\n",
    "\n",
    "for i in range(len(vulca22.rango_edad)):\n",
    "    \n",
    "    vulca22.club[i]=str(vulca22.club[i]).upper()\n",
    "    \n",
    "    if vulca22.rango_edad[i]=='20-34' or vulca22.rango_edad[i]=='35-39':\n",
    "        vulca22.cat[i]='SENIOR'\n",
    "    elif vulca22.rango_edad[i]=='40-44' or vulca22.rango_edad[i]=='45-49':\n",
    "        vulca22.cat[i]='VET-A'\n",
    "    elif vulca22.rango_edad[i]=='50-54' or vulca22.rango_edad[i]=='55-59':\n",
    "        vulca22.cat[i]='VET-B'\n",
    "        \n",
    "    else:\n",
    "        vulca22.cat[i]='VET-C'\n",
    "        \n",
    "\n",
    "\n",
    "vulca22.cat.unique()"
   ]
  },
  {
   "cell_type": "code",
   "execution_count": 118,
   "metadata": {},
   "outputs": [],
   "source": [
    "vulca22=vulca22.reindex(columns=['posicion','tiempo','dif','nombre','club','pais','sex','pos_sex','cat','pto_cat','rango_edad'])\n"
   ]
  },
  {
   "cell_type": "code",
   "execution_count": 119,
   "metadata": {},
   "outputs": [
    {
     "name": "stdout",
     "output_type": "stream",
     "text": [
      "<class 'pandas.core.frame.DataFrame'>\n",
      "Int64Index: 869 entries, 0 to 869\n",
      "Data columns (total 11 columns):\n",
      " #   Column      Non-Null Count  Dtype \n",
      "---  ------      --------------  ----- \n",
      " 0   posicion    869 non-null    object\n",
      " 1   tiempo      869 non-null    object\n",
      " 2   dif         869 non-null    object\n",
      " 3   nombre      869 non-null    object\n",
      " 4   club        869 non-null    object\n",
      " 5   pais        869 non-null    object\n",
      " 6   sex         869 non-null    object\n",
      " 7   pos_sex     869 non-null    object\n",
      " 8   cat         869 non-null    object\n",
      " 9   pto_cat     869 non-null    object\n",
      " 10  rango_edad  869 non-null    object\n",
      "dtypes: object(11)\n",
      "memory usage: 81.5+ KB\n"
     ]
    }
   ],
   "source": [
    "\n",
    "vulca22.pais.fillna(value='N/D')\n",
    "vulca22.dropna(inplace=True)\n",
    "\n",
    "\n",
    "vulca22.info()"
   ]
  },
  {
   "cell_type": "code",
   "execution_count": 120,
   "metadata": {},
   "outputs": [],
   "source": [
    "\n",
    "#Normalizamos formato de campos de las columnas añadiendo la configuración final para todas las tablas\n",
    "\n",
    "vulca22.drop(['pto_cat','pos_sex', 'rango_edad'],axis='columns',inplace=True) #damos de baja columnas\n",
    "\n",
    "#Generamos las columnas restanetes\n",
    "\n",
    "vulca22['carrera']=generador.carrera(len(vulca22),'transvulcania')\n",
    "vulca22['anio']=generador.anio(len(vulca22),'2022')\n",
    "\n",
    "vulca22=vulca22.reindex(columns=['posicion','tiempo','dif','nombre','club','pais','sex','cat','carrera','anio']) #Reorganizamos\n",
    "\n"
   ]
  },
  {
   "cell_type": "code",
   "execution_count": 121,
   "metadata": {},
   "outputs": [],
   "source": [
    "vulca22.reset_index(drop=True,inplace=True)"
   ]
  },
  {
   "cell_type": "code",
   "execution_count": 122,
   "metadata": {},
   "outputs": [],
   "source": [
    "#Normalizamos el nombre de los países con el resto\n",
    "for i in range(len(vulca22.pais)):\n",
    "    for j in paises['largo']:\n",
    "        if str(j) in vulca22.pais[i]:\n",
    "            vulca22.pais[i]= list(paises.pais[paises['largo']==j])[0]"
   ]
  },
  {
   "cell_type": "code",
   "execution_count": 123,
   "metadata": {},
   "outputs": [],
   "source": [
    "vulca22['carrera']=generador.carrera(len(vulca22),'transvulcania')\n",
    "vulca22['anio']=generador.anio(len(vulca22),'2022')"
   ]
  },
  {
   "cell_type": "code",
   "execution_count": 124,
   "metadata": {},
   "outputs": [],
   "source": [
    "vulca22.to_csv('../data/transvulcania/transvulcania_2022mod.xlsx', index=False) #Cargamos el csv"
   ]
  },
  {
   "cell_type": "code",
   "execution_count": 125,
   "metadata": {},
   "outputs": [],
   "source": [
    "transvulcania=pd.concat([vulca17,vulca18,vulca19,vulca22])"
   ]
  },
  {
   "cell_type": "code",
   "execution_count": 126,
   "metadata": {},
   "outputs": [],
   "source": [
    "transvulcania.to_csv('../data/transvulcania/transvulcania.csv',index=False, index_label=False)"
   ]
  }
 ],
 "metadata": {
  "kernelspec": {
   "display_name": "Python 3.9.12 ('base')",
   "language": "python",
   "name": "python3"
  },
  "language_info": {
   "codemirror_mode": {
    "name": "ipython",
    "version": 3
   },
   "file_extension": ".py",
   "mimetype": "text/x-python",
   "name": "python",
   "nbconvert_exporter": "python",
   "pygments_lexer": "ipython3",
   "version": "3.9.12"
  },
  "orig_nbformat": 4,
  "vscode": {
   "interpreter": {
    "hash": "1551151381e773f0aad4d7f5dd85d557969b09f98d8f1647db122078155b292b"
   }
  }
 },
 "nbformat": 4,
 "nbformat_minor": 2
}
