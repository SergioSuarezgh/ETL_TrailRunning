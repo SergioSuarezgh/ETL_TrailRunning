{
 "cells": [
  {
   "cell_type": "code",
   "execution_count": 63,
   "metadata": {},
   "outputs": [],
   "source": [
    "import pandas as pd\n",
    "import numpy as np\n",
    "import re\n",
    "import io\n",
    "import warnings\n",
    "import generador\n",
    "pd.set_option('display.max_columns',None)\n",
    "pd.set_option('display.max_rows',None)\n",
    "warnings.filterwarnings('ignore')"
   ]
  },
  {
   "cell_type": "markdown",
   "metadata": {},
   "source": [
    "#UTMB17"
   ]
  },
  {
   "cell_type": "code",
   "execution_count": 64,
   "metadata": {},
   "outputs": [],
   "source": [
    "utmb17=pd.read_csv('../data/utmb/utmb2017.csv')"
   ]
  },
  {
   "cell_type": "code",
   "execution_count": 65,
   "metadata": {},
   "outputs": [
    {
     "data": {
      "text/html": [
       "<div>\n",
       "<style scoped>\n",
       "    .dataframe tbody tr th:only-of-type {\n",
       "        vertical-align: middle;\n",
       "    }\n",
       "\n",
       "    .dataframe tbody tr th {\n",
       "        vertical-align: top;\n",
       "    }\n",
       "\n",
       "    .dataframe thead th {\n",
       "        text-align: right;\n",
       "    }\n",
       "</style>\n",
       "<table border=\"1\" class=\"dataframe\">\n",
       "  <thead>\n",
       "    <tr style=\"text-align: right;\">\n",
       "      <th></th>\n",
       "      <th>index</th>\n",
       "      <th>0</th>\n",
       "      <th>1</th>\n",
       "      <th>2</th>\n",
       "      <th>3</th>\n",
       "      <th>4</th>\n",
       "      <th>5</th>\n",
       "    </tr>\n",
       "  </thead>\n",
       "  <tbody>\n",
       "    <tr>\n",
       "      <th>0</th>\n",
       "      <td>0</td>\n",
       "      <td>NaN</td>\n",
       "      <td>NaN</td>\n",
       "      <td>NaN</td>\n",
       "      <td>NaN</td>\n",
       "      <td>NaN</td>\n",
       "      <td>NaN</td>\n",
       "    </tr>\n",
       "    <tr>\n",
       "      <th>1</th>\n",
       "      <td>1</td>\n",
       "      <td>4 - D'HAENE François\\nSalomon</td>\n",
       "      <td>SEH</td>\n",
       "      <td>1.0</td>\n",
       "      <td>19:01:54</td>\n",
       "      <td>00:00:00</td>\n",
       "      <td>Francia</td>\n",
       "    </tr>\n",
       "    <tr>\n",
       "      <th>2</th>\n",
       "      <td>2</td>\n",
       "      <td>2 - JORNET BURGADA Kilian\\nSalomon</td>\n",
       "      <td>SEH</td>\n",
       "      <td>2.0</td>\n",
       "      <td>19:16:59</td>\n",
       "      <td>00:15:05</td>\n",
       "      <td>España</td>\n",
       "    </tr>\n",
       "    <tr>\n",
       "      <th>3</th>\n",
       "      <td>3</td>\n",
       "      <td>14 - TOLLEFSON Tim\\nHoka</td>\n",
       "      <td>SEH</td>\n",
       "      <td>3.0</td>\n",
       "      <td>19:53:00</td>\n",
       "      <td>00:51:06</td>\n",
       "      <td>Estados Unidos</td>\n",
       "    </tr>\n",
       "    <tr>\n",
       "      <th>4</th>\n",
       "      <td>4</td>\n",
       "      <td>7 - THEVENARD Xavier\\nAsics</td>\n",
       "      <td>SEH</td>\n",
       "      <td>4.0</td>\n",
       "      <td>20:03:39</td>\n",
       "      <td>01:01:45</td>\n",
       "      <td>Francia</td>\n",
       "    </tr>\n",
       "  </tbody>\n",
       "</table>\n",
       "</div>"
      ],
      "text/plain": [
       "   index                                   0    1    2         3         4  \\\n",
       "0      0                                 NaN  NaN  NaN       NaN       NaN   \n",
       "1      1       4 - D'HAENE François\\nSalomon  SEH  1.0  19:01:54  00:00:00   \n",
       "2      2  2 - JORNET BURGADA Kilian\\nSalomon  SEH  2.0  19:16:59  00:15:05   \n",
       "3      3            14 - TOLLEFSON Tim\\nHoka  SEH  3.0  19:53:00  00:51:06   \n",
       "4      4         7 - THEVENARD Xavier\\nAsics  SEH  4.0  20:03:39  01:01:45   \n",
       "\n",
       "                5  \n",
       "0             NaN  \n",
       "1         Francia  \n",
       "2          España  \n",
       "3  Estados Unidos  \n",
       "4         Francia  "
      ]
     },
     "execution_count": 65,
     "metadata": {},
     "output_type": "execute_result"
    }
   ],
   "source": [
    "utmb17.head()"
   ]
  },
  {
   "cell_type": "code",
   "execution_count": 66,
   "metadata": {},
   "outputs": [],
   "source": [
    "utmb17.drop(0,axis=0,inplace=True)  #Eliminamos primera columna de nulos\n",
    "\n",
    "columns=['posicion','nombre','cat','pto_cat', 'tiempo','dif','pais']\n",
    "utmb17.set_axis(columns,axis='columns',inplace=True)  #Modificamos el nombre de las columnas"
   ]
  },
  {
   "cell_type": "code",
   "execution_count": 67,
   "metadata": {},
   "outputs": [
    {
     "data": {
      "text/plain": [
       "array(['SEH', 'V1H', 'V2H', 'V1F', 'SEF', 'ESH', 'V3H', 'V2F'],\n",
       "      dtype=object)"
      ]
     },
     "execution_count": 67,
     "metadata": {},
     "output_type": "execute_result"
    }
   ],
   "source": [
    "utmb17.cat.unique()"
   ]
  },
  {
   "cell_type": "code",
   "execution_count": 68,
   "metadata": {},
   "outputs": [
    {
     "data": {
      "text/plain": [
       "array(['SENIOR', 'VET-A', 'VET-B', 'VET-C'], dtype=object)"
      ]
     },
     "execution_count": 68,
     "metadata": {},
     "output_type": "execute_result"
    }
   ],
   "source": [
    "\n",
    "##Modificamos en un solo bucle la columna de cat separando el dato del texto y normalizando el contenido. Además quitamos el float de la columna pto_cat\n",
    "\n",
    "utmb17['sex']=utmb17.cat\n",
    "for i in range(1,len(utmb17)+1):\n",
    "    utmb17.sex[i]=str(utmb17.cat[i])[-1]        #rellenamos la columna sexo con el dato\n",
    "    utmb17.cat[i]=str(utmb17.cat[i])[:2]        #dejamos solo el dato de categoria en cat\n",
    "    utmb17.pto_cat[i]=str(utmb17.pto_cat[i])[0] #limpiamos pto_cat\n",
    "    \n",
    "    #Normalizamos los datos de sexo\n",
    "    if utmb17.sex[i]=='n':\n",
    "        utmb17.sex[i]='UNKWNOW'\n",
    "    elif utmb17.sex[i]=='H':\n",
    "        utmb17.sex[i]='M'\n",
    "    elif utmb17.sex[i]=='n':\n",
    "        utmb17.sex[i]='UNKWNOW'\n",
    "    \n",
    "    #Normalizamos datos en la columna cat\n",
    "    if utmb17.cat[i]=='SE' or utmb17.cat[i]=='ES':\n",
    "       utmb17.cat[i]='SENIOR'\n",
    "    elif utmb17.cat[i]=='V1':\n",
    "        utmb17.cat[i]='VET-A'\n",
    "    elif utmb17.cat[i]=='V2':\n",
    "        utmb17.cat[i]='VET-B'\n",
    "    elif utmb17.cat[i]=='V3' : \n",
    "        utmb17.cat[i]='VET-C'\n",
    "        \n",
    "    \n",
    "        \n",
    "utmb17.cat.unique()"
   ]
  },
  {
   "cell_type": "code",
   "execution_count": 69,
   "metadata": {},
   "outputs": [],
   "source": [
    "##Modificamos la columna de nombre donde esta el dato del dorsal, nombre y club y lo separamos en diferentes listas que luego metemos en las columnas correspondientes\n",
    "\n",
    "equipos=[]\n",
    "nombres=[]\n",
    "for i in utmb17.nombre:\n",
    "    try:\n",
    "        div=str(i).upper().split('\\n')\n",
    "        equipos.append(div[1].split('/')[0].upper())\n",
    "    except:\n",
    "        equipos.append('NONE')\n",
    "    \n",
    "    \n",
    "    #Normalizamos el nombre con la estructura Nombre APELLIDO\n",
    "    div_nom=div[0].split('-')\n",
    "    limpiar_nombre=div_nom[1].split()\n",
    "    temp=[]\n",
    "    temp.append(limpiar_nombre)\n",
    "    temp[0]=limpiar_nombre[-1].lower().capitalize()\n",
    "    temp[1:]=limpiar_nombre[:-1]\n",
    "    nombres.append(\" \".join(temp))\n",
    "    \n",
    "utmb17.nombre=nombres\n",
    "utmb17['club']=equipos\n",
    "\n"
   ]
  },
  {
   "cell_type": "code",
   "execution_count": 70,
   "metadata": {},
   "outputs": [
    {
     "data": {
      "text/html": [
       "<div>\n",
       "<style scoped>\n",
       "    .dataframe tbody tr th:only-of-type {\n",
       "        vertical-align: middle;\n",
       "    }\n",
       "\n",
       "    .dataframe tbody tr th {\n",
       "        vertical-align: top;\n",
       "    }\n",
       "\n",
       "    .dataframe thead th {\n",
       "        text-align: right;\n",
       "    }\n",
       "</style>\n",
       "<table border=\"1\" class=\"dataframe\">\n",
       "  <thead>\n",
       "    <tr style=\"text-align: right;\">\n",
       "      <th></th>\n",
       "      <th>posicion</th>\n",
       "      <th>nombre</th>\n",
       "      <th>cat</th>\n",
       "      <th>pto_cat</th>\n",
       "      <th>tiempo</th>\n",
       "      <th>dif</th>\n",
       "      <th>pais</th>\n",
       "      <th>sex</th>\n",
       "      <th>club</th>\n",
       "    </tr>\n",
       "  </thead>\n",
       "  <tbody>\n",
       "    <tr>\n",
       "      <th>1</th>\n",
       "      <td>1</td>\n",
       "      <td>François D'HAENE</td>\n",
       "      <td>SENIOR</td>\n",
       "      <td>1</td>\n",
       "      <td>19:01:54</td>\n",
       "      <td>00:00:00</td>\n",
       "      <td>Francia</td>\n",
       "      <td>M</td>\n",
       "      <td>SALOMON</td>\n",
       "    </tr>\n",
       "    <tr>\n",
       "      <th>2</th>\n",
       "      <td>2</td>\n",
       "      <td>Kilian JORNET BURGADA</td>\n",
       "      <td>SENIOR</td>\n",
       "      <td>2</td>\n",
       "      <td>19:16:59</td>\n",
       "      <td>00:15:05</td>\n",
       "      <td>España</td>\n",
       "      <td>M</td>\n",
       "      <td>SALOMON</td>\n",
       "    </tr>\n",
       "    <tr>\n",
       "      <th>3</th>\n",
       "      <td>3</td>\n",
       "      <td>Tim TOLLEFSON</td>\n",
       "      <td>SENIOR</td>\n",
       "      <td>3</td>\n",
       "      <td>19:53:00</td>\n",
       "      <td>00:51:06</td>\n",
       "      <td>Estados Unidos</td>\n",
       "      <td>M</td>\n",
       "      <td>HOKA</td>\n",
       "    </tr>\n",
       "    <tr>\n",
       "      <th>4</th>\n",
       "      <td>4</td>\n",
       "      <td>Xavier THEVENARD</td>\n",
       "      <td>SENIOR</td>\n",
       "      <td>4</td>\n",
       "      <td>20:03:39</td>\n",
       "      <td>01:01:45</td>\n",
       "      <td>Francia</td>\n",
       "      <td>M</td>\n",
       "      <td>ASICS</td>\n",
       "    </tr>\n",
       "    <tr>\n",
       "      <th>5</th>\n",
       "      <td>5</td>\n",
       "      <td>Jim WALMSLEY</td>\n",
       "      <td>SENIOR</td>\n",
       "      <td>5</td>\n",
       "      <td>20:11:38</td>\n",
       "      <td>01:09:44</td>\n",
       "      <td>Estados Unidos</td>\n",
       "      <td>M</td>\n",
       "      <td>HOKA</td>\n",
       "    </tr>\n",
       "    <tr>\n",
       "      <th>6</th>\n",
       "      <td>6</td>\n",
       "      <td>Pau CAPELL</td>\n",
       "      <td>SENIOR</td>\n",
       "      <td>6</td>\n",
       "      <td>20:12:43</td>\n",
       "      <td>01:10:49</td>\n",
       "      <td>España</td>\n",
       "      <td>M</td>\n",
       "      <td>THE NORTH FACE</td>\n",
       "    </tr>\n",
       "    <tr>\n",
       "      <th>7</th>\n",
       "      <td>7</td>\n",
       "      <td>Dylan BOWMAN</td>\n",
       "      <td>SENIOR</td>\n",
       "      <td>7</td>\n",
       "      <td>20:19:48</td>\n",
       "      <td>01:17:54</td>\n",
       "      <td>Estados Unidos</td>\n",
       "      <td>M</td>\n",
       "      <td>THE NORTH FACE</td>\n",
       "    </tr>\n",
       "    <tr>\n",
       "      <th>8</th>\n",
       "      <td>8</td>\n",
       "      <td>Gediminas GRINIUS</td>\n",
       "      <td>SENIOR</td>\n",
       "      <td>8</td>\n",
       "      <td>21:24:19</td>\n",
       "      <td>02:22:25</td>\n",
       "      <td>Lituania</td>\n",
       "      <td>M</td>\n",
       "      <td>VIBRAM</td>\n",
       "    </tr>\n",
       "    <tr>\n",
       "      <th>9</th>\n",
       "      <td>9</td>\n",
       "      <td>Zach MILLER</td>\n",
       "      <td>SENIOR</td>\n",
       "      <td>9</td>\n",
       "      <td>21:28:32</td>\n",
       "      <td>02:26:38</td>\n",
       "      <td>Estados Unidos</td>\n",
       "      <td>M</td>\n",
       "      <td>THE NORTH FACE</td>\n",
       "    </tr>\n",
       "    <tr>\n",
       "      <th>10</th>\n",
       "      <td>10</td>\n",
       "      <td>Jordi GAMITO</td>\n",
       "      <td>SENIOR</td>\n",
       "      <td>1</td>\n",
       "      <td>21:44:31</td>\n",
       "      <td>02:42:37</td>\n",
       "      <td>España</td>\n",
       "      <td>M</td>\n",
       "      <td>COMPRESSPORT</td>\n",
       "    </tr>\n",
       "  </tbody>\n",
       "</table>\n",
       "</div>"
      ],
      "text/plain": [
       "    posicion                 nombre     cat pto_cat    tiempo       dif  \\\n",
       "1          1       François D'HAENE  SENIOR       1  19:01:54  00:00:00   \n",
       "2          2  Kilian JORNET BURGADA  SENIOR       2  19:16:59  00:15:05   \n",
       "3          3          Tim TOLLEFSON  SENIOR       3  19:53:00  00:51:06   \n",
       "4          4       Xavier THEVENARD  SENIOR       4  20:03:39  01:01:45   \n",
       "5          5           Jim WALMSLEY  SENIOR       5  20:11:38  01:09:44   \n",
       "6          6             Pau CAPELL  SENIOR       6  20:12:43  01:10:49   \n",
       "7          7           Dylan BOWMAN  SENIOR       7  20:19:48  01:17:54   \n",
       "8          8      Gediminas GRINIUS  SENIOR       8  21:24:19  02:22:25   \n",
       "9          9            Zach MILLER  SENIOR       9  21:28:32  02:26:38   \n",
       "10        10           Jordi GAMITO  SENIOR       1  21:44:31  02:42:37   \n",
       "\n",
       "              pais sex             club  \n",
       "1          Francia   M          SALOMON  \n",
       "2           España   M          SALOMON  \n",
       "3   Estados Unidos   M             HOKA  \n",
       "4          Francia   M            ASICS  \n",
       "5   Estados Unidos   M             HOKA  \n",
       "6           España   M  THE NORTH FACE   \n",
       "7   Estados Unidos   M   THE NORTH FACE  \n",
       "8         Lituania   M           VIBRAM  \n",
       "9   Estados Unidos   M   THE NORTH FACE  \n",
       "10          España   M     COMPRESSPORT  "
      ]
     },
     "execution_count": 70,
     "metadata": {},
     "output_type": "execute_result"
    }
   ],
   "source": [
    "utmb17.head(10)"
   ]
  },
  {
   "cell_type": "code",
   "execution_count": 71,
   "metadata": {},
   "outputs": [],
   "source": [
    "utmb17=utmb17.reindex(columns=['posicion','tiempo','dif','nombre','club','pais','sex','cat','pto_cat'])  #Recolocamos las columnas\n",
    "\n",
    "utmb17.reset_index(drop=True,inplace=True)  #Reseteamos el index\n"
   ]
  },
  {
   "cell_type": "code",
   "execution_count": 72,
   "metadata": {},
   "outputs": [
    {
     "name": "stdout",
     "output_type": "stream",
     "text": [
      "<class 'pandas.core.frame.DataFrame'>\n",
      "RangeIndex: 1687 entries, 0 to 1686\n",
      "Data columns (total 9 columns):\n",
      " #   Column    Non-Null Count  Dtype \n",
      "---  ------    --------------  ----- \n",
      " 0   posicion  1687 non-null   int64 \n",
      " 1   tiempo    1687 non-null   object\n",
      " 2   dif       1687 non-null   object\n",
      " 3   nombre    1687 non-null   object\n",
      " 4   club      1687 non-null   object\n",
      " 5   pais      1687 non-null   object\n",
      " 6   sex       1687 non-null   object\n",
      " 7   cat       1687 non-null   object\n",
      " 8   pto_cat   1687 non-null   object\n",
      "dtypes: int64(1), object(8)\n",
      "memory usage: 118.7+ KB\n"
     ]
    }
   ],
   "source": [
    "utmb17.info(2)"
   ]
  },
  {
   "cell_type": "code",
   "execution_count": 73,
   "metadata": {},
   "outputs": [],
   "source": [
    "#Modificamos la columna de idiomas que no está totalmente correcta\n",
    "\n",
    "utmb17.pais[utmb17.pais=='HK']='Hong Kong'\n",
    "utmb17.pais[utmb17.pais=='TW']='Taiwan'"
   ]
  },
  {
   "cell_type": "code",
   "execution_count": 74,
   "metadata": {},
   "outputs": [],
   "source": [
    "#Normalizamos formato de campos de las columnas añadiendo la configuración final para todas las tablas\n",
    "\n",
    "utmb17.drop(['pto_cat'],axis='columns',inplace=True) #damos de baja columnas\n",
    "\n",
    "#Generamos las columnas restanetes\n",
    "\n",
    "utmb17['carrera']=generador.carrera(len(utmb17),'utmb')\n",
    "utmb17['anio']=generador.anio(len(utmb17),'2017')\n",
    "\n",
    "utmb17=utmb17.reindex(columns=['posicion','tiempo','dif','nombre','club','pais','sex','cat','carrera','anio']) #Reorganizamos"
   ]
  },
  {
   "cell_type": "code",
   "execution_count": 75,
   "metadata": {},
   "outputs": [],
   "source": [
    "utmb17.to_csv('../data/utmb/utmb2017mod.csv', index=False)      #cargamos csv"
   ]
  },
  {
   "cell_type": "markdown",
   "metadata": {},
   "source": [
    "#UTMB18"
   ]
  },
  {
   "cell_type": "code",
   "execution_count": 76,
   "metadata": {},
   "outputs": [],
   "source": [
    "utmb18=pd.read_csv('../data/utmb/utmb2018.csv')"
   ]
  },
  {
   "cell_type": "code",
   "execution_count": 77,
   "metadata": {},
   "outputs": [],
   "source": [
    "utmb18.drop(0,axis=0,inplace=True)  #Eliminamos primera columna de nulos\n",
    "\n",
    "columns=['posicion','nombre','cat','pto_cat', 'tiempo','dif','pais']\n",
    "utmb18.set_axis(columns,axis='columns',inplace=True)  #Modificamos el nombre de las columnas"
   ]
  },
  {
   "cell_type": "code",
   "execution_count": 78,
   "metadata": {},
   "outputs": [
    {
     "data": {
      "text/plain": [
       "array(['SEH', 'V1H', 'V1F', 'SEF', 'V2F', 'ESH', 'V2H', nan, 'V3H', 'V4F'],\n",
       "      dtype=object)"
      ]
     },
     "execution_count": 78,
     "metadata": {},
     "output_type": "execute_result"
    }
   ],
   "source": [
    "utmb18.cat.unique()"
   ]
  },
  {
   "cell_type": "code",
   "execution_count": 79,
   "metadata": {},
   "outputs": [
    {
     "data": {
      "text/plain": [
       "array(['SENIOR', 'VET-A', 'VET-B', 'UNKWNOW', 'VET-C'], dtype=object)"
      ]
     },
     "execution_count": 79,
     "metadata": {},
     "output_type": "execute_result"
    }
   ],
   "source": [
    "##Modificamos en un solo bucle la columna de cat separando el dato del texto y normalizando el contenido. Además quitamos el float de la columna pto_cat\n",
    "\n",
    "utmb18['sex']=utmb18.cat\n",
    "for i in range(1,len(utmb18)+1):\n",
    "    utmb18.sex[i]=str(utmb18.cat[i])[-1]        #rellenamos la columna sexo con el dato\n",
    "    utmb18.cat[i]=str(utmb18.cat[i])[:2]        #dejamos solo el dato de categoria en cat\n",
    "    utmb18.pto_cat[i]=str(utmb18.pto_cat[i])[0] #limpiamos pto_cat\n",
    "    \n",
    "    #Normalizamos los datos de sexo\n",
    "    if utmb18.sex[i]=='n':\n",
    "        utmb18.sex[i]='UNKWNOW'\n",
    "    elif utmb18.sex[i]=='H':\n",
    "        utmb18.sex[i]='M'\n",
    "        \n",
    "    \n",
    "    \n",
    "    \n",
    "    \n",
    "    #Normalizamos datos en la columna cat\n",
    "    if utmb18.cat[i]=='SE' or utmb18.cat[i]=='ES':\n",
    "       utmb18.cat[i]='SENIOR'\n",
    "    elif utmb18.cat[i]=='V1':\n",
    "        utmb18.cat[i]='VET-A'\n",
    "    elif utmb18.cat[i]=='V2':\n",
    "        utmb18.cat[i]='VET-B'\n",
    "    elif utmb18.cat[i]=='V3' or utmb18.cat[i]=='V4': \n",
    "        utmb18.cat[i]='VET-C'\n",
    "    elif utmb18.cat[i]=='na':\n",
    "        utmb18.cat[i]='UNKWNOW'\n",
    "utmb18.cat.fillna(value='UNKWNOW')\n",
    "        \n",
    "utmb18.cat.unique()"
   ]
  },
  {
   "cell_type": "code",
   "execution_count": 80,
   "metadata": {},
   "outputs": [],
   "source": [
    "##Modificamos la columna de nombre donde esta el dato del dorsal, nombre y club y lo separamos en diferentes listas que luego metemos en las columnas correspondientes\n",
    "\n",
    "equipos=[]\n",
    "nombres=[]\n",
    "for i in utmb18.nombre:\n",
    "    try:\n",
    "        div=str(i).split('\\n')\n",
    "        equipos.append(div[1].split('/')[0].upper())\n",
    "    except:\n",
    "        equipos.append('NONE')\n",
    "    \n",
    "    \n",
    "    #Normalizamos el nombre con la estructura Nombre APELLIDO\n",
    "    div_nom=div[0].upper().split('-')\n",
    "    limpiar_nombre=div_nom[1].split()\n",
    "    temp=[]\n",
    "    temp.append(limpiar_nombre)\n",
    "    temp[0]=limpiar_nombre[-1].lower().capitalize()\n",
    "    temp[1:]=limpiar_nombre[:-1]\n",
    "    nombres.append(\" \".join(temp))\n",
    "    \n",
    "utmb18.nombre=nombres\n",
    "utmb18['club']=equipos"
   ]
  },
  {
   "cell_type": "code",
   "execution_count": 81,
   "metadata": {},
   "outputs": [],
   "source": [
    "utmb18=utmb18.reindex(columns=['posicion','tiempo','dif','nombre','club','pais','sex','cat','pto_cat'])  #Recolocamos las columnas\n",
    "\n",
    "utmb18.reset_index(drop=True,inplace=True)  #Reseteamos el index\n"
   ]
  },
  {
   "cell_type": "code",
   "execution_count": 82,
   "metadata": {},
   "outputs": [],
   "source": [
    "#Modificamos la columna de idiomas que no está totalmente correcta\n",
    "\n",
    "utmb18.pais[utmb18.pais=='HK']='Hong Kong'\n",
    "utmb18.pais[utmb18.pais=='TW']='Taiwan'\n",
    "utmb18.pais[utmb18.pais=='MO']='Moldavia'"
   ]
  },
  {
   "cell_type": "code",
   "execution_count": 83,
   "metadata": {},
   "outputs": [],
   "source": [
    "#Normalizamos formato de campos de las columnas añadiendo la configuración final para todas las tablas\n",
    "\n",
    "utmb18.drop(['pto_cat'],axis='columns',inplace=True) #damos de baja columnas\n",
    "\n",
    "#Generamos las columnas restanetes\n",
    "\n",
    "utmb18['carrera']=generador.carrera(len(utmb18),'utmb')\n",
    "utmb18['anio']=generador.anio(len(utmb18),'2018')\n",
    "\n",
    "\n",
    "utmb18=utmb18.reindex(columns=['posicion','tiempo','dif','nombre','club','pais','sex','cat','carrera','anio']) #Reorganizamos"
   ]
  },
  {
   "cell_type": "code",
   "execution_count": 84,
   "metadata": {},
   "outputs": [],
   "source": [
    "utmb18.to_csv('../data/utmb/utmb2018mod.csv', index=False)      #cargamos csv"
   ]
  },
  {
   "cell_type": "markdown",
   "metadata": {},
   "source": [
    "#UTMB19"
   ]
  },
  {
   "cell_type": "code",
   "execution_count": 85,
   "metadata": {},
   "outputs": [],
   "source": [
    "utmb19=pd.read_csv('../data/utmb/utmb2019.csv')"
   ]
  },
  {
   "cell_type": "code",
   "execution_count": 86,
   "metadata": {},
   "outputs": [
    {
     "data": {
      "text/html": [
       "<div>\n",
       "<style scoped>\n",
       "    .dataframe tbody tr th:only-of-type {\n",
       "        vertical-align: middle;\n",
       "    }\n",
       "\n",
       "    .dataframe tbody tr th {\n",
       "        vertical-align: top;\n",
       "    }\n",
       "\n",
       "    .dataframe thead th {\n",
       "        text-align: right;\n",
       "    }\n",
       "</style>\n",
       "<table border=\"1\" class=\"dataframe\">\n",
       "  <thead>\n",
       "    <tr style=\"text-align: right;\">\n",
       "      <th></th>\n",
       "      <th>index</th>\n",
       "      <th>0</th>\n",
       "      <th>1</th>\n",
       "      <th>2</th>\n",
       "      <th>3</th>\n",
       "      <th>4</th>\n",
       "      <th>5</th>\n",
       "    </tr>\n",
       "  </thead>\n",
       "  <tbody>\n",
       "    <tr>\n",
       "      <th>0</th>\n",
       "      <td>0</td>\n",
       "      <td>NaN</td>\n",
       "      <td>NaN</td>\n",
       "      <td>NaN</td>\n",
       "      <td>NaN</td>\n",
       "      <td>NaN</td>\n",
       "      <td>NaN</td>\n",
       "    </tr>\n",
       "    <tr>\n",
       "      <th>1</th>\n",
       "      <td>1</td>\n",
       "      <td>2 - CAPELL Pau\\nTHE NORTH FACE</td>\n",
       "      <td>SEH</td>\n",
       "      <td>1.0</td>\n",
       "      <td>20:19:07</td>\n",
       "      <td>00:00:00</td>\n",
       "      <td>España</td>\n",
       "    </tr>\n",
       "    <tr>\n",
       "      <th>2</th>\n",
       "      <td>2</td>\n",
       "      <td>5 - THEVENARD Xavier</td>\n",
       "      <td>SEH</td>\n",
       "      <td>2.0</td>\n",
       "      <td>21:07:56</td>\n",
       "      <td>00:48:49</td>\n",
       "      <td>Francia</td>\n",
       "    </tr>\n",
       "    <tr>\n",
       "      <th>3</th>\n",
       "      <td>3</td>\n",
       "      <td>63 - HAWKER Scott\\nTEAM VIBRAM</td>\n",
       "      <td>SEH</td>\n",
       "      <td>3.0</td>\n",
       "      <td>21:48:04</td>\n",
       "      <td>01:28:57</td>\n",
       "      <td>Nueva Zelandia</td>\n",
       "    </tr>\n",
       "    <tr>\n",
       "      <th>4</th>\n",
       "      <td>4</td>\n",
       "      <td>11 - OWENS Tom\\nSALOMON</td>\n",
       "      <td>SEH</td>\n",
       "      <td>4.0</td>\n",
       "      <td>22:04:29</td>\n",
       "      <td>01:45:22</td>\n",
       "      <td>Reino Unido</td>\n",
       "    </tr>\n",
       "  </tbody>\n",
       "</table>\n",
       "</div>"
      ],
      "text/plain": [
       "   index                               0    1    2         3         4  \\\n",
       "0      0                             NaN  NaN  NaN       NaN       NaN   \n",
       "1      1  2 - CAPELL Pau\\nTHE NORTH FACE  SEH  1.0  20:19:07  00:00:00   \n",
       "2      2            5 - THEVENARD Xavier  SEH  2.0  21:07:56  00:48:49   \n",
       "3      3  63 - HAWKER Scott\\nTEAM VIBRAM  SEH  3.0  21:48:04  01:28:57   \n",
       "4      4         11 - OWENS Tom\\nSALOMON  SEH  4.0  22:04:29  01:45:22   \n",
       "\n",
       "                5  \n",
       "0             NaN  \n",
       "1          España  \n",
       "2         Francia  \n",
       "3  Nueva Zelandia  \n",
       "4     Reino Unido  "
      ]
     },
     "execution_count": 86,
     "metadata": {},
     "output_type": "execute_result"
    }
   ],
   "source": [
    "utmb19.head()"
   ]
  },
  {
   "cell_type": "code",
   "execution_count": 87,
   "metadata": {},
   "outputs": [],
   "source": [
    "utmb19.drop(0,axis=0,inplace=True)  #Eliminamos primera columna de nulos\n",
    "\n",
    "columns=['posicion','nombre','cat','pto_cat', 'tiempo','dif','pais']\n",
    "utmb19.set_axis(columns,axis='columns',inplace=True)  #Modificamos el nombre de las columnas"
   ]
  },
  {
   "cell_type": "code",
   "execution_count": 88,
   "metadata": {},
   "outputs": [
    {
     "data": {
      "text/plain": [
       "array(['SENIOR', 'VET-A', 'VET-B', 'VET-C', 'unkwnow'], dtype=object)"
      ]
     },
     "execution_count": 88,
     "metadata": {},
     "output_type": "execute_result"
    }
   ],
   "source": [
    "##Modificamos en un solo bucle la columna de cat separando el dato del texto y normalizando el contenido. Además quitamos el float de la columna pto_cat\n",
    "\n",
    "utmb19['sex']=utmb19.cat\n",
    "for i in range(1,len(utmb19)+1):\n",
    "    utmb19.sex[i]=str(utmb19.cat[i])[-1]        #rellenamos la columna sexo con el dato\n",
    "    utmb19.cat[i]=str(utmb19.cat[i])[:2]        #dejamos solo el dato de categoria en cat\n",
    "    utmb19.pto_cat[i]=str(utmb19.pto_cat[i])[0] #limpiamos pto_cat\n",
    "    \n",
    "    \n",
    "    #Normalizamos los datos de sexo\n",
    "    if utmb19.sex[i]=='n':\n",
    "        utmb19.sex[i]='UNKWNOW'\n",
    "    elif utmb19.sex[i]=='H':\n",
    "        utmb19.sex[i]='M'\n",
    "    elif utmb19.sex[i]=='n':\n",
    "        utmb19.sex[i]='UNKWNOW'\n",
    "    \n",
    "    #Normalizamos datos en la columna cat\n",
    "    if utmb19.cat[i]=='SE' or utmb19.cat[i]=='ES':\n",
    "       utmb19.cat[i]='SENIOR'\n",
    "    elif utmb19.cat[i]=='V1':\n",
    "        utmb19.cat[i]='VET-A'\n",
    "    elif utmb19.cat[i]=='V2':\n",
    "        utmb19.cat[i]='VET-B'\n",
    "    elif utmb19.cat[i]=='V3' or utmb19.cat[i]=='V4': \n",
    "        utmb19.cat[i]='VET-C'\n",
    "    elif utmb19.cat[i]=='na':\n",
    "        utmb19.cat[i]='unkwnow'\n",
    "utmb19.cat.fillna(value='unkwnow')\n",
    "        \n",
    "utmb19.cat.unique()"
   ]
  },
  {
   "cell_type": "code",
   "execution_count": 89,
   "metadata": {},
   "outputs": [],
   "source": [
    "##Modificamos la columna de nombre donde esta el dato del dorsal, nombre y club y lo separamos en diferentes listas que luego metemos en las columnas correspondientes\n",
    "\n",
    "equipos=[]\n",
    "nombres=[]\n",
    "for i in utmb19.nombre:\n",
    "    try:\n",
    "        div=str(i).split('\\n')\n",
    "        equipos.append(div[1].split('/')[0].upper())\n",
    "    except:\n",
    "        equipos.append('NONE')\n",
    "    \n",
    "    \n",
    "    #Normalizamos el nombre con la estructura Nombre APELLIDO\n",
    "    div_nom=div[0].upper().split('-')\n",
    "    limpiar_nombre=div_nom[1].split()\n",
    "    temp=[]\n",
    "    temp.append(limpiar_nombre)\n",
    "    temp[0]=limpiar_nombre[-1].lower().capitalize()\n",
    "    temp[1:]=limpiar_nombre[:-1]\n",
    "    nombres.append(\" \".join(temp))\n",
    "    \n",
    "utmb19.nombre=nombres\n",
    "utmb19['club']=equipos"
   ]
  },
  {
   "cell_type": "code",
   "execution_count": 90,
   "metadata": {},
   "outputs": [],
   "source": [
    "utmb19=utmb19.reindex(columns=['posicion','tiempo','dif','nombre','club','pais','sex','cat','pto_cat'])  #Recolocamos las columnas\n",
    "\n",
    "utmb19.reset_index(drop=True,inplace=True)  #Reseteamos el index"
   ]
  },
  {
   "cell_type": "code",
   "execution_count": 91,
   "metadata": {},
   "outputs": [],
   "source": [
    "#Modificamos la columna de idiomas que no está totalmente correcta\n",
    "\n",
    "\n",
    "utmb19.pais[utmb19.pais=='TW']='Taiwan'\n",
    "utmb19.pais[utmb19.pais=='HK']='Hong Kong'\n"
   ]
  },
  {
   "cell_type": "code",
   "execution_count": 92,
   "metadata": {},
   "outputs": [],
   "source": [
    "#Normalizamos formato de campos de las columnas añadiendo la configuración final para todas las tablas\n",
    "\n",
    "utmb19.drop(['pto_cat'],axis='columns',inplace=True) #damos de baja columnas\n",
    "\n",
    "#Generamos las columnas restanetes\n",
    "\n",
    "utmb19['carrera']=generador.carrera(len(utmb19),'utmb')\n",
    "utmb19['anio']=generador.anio(len(utmb19),'2019')\n",
    "\n",
    "utmb19=utmb19.reindex(columns=['posicion','tiempo','dif','nombre','club','pais','sex','cat','carrera','anio']) #Reorganizamos"
   ]
  },
  {
   "cell_type": "code",
   "execution_count": 93,
   "metadata": {},
   "outputs": [],
   "source": [
    "utmb19.to_csv('../data/utmb/utmb2019mod.csv', index=False)      #cargamos csv"
   ]
  },
  {
   "cell_type": "markdown",
   "metadata": {},
   "source": [
    "#UTMB20"
   ]
  },
  {
   "cell_type": "code",
   "execution_count": 94,
   "metadata": {},
   "outputs": [],
   "source": [
    "utmb20=pd.read_csv('../data/utmb/utmb2020.csv')"
   ]
  },
  {
   "cell_type": "code",
   "execution_count": 95,
   "metadata": {},
   "outputs": [],
   "source": [
    "utmb20.drop(0,axis=0,inplace=True)  #Eliminamos primera columna de nulos\n",
    "\n",
    "columns=['posicion','nombre','cat','pto_cat', 'tiempo','dif','pais']\n",
    "utmb20.set_axis(columns,axis='columns',inplace=True)  #Modificamos el nombre de las columnas"
   ]
  },
  {
   "cell_type": "code",
   "execution_count": 96,
   "metadata": {},
   "outputs": [
    {
     "data": {
      "text/plain": [
       "array(['SENIOR', 'VET-A', 'VET-B', 'VET-C', 'unkwnow'], dtype=object)"
      ]
     },
     "execution_count": 96,
     "metadata": {},
     "output_type": "execute_result"
    }
   ],
   "source": [
    "##Modificamos en un solo bucle la columna de cat separando el dato del texto y normalizando el contenido. Además quitamos el float de la columna pto_cat\n",
    "\n",
    "utmb20['sex']=utmb20.cat\n",
    "for i in range(1,len(utmb20)+1):\n",
    "    utmb20.sex[i]=str(utmb20.cat[i])[-1]        #rellenamos la columna sexo con el dato\n",
    "    utmb20.cat[i]=str(utmb20.cat[i])[:2]        #dejamos solo el dato de categoria en cat\n",
    "    utmb20.pto_cat[i]=str(utmb20.pto_cat[i])[0] #limpiamos pto_cat\n",
    "    \n",
    "    #Normalizamos los datos de sexo\n",
    "    if utmb20.sex[i]=='n':\n",
    "        utmb20.sex[i]='UNKWNOW'\n",
    "    elif utmb20.sex[i]=='H':\n",
    "        utmb20.sex[i]='M'\n",
    "    elif utmb20.sex[i]=='n':\n",
    "        utmb20.sex[i]='UNKWNOW'\n",
    "    \n",
    "    #Normalizamos datos en la columna cat\n",
    "    if utmb20.cat[i]=='SE' or utmb20.cat[i]=='ES':\n",
    "       utmb20.cat[i]='SENIOR'\n",
    "    elif utmb20.cat[i]=='V1':\n",
    "        utmb20.cat[i]='VET-A'\n",
    "    elif utmb20.cat[i]=='V2':\n",
    "        utmb20.cat[i]='VET-B'\n",
    "    elif utmb20.cat[i]=='V3' or utmb20.cat[i]=='V4': \n",
    "        utmb20.cat[i]='VET-C'\n",
    "    elif utmb20.cat[i]=='na':\n",
    "        utmb20.cat[i]='unkwnow'\n",
    "utmb20.cat.fillna(value='unkwnow')\n",
    "        \n",
    "utmb20.cat.unique()"
   ]
  },
  {
   "cell_type": "code",
   "execution_count": 97,
   "metadata": {},
   "outputs": [],
   "source": [
    "##Modificamos la columna de nombre donde esta el dato del dorsal, nombre y club y lo separamos en diferentes listas que luego metemos en las columnas correspondientes\n",
    "\n",
    "equipos=[]\n",
    "nombres=[]\n",
    "for i in utmb20.nombre:\n",
    "    try:\n",
    "        div=str(i).split('\\n')\n",
    "        equipos.append(div[1].split('/')[0].upper())\n",
    "    except:\n",
    "        equipos.append('NONE')\n",
    "    \n",
    "    \n",
    "    #Normalizamos el nombre con la estructura Nombre APELLIDO\n",
    "    div_nom=div[0].upper().split('-')\n",
    "    limpiar_nombre=div_nom[1].split()\n",
    "    temp=[]\n",
    "    temp.append(limpiar_nombre)\n",
    "    temp[0]=limpiar_nombre[-1].lower().capitalize()\n",
    "    temp[1:]=limpiar_nombre[:-1]\n",
    "    nombres.append(\" \".join(temp))\n",
    "    \n",
    "utmb20.nombre=nombres\n",
    "utmb20['club']=equipos"
   ]
  },
  {
   "cell_type": "code",
   "execution_count": 98,
   "metadata": {},
   "outputs": [],
   "source": [
    "utmb20=utmb20.reindex(columns=['posicion','tiempo','dif','nombre','club','pais','sex','cat','pto_cat'])  #Recolocamos las columnas\n",
    "\n",
    "utmb20.reset_index(drop=True,inplace=True)  #Reseteamos el index"
   ]
  },
  {
   "cell_type": "code",
   "execution_count": 99,
   "metadata": {},
   "outputs": [],
   "source": [
    "#Modificamos la columna de idiomas que no está totalmente correcta\n",
    "\n",
    "utmb20.pais[utmb20.pais=='HK']='Hong Kong'\n",
    "utmb20.pais[utmb20.pais=='TW']='Taiwan'"
   ]
  },
  {
   "cell_type": "code",
   "execution_count": 100,
   "metadata": {},
   "outputs": [],
   "source": [
    "#Normalizamos formato de campos de las columnas añadiendo la configuración final para todas las tablas\n",
    "\n",
    "utmb20.drop(['pto_cat'],axis='columns',inplace=True) #damos de baja columnas\n",
    "\n",
    "#Generamos las columnas restanetes\n",
    "\n",
    "utmb20['carrera']=generador.carrera(len(utmb20),'utmb')\n",
    "utmb20['anio']=generador.anio(len(utmb20),'2020')\n",
    "\n",
    "utmb20=utmb20.reindex(columns=['posicion','tiempo','dif','nombre','club','pais','sex','cat','carrera','anio']) #Reorganizamos"
   ]
  },
  {
   "cell_type": "code",
   "execution_count": 101,
   "metadata": {},
   "outputs": [],
   "source": [
    "utmb20.to_csv('../data/utmb/utmb2020mod.csv', index=False)      #cargamos csv"
   ]
  },
  {
   "cell_type": "markdown",
   "metadata": {},
   "source": [
    "#UTMB21"
   ]
  },
  {
   "cell_type": "code",
   "execution_count": 102,
   "metadata": {},
   "outputs": [],
   "source": [
    "utmb21=pd.read_csv('../data/utmb/utmb2021.csv')"
   ]
  },
  {
   "cell_type": "code",
   "execution_count": 103,
   "metadata": {},
   "outputs": [],
   "source": [
    "utmb21.drop(0,axis=0,inplace=True)  #Eliminamos primera columna de nulos\n",
    "\n",
    "columns=['posicion','nombre','cat','pto_cat', 'tiempo','dif','pais']\n",
    "utmb21.set_axis(columns,axis='columns',inplace=True)  #Modificamos el nombre de las columnas"
   ]
  },
  {
   "cell_type": "code",
   "execution_count": 104,
   "metadata": {},
   "outputs": [
    {
     "data": {
      "text/plain": [
       "array(['SENIOR', 'VET-A', 'VET-B', 'VET-C'], dtype=object)"
      ]
     },
     "execution_count": 104,
     "metadata": {},
     "output_type": "execute_result"
    }
   ],
   "source": [
    "##Modificamos en un solo bucle la columna de cat separando el dato del texto y normalizando el contenido. Además quitamos el float de la columna pto_cat\n",
    "\n",
    "utmb21['sex']=utmb21.cat\n",
    "for i in range(1,len(utmb21)+1):\n",
    "    utmb21.sex[i]=str(utmb21.cat[i])[-1]        #rellenamos la columna sexo con el dato\n",
    "    utmb21.cat[i]=str(utmb21.cat[i])[:2]        #dejamos solo el dato de categoria en cat\n",
    "    utmb21.pto_cat[i]=str(utmb21.pto_cat[i])[0] #limpiamos pto_cat\n",
    "    \n",
    "    #Normalizamos los datos de sexo\n",
    "    if utmb21.sex[i]=='n':\n",
    "        utmb21.sex[i]='UNKWNOW'\n",
    "    elif utmb21.sex[i]=='H':\n",
    "        utmb21.sex[i]='M'\n",
    "    elif utmb21.sex[i]=='n':\n",
    "        utmb21.sex[i]='UNKWNOW'\n",
    "    \n",
    "    #Normalizamos datos en la columna cat\n",
    "    if utmb21.cat[i]=='SE' or utmb21.cat[i]=='ES':\n",
    "       utmb21.cat[i]='SENIOR'\n",
    "    elif utmb21.cat[i]=='V1':\n",
    "        utmb21.cat[i]='VET-A'\n",
    "    elif utmb21.cat[i]=='V2':\n",
    "        utmb21.cat[i]='VET-B'\n",
    "    elif utmb21.cat[i]=='V3' or utmb21.cat[i]=='V4': \n",
    "        utmb21.cat[i]='VET-C'\n",
    "    elif utmb21.cat[i]=='na':\n",
    "        utmb21.cat[i]='unkwnow'\n",
    "utmb21.cat.fillna(value='unkwnow')\n",
    "        \n",
    "utmb21.cat.unique()"
   ]
  },
  {
   "cell_type": "code",
   "execution_count": 105,
   "metadata": {},
   "outputs": [],
   "source": [
    "##Modificamos la columna de nombre donde esta el dato del dorsal, nombre y club y lo separamos en diferentes listas que luego metemos en las columnas correspondientes\n",
    "\n",
    "equipos=[]\n",
    "nombres=[]\n",
    "for i in utmb21.nombre:\n",
    "    try:\n",
    "        div=str(i).split('\\n')\n",
    "        equipos.append(div[1].split('/')[0].upper())\n",
    "    except:\n",
    "        equipos.append('NONE')\n",
    "    \n",
    "    \n",
    "    #Normalizamos el nombre con la estructura Nombre APELLIDO\n",
    "    div_nom=div[0].upper().split('-')\n",
    "    limpiar_nombre=div_nom[1].split()\n",
    "    temp=[]\n",
    "    temp.append(limpiar_nombre)\n",
    "    temp[0]=limpiar_nombre[-1].lower().capitalize()\n",
    "    temp[1:]=limpiar_nombre[:-1]\n",
    "    nombres.append(\" \".join(temp))\n",
    "    \n",
    "utmb21.nombre=nombres\n",
    "utmb21['club']=equipos"
   ]
  },
  {
   "cell_type": "code",
   "execution_count": 106,
   "metadata": {},
   "outputs": [],
   "source": [
    "utmb21=utmb21.reindex(columns=['posicion','tiempo','dif','nombre','club','pais','sex','cat','pto_cat'])  #Recolocamos las columnas\n",
    "\n",
    "utmb21.reset_index(drop=True,inplace=True)  #Reseteamos el index"
   ]
  },
  {
   "cell_type": "code",
   "execution_count": 107,
   "metadata": {},
   "outputs": [
    {
     "data": {
      "text/html": [
       "<div>\n",
       "<style scoped>\n",
       "    .dataframe tbody tr th:only-of-type {\n",
       "        vertical-align: middle;\n",
       "    }\n",
       "\n",
       "    .dataframe tbody tr th {\n",
       "        vertical-align: top;\n",
       "    }\n",
       "\n",
       "    .dataframe thead th {\n",
       "        text-align: right;\n",
       "    }\n",
       "</style>\n",
       "<table border=\"1\" class=\"dataframe\">\n",
       "  <thead>\n",
       "    <tr style=\"text-align: right;\">\n",
       "      <th></th>\n",
       "      <th>posicion</th>\n",
       "      <th>tiempo</th>\n",
       "      <th>dif</th>\n",
       "      <th>nombre</th>\n",
       "      <th>club</th>\n",
       "      <th>pais</th>\n",
       "      <th>sex</th>\n",
       "      <th>cat</th>\n",
       "      <th>pto_cat</th>\n",
       "    </tr>\n",
       "  </thead>\n",
       "  <tbody>\n",
       "    <tr>\n",
       "      <th>0</th>\n",
       "      <td>1</td>\n",
       "      <td>20:46:00</td>\n",
       "      <td>00:00:00</td>\n",
       "      <td>François D'HAENE</td>\n",
       "      <td>CMSAB</td>\n",
       "      <td>Francia</td>\n",
       "      <td>M</td>\n",
       "      <td>SENIOR</td>\n",
       "      <td>1</td>\n",
       "    </tr>\n",
       "    <tr>\n",
       "      <th>1</th>\n",
       "      <td>2</td>\n",
       "      <td>20:58:31</td>\n",
       "      <td>00:12:31</td>\n",
       "      <td>Dunand</td>\n",
       "      <td>TEAM COMPRESSPORT</td>\n",
       "      <td>Francia</td>\n",
       "      <td>M</td>\n",
       "      <td>SENIOR</td>\n",
       "      <td>2</td>\n",
       "    </tr>\n",
       "    <tr>\n",
       "      <th>2</th>\n",
       "      <td>3</td>\n",
       "      <td>21:12:44</td>\n",
       "      <td>00:26:44</td>\n",
       "      <td>Mathieu BLANCHARD</td>\n",
       "      <td>SALOMON</td>\n",
       "      <td>Francia</td>\n",
       "      <td>M</td>\n",
       "      <td>SENIOR</td>\n",
       "      <td>3</td>\n",
       "    </tr>\n",
       "    <tr>\n",
       "      <th>3</th>\n",
       "      <td>4</td>\n",
       "      <td>21:38:45</td>\n",
       "      <td>00:52:45</td>\n",
       "      <td>Ludovic POMMERET</td>\n",
       "      <td>HOKA ONE ONE</td>\n",
       "      <td>Francia</td>\n",
       "      <td>M</td>\n",
       "      <td>VET-A</td>\n",
       "      <td>1</td>\n",
       "    </tr>\n",
       "    <tr>\n",
       "      <th>4</th>\n",
       "      <td>5</td>\n",
       "      <td>21:52:47</td>\n",
       "      <td>01:06:47</td>\n",
       "      <td>Germain GRANGIER</td>\n",
       "      <td>ON</td>\n",
       "      <td>Francia</td>\n",
       "      <td>M</td>\n",
       "      <td>SENIOR</td>\n",
       "      <td>4</td>\n",
       "    </tr>\n",
       "  </tbody>\n",
       "</table>\n",
       "</div>"
      ],
      "text/plain": [
       "   posicion    tiempo       dif             nombre               club  \\\n",
       "0         1  20:46:00  00:00:00   François D'HAENE              CMSAB   \n",
       "1         2  20:58:31  00:12:31             Dunand  TEAM COMPRESSPORT   \n",
       "2         3  21:12:44  00:26:44  Mathieu BLANCHARD            SALOMON   \n",
       "3         4  21:38:45  00:52:45   Ludovic POMMERET       HOKA ONE ONE   \n",
       "4         5  21:52:47  01:06:47   Germain GRANGIER                 ON   \n",
       "\n",
       "      pais sex     cat pto_cat  \n",
       "0  Francia   M  SENIOR       1  \n",
       "1  Francia   M  SENIOR       2  \n",
       "2  Francia   M  SENIOR       3  \n",
       "3  Francia   M   VET-A       1  \n",
       "4  Francia   M  SENIOR       4  "
      ]
     },
     "execution_count": 107,
     "metadata": {},
     "output_type": "execute_result"
    }
   ],
   "source": [
    "utmb21.head()"
   ]
  },
  {
   "cell_type": "code",
   "execution_count": 108,
   "metadata": {},
   "outputs": [],
   "source": [
    "#Modificamos la columna de idiomas que no está totalmente correcta\n",
    "\n",
    "\n",
    "utmb21.pais[utmb21.pais=='HK']='Hong Kong'"
   ]
  },
  {
   "cell_type": "code",
   "execution_count": 109,
   "metadata": {},
   "outputs": [],
   "source": [
    "#Normalizamos formato de campos de las columnas añadiendo la configuración final para todas las tablas\n",
    "\n",
    "utmb21.drop(['pto_cat'],axis='columns',inplace=True) #damos de baja columnas\n",
    "\n",
    "#Generamos las columnas restanetes\n",
    "\n",
    "utmb21['carrera']=generador.carrera(len(utmb21),'utmb')\n",
    "utmb21['anio']=generador.anio(len(utmb21),'2021')\n",
    "\n",
    "utmb21=utmb21.reindex(columns=['posicion','tiempo','dif','nombre','club','pais','sex','cat','carrera','anio']) #Reorganizamos"
   ]
  },
  {
   "cell_type": "code",
   "execution_count": 110,
   "metadata": {},
   "outputs": [],
   "source": [
    "utmb21.to_csv('../data/utmb/utmb2021mod.csv', index=False)      #cargamos csv"
   ]
  },
  {
   "cell_type": "markdown",
   "metadata": {},
   "source": [
    "#UTMB22"
   ]
  },
  {
   "cell_type": "code",
   "execution_count": 111,
   "metadata": {},
   "outputs": [],
   "source": [
    "utmb22=pd.read_csv('../data/utmb/utmb2022.csv')"
   ]
  },
  {
   "cell_type": "code",
   "execution_count": 112,
   "metadata": {},
   "outputs": [
    {
     "data": {
      "text/html": [
       "<div>\n",
       "<style scoped>\n",
       "    .dataframe tbody tr th:only-of-type {\n",
       "        vertical-align: middle;\n",
       "    }\n",
       "\n",
       "    .dataframe tbody tr th {\n",
       "        vertical-align: top;\n",
       "    }\n",
       "\n",
       "    .dataframe thead th {\n",
       "        text-align: right;\n",
       "    }\n",
       "</style>\n",
       "<table border=\"1\" class=\"dataframe\">\n",
       "  <thead>\n",
       "    <tr style=\"text-align: right;\">\n",
       "      <th></th>\n",
       "      <th>index</th>\n",
       "      <th>0</th>\n",
       "      <th>1</th>\n",
       "      <th>2</th>\n",
       "      <th>3</th>\n",
       "      <th>4</th>\n",
       "      <th>5</th>\n",
       "    </tr>\n",
       "  </thead>\n",
       "  <tbody>\n",
       "    <tr>\n",
       "      <th>0</th>\n",
       "      <td>0</td>\n",
       "      <td>NaN</td>\n",
       "      <td>NaN</td>\n",
       "      <td>NaN</td>\n",
       "      <td>NaN</td>\n",
       "      <td>NaN</td>\n",
       "      <td>NaN</td>\n",
       "    </tr>\n",
       "    <tr>\n",
       "      <th>1</th>\n",
       "      <td>1</td>\n",
       "      <td>1 - JORNET BURGADA Kilian\\nNNORMAL</td>\n",
       "      <td>35-39M</td>\n",
       "      <td>1.0</td>\n",
       "      <td>19:49:30</td>\n",
       "      <td>00:00:00</td>\n",
       "      <td>España</td>\n",
       "    </tr>\n",
       "    <tr>\n",
       "      <th>2</th>\n",
       "      <td>2</td>\n",
       "      <td>41 - BLANCHARD Mathieu\\nSALOMON</td>\n",
       "      <td>35-39M</td>\n",
       "      <td>2.0</td>\n",
       "      <td>19:54:50</td>\n",
       "      <td>00:05:20</td>\n",
       "      <td>Francia</td>\n",
       "    </tr>\n",
       "    <tr>\n",
       "      <th>3</th>\n",
       "      <td>3</td>\n",
       "      <td>11 - EVANS Thomas\\nADIDAS TERREX / RED BULL</td>\n",
       "      <td>20-34M</td>\n",
       "      <td>1.0</td>\n",
       "      <td>20:34:36</td>\n",
       "      <td>00:45:06</td>\n",
       "      <td>Reino Unido</td>\n",
       "    </tr>\n",
       "    <tr>\n",
       "      <th>4</th>\n",
       "      <td>4</td>\n",
       "      <td>3 - WALMSLEY Jim\\nHOKA</td>\n",
       "      <td>20-34M</td>\n",
       "      <td>2.0</td>\n",
       "      <td>21:12:12</td>\n",
       "      <td>01:22:42</td>\n",
       "      <td>Estados Unidos</td>\n",
       "    </tr>\n",
       "  </tbody>\n",
       "</table>\n",
       "</div>"
      ],
      "text/plain": [
       "   index                                            0       1    2         3  \\\n",
       "0      0                                          NaN     NaN  NaN       NaN   \n",
       "1      1           1 - JORNET BURGADA Kilian\\nNNORMAL  35-39M  1.0  19:49:30   \n",
       "2      2              41 - BLANCHARD Mathieu\\nSALOMON  35-39M  2.0  19:54:50   \n",
       "3      3  11 - EVANS Thomas\\nADIDAS TERREX / RED BULL  20-34M  1.0  20:34:36   \n",
       "4      4                       3 - WALMSLEY Jim\\nHOKA  20-34M  2.0  21:12:12   \n",
       "\n",
       "          4               5  \n",
       "0       NaN             NaN  \n",
       "1  00:00:00          España  \n",
       "2  00:05:20         Francia  \n",
       "3  00:45:06     Reino Unido  \n",
       "4  01:22:42  Estados Unidos  "
      ]
     },
     "execution_count": 112,
     "metadata": {},
     "output_type": "execute_result"
    }
   ],
   "source": [
    "utmb22.head()"
   ]
  },
  {
   "cell_type": "code",
   "execution_count": 113,
   "metadata": {},
   "outputs": [],
   "source": [
    "utmb22.drop(0,axis=0,inplace=True)  #Eliminamos primera columna de nulos\n",
    "\n",
    "columns=['posicion','nombre','cat','pto_cat', 'tiempo','dif','pais']\n",
    "utmb22.set_axis(columns,axis='columns',inplace=True)  #Modificamos el nombre de las columnas"
   ]
  },
  {
   "cell_type": "code",
   "execution_count": 114,
   "metadata": {},
   "outputs": [
    {
     "data": {
      "text/plain": [
       "array(['35-39M', '20-34M', '40-44M', '20-34F', '45-49M', '55-59M',\n",
       "       '45-49F', '35-39F', '40-44F', '50-54M', '50-54F', '60-64M',\n",
       "       '65-69M', '55-59F', '70-74M', '60-64F'], dtype=object)"
      ]
     },
     "execution_count": 114,
     "metadata": {},
     "output_type": "execute_result"
    }
   ],
   "source": [
    "utmb22.cat.unique()"
   ]
  },
  {
   "cell_type": "code",
   "execution_count": 115,
   "metadata": {},
   "outputs": [
    {
     "data": {
      "text/plain": [
       "array(['SENIOR', 'VET-A', 'VET-B', 'VET-C'], dtype=object)"
      ]
     },
     "execution_count": 115,
     "metadata": {},
     "output_type": "execute_result"
    }
   ],
   "source": [
    "##Modificamos en un solo bucle la columna de cat separando el dato del texto y normalizando el contenido. Además quitamos el float de la columna pto_cat\n",
    "\n",
    "utmb22['sex']=utmb22.cat\n",
    "for i in range(1,len(utmb22)+1):\n",
    "    utmb22.sex[i]=str(utmb22.cat[i])[-1]        #rellenamos la columna sexo con el dato\n",
    "    utmb22.cat[i]=str(utmb22.cat[i])[:-1]        #dejamos solo el dato de categoria en cat\n",
    "    utmb22.pto_cat[i]=str(utmb22.pto_cat[i])[0] #limpiamos pto_cat\n",
    "    \n",
    "    #Normalizamos los datos de sexo\n",
    "    if utmb22.sex[i]=='n':\n",
    "        utmb22.sex[i]='UNKWNOW'\n",
    "    elif utmb22.sex[i]=='H':\n",
    "        utmb22.sex[i]='M'\n",
    "    elif utmb22.sex[i]=='n':\n",
    "        utmb22.sex[i]='UNKWNOW'\n",
    "    \n",
    "    #Normalizamos datos en la columna cat\n",
    "    if utmb22.cat[i]=='20-34' or utmb22.cat[i]=='35-39':\n",
    "       utmb22.cat[i]='SENIOR'\n",
    "    elif utmb22.cat[i]=='40-44' or utmb22.cat[i]=='45-49':\n",
    "        utmb22.cat[i]='VET-A'\n",
    "    elif utmb22.cat[i]=='50-54' or utmb22.cat[i]=='55-59':\n",
    "        utmb22.cat[i]='VET-B'\n",
    "    elif utmb22.cat[i]=='60-64' or utmb22.cat[i]=='65-69' or utmb22.cat[i]=='70-74': \n",
    "        utmb22.cat[i]='VET-C'\n",
    "    \n",
    "\n",
    "        \n",
    "utmb22.cat.unique()"
   ]
  },
  {
   "cell_type": "code",
   "execution_count": 116,
   "metadata": {},
   "outputs": [],
   "source": [
    "##Modificamos la columna de nombre donde esta el dato del dorsal, nombre y club y lo separamos en diferentes listas que luego metemos en las columnas correspondientes\n",
    "\n",
    "equipos=[]\n",
    "nombres=[]\n",
    "for i in utmb22.nombre:\n",
    "    try:\n",
    "        div=str(i).split('\\n')\n",
    "        div_equip=div[1].split('/')\n",
    "        equipos.append(div[1].split('/')[0].upper())\n",
    "        \n",
    "    except:\n",
    "        equipos.append('NONE')\n",
    "    \n",
    "    \n",
    "    #Normalizamos el nombre con la estructura Nombre APELLIDO\n",
    "    div_nom=div[0].upper().split('-')\n",
    "    limpiar_nombre=div_nom[1].split()\n",
    "    temp=[]\n",
    "    temp.append(limpiar_nombre)\n",
    "    temp[0]=limpiar_nombre[-1].lower().capitalize()\n",
    "    temp[1:]=limpiar_nombre[:-1]\n",
    "    nombres.append(\" \".join(temp))\n",
    "    \n",
    "    \n",
    "utmb22.nombre=nombres\n",
    "utmb22['club']=equipos"
   ]
  },
  {
   "cell_type": "code",
   "execution_count": 117,
   "metadata": {},
   "outputs": [],
   "source": [
    "utmb22=utmb22.reindex(columns=['posicion','tiempo','dif','nombre','club','pais','sex','cat','pto_cat'])  #Recolocamos las columnas\n",
    "\n",
    "utmb22.reset_index(drop=True,inplace=True)  #Reseteamos el index"
   ]
  },
  {
   "cell_type": "code",
   "execution_count": 118,
   "metadata": {},
   "outputs": [
    {
     "data": {
      "text/html": [
       "<div>\n",
       "<style scoped>\n",
       "    .dataframe tbody tr th:only-of-type {\n",
       "        vertical-align: middle;\n",
       "    }\n",
       "\n",
       "    .dataframe tbody tr th {\n",
       "        vertical-align: top;\n",
       "    }\n",
       "\n",
       "    .dataframe thead th {\n",
       "        text-align: right;\n",
       "    }\n",
       "</style>\n",
       "<table border=\"1\" class=\"dataframe\">\n",
       "  <thead>\n",
       "    <tr style=\"text-align: right;\">\n",
       "      <th></th>\n",
       "      <th>posicion</th>\n",
       "      <th>tiempo</th>\n",
       "      <th>dif</th>\n",
       "      <th>nombre</th>\n",
       "      <th>club</th>\n",
       "      <th>pais</th>\n",
       "      <th>sex</th>\n",
       "      <th>cat</th>\n",
       "      <th>pto_cat</th>\n",
       "    </tr>\n",
       "  </thead>\n",
       "  <tbody>\n",
       "    <tr>\n",
       "      <th>0</th>\n",
       "      <td>1</td>\n",
       "      <td>19:49:30</td>\n",
       "      <td>00:00:00</td>\n",
       "      <td>Kilian JORNET BURGADA</td>\n",
       "      <td>NNORMAL</td>\n",
       "      <td>España</td>\n",
       "      <td>M</td>\n",
       "      <td>SENIOR</td>\n",
       "      <td>1</td>\n",
       "    </tr>\n",
       "    <tr>\n",
       "      <th>1</th>\n",
       "      <td>2</td>\n",
       "      <td>19:54:50</td>\n",
       "      <td>00:05:20</td>\n",
       "      <td>Mathieu BLANCHARD</td>\n",
       "      <td>SALOMON</td>\n",
       "      <td>Francia</td>\n",
       "      <td>M</td>\n",
       "      <td>SENIOR</td>\n",
       "      <td>2</td>\n",
       "    </tr>\n",
       "    <tr>\n",
       "      <th>2</th>\n",
       "      <td>3</td>\n",
       "      <td>20:34:36</td>\n",
       "      <td>00:45:06</td>\n",
       "      <td>Thomas EVANS</td>\n",
       "      <td>ADIDAS TERREX</td>\n",
       "      <td>Reino Unido</td>\n",
       "      <td>M</td>\n",
       "      <td>SENIOR</td>\n",
       "      <td>1</td>\n",
       "    </tr>\n",
       "    <tr>\n",
       "      <th>3</th>\n",
       "      <td>4</td>\n",
       "      <td>21:12:12</td>\n",
       "      <td>01:22:42</td>\n",
       "      <td>Jim WALMSLEY</td>\n",
       "      <td>HOKA</td>\n",
       "      <td>Estados Unidos</td>\n",
       "      <td>M</td>\n",
       "      <td>SENIOR</td>\n",
       "      <td>2</td>\n",
       "    </tr>\n",
       "    <tr>\n",
       "      <th>4</th>\n",
       "      <td>5</td>\n",
       "      <td>21:27:50</td>\n",
       "      <td>01:38:20</td>\n",
       "      <td>Zach MILLER</td>\n",
       "      <td>THE NORTH FACE</td>\n",
       "      <td>Estados Unidos</td>\n",
       "      <td>M</td>\n",
       "      <td>SENIOR</td>\n",
       "      <td>3</td>\n",
       "    </tr>\n",
       "  </tbody>\n",
       "</table>\n",
       "</div>"
      ],
      "text/plain": [
       "   posicion    tiempo       dif                 nombre            club  \\\n",
       "0         1  19:49:30  00:00:00  Kilian JORNET BURGADA         NNORMAL   \n",
       "1         2  19:54:50  00:05:20      Mathieu BLANCHARD         SALOMON   \n",
       "2         3  20:34:36  00:45:06           Thomas EVANS  ADIDAS TERREX    \n",
       "3         4  21:12:12  01:22:42           Jim WALMSLEY            HOKA   \n",
       "4         5  21:27:50  01:38:20            Zach MILLER  THE NORTH FACE   \n",
       "\n",
       "             pais sex     cat pto_cat  \n",
       "0          España   M  SENIOR       1  \n",
       "1         Francia   M  SENIOR       2  \n",
       "2     Reino Unido   M  SENIOR       1  \n",
       "3  Estados Unidos   M  SENIOR       2  \n",
       "4  Estados Unidos   M  SENIOR       3  "
      ]
     },
     "execution_count": 118,
     "metadata": {},
     "output_type": "execute_result"
    }
   ],
   "source": [
    "utmb22.head()"
   ]
  },
  {
   "cell_type": "code",
   "execution_count": 119,
   "metadata": {},
   "outputs": [],
   "source": [
    "#Modificamos la columna de idiomas que no está totalmente correcta\n",
    "\n",
    "utmb22.pais[utmb22.pais=='TW']='Taiwan'\n",
    "utmb22.pais[utmb22.pais=='HK']='Hong Kong'\n",
    "utmb22.pais[utmb22.pais=='XK']='Kosovo'"
   ]
  },
  {
   "cell_type": "code",
   "execution_count": 120,
   "metadata": {},
   "outputs": [],
   "source": [
    "#Normalizamos formato de campos de las columnas añadiendo la configuración final para todas las tablas\n",
    "\n",
    "utmb22.drop(['pto_cat'],axis='columns',inplace=True) #damos de baja columnas\n",
    "\n",
    "#Generamos las columnas restanetes\n",
    "\n",
    "utmb22['carrera']=generador.carrera(len(utmb22),'utmb')\n",
    "utmb22['anio']=generador.anio(len(utmb22),'2022')\n",
    "\n",
    "utmb22=utmb22.reindex(columns=['posicion','tiempo','dif','nombre','club','pais','sex','cat','carrera','anio']) #Reorganizamos"
   ]
  },
  {
   "cell_type": "code",
   "execution_count": 121,
   "metadata": {},
   "outputs": [],
   "source": [
    "utmb22.to_csv('../data/utmb/utmb2022mod.csv', index=False)      #cargamos csv"
   ]
  },
  {
   "cell_type": "code",
   "execution_count": 122,
   "metadata": {},
   "outputs": [],
   "source": [
    "utmb=pd.concat([utmb17,utmb18,utmb19,utmb20,utmb21,utmb22])"
   ]
  },
  {
   "cell_type": "code",
   "execution_count": 123,
   "metadata": {},
   "outputs": [],
   "source": [
    "utmb.to_csv('../data/utmb/utmb.csv',index=False, index_label=False)"
   ]
  }
 ],
 "metadata": {
  "kernelspec": {
   "display_name": "Python 3.9.12 ('base')",
   "language": "python",
   "name": "python3"
  },
  "language_info": {
   "codemirror_mode": {
    "name": "ipython",
    "version": 3
   },
   "file_extension": ".py",
   "mimetype": "text/x-python",
   "name": "python",
   "nbconvert_exporter": "python",
   "pygments_lexer": "ipython3",
   "version": "3.9.12"
  },
  "orig_nbformat": 4,
  "vscode": {
   "interpreter": {
    "hash": "1551151381e773f0aad4d7f5dd85d557969b09f98d8f1647db122078155b292b"
   }
  }
 },
 "nbformat": 4,
 "nbformat_minor": 2
}
