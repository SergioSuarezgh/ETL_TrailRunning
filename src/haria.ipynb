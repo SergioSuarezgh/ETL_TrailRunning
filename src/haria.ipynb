{
 "cells": [
  {
   "cell_type": "code",
   "execution_count": 1,
   "metadata": {},
   "outputs": [],
   "source": [
    "import pandas as pd\n",
    "import numpy as np\n",
    "import re\n",
    "import io\n",
    "import warnings\n",
    "import generador\n",
    "pd.set_option('display.max_columns',None)\n",
    "pd.set_option('display.max_rows',None)\n",
    "warnings.filterwarnings('ignore')"
   ]
  },
  {
   "cell_type": "code",
   "execution_count": 2,
   "metadata": {},
   "outputs": [],
   "source": [
    "#Haria17"
   ]
  },
  {
   "cell_type": "code",
   "execution_count": 3,
   "metadata": {},
   "outputs": [],
   "source": [
    "out_file = io.StringIO()\n",
    "\n",
    "with open('../data/haria/haria2017.csv', encoding='utf8') as file:\n",
    "    out_file.write(file.read().replace('\"\"', '|').replace('\"', \"\"))\n",
    "\n",
    "out_file.seek(0)\n",
    "\n",
    "haria17 = pd.read_csv(out_file, delimiter = ',', quotechar='|')"
   ]
  },
  {
   "cell_type": "code",
   "execution_count": 4,
   "metadata": {},
   "outputs": [],
   "source": [
    "columns=['posicion', 'tiempo', 'nombre','link','pais','sex','rango_edad','otros']\n",
    "haria17.set_axis(columns,axis='columns', inplace='True')   #modificamos los nombres de columnas\n",
    "\n",
    "haria17.drop(['link','otros'],axis='columns',inplace=True)  #damos de baja columnas\n"
   ]
  },
  {
   "cell_type": "code",
   "execution_count": 5,
   "metadata": {},
   "outputs": [
    {
     "data": {
      "text/html": [
       "<div>\n",
       "<style scoped>\n",
       "    .dataframe tbody tr th:only-of-type {\n",
       "        vertical-align: middle;\n",
       "    }\n",
       "\n",
       "    .dataframe tbody tr th {\n",
       "        vertical-align: top;\n",
       "    }\n",
       "\n",
       "    .dataframe thead th {\n",
       "        text-align: right;\n",
       "    }\n",
       "</style>\n",
       "<table border=\"1\" class=\"dataframe\">\n",
       "  <thead>\n",
       "    <tr style=\"text-align: right;\">\n",
       "      <th></th>\n",
       "      <th>posicion</th>\n",
       "      <th>tiempo</th>\n",
       "      <th>nombre</th>\n",
       "      <th>pais</th>\n",
       "      <th>sex</th>\n",
       "      <th>rango_edad</th>\n",
       "    </tr>\n",
       "  </thead>\n",
       "  <tbody>\n",
       "    <tr>\n",
       "      <th>276</th>\n",
       "      <td>DNF</td>\n",
       "      <td>-</td>\n",
       "      <td>Cesar-Alberto FERNANDEZ-PEREZ</td>\n",
       "      <td>España</td>\n",
       "      <td>hombres</td>\n",
       "      <td>40-44</td>\n",
       "    </tr>\n",
       "    <tr>\n",
       "      <th>277</th>\n",
       "      <td>DNF</td>\n",
       "      <td>-</td>\n",
       "      <td>Andrew MCPHERSON</td>\n",
       "      <td>Reino Unido</td>\n",
       "      <td>hombres</td>\n",
       "      <td>40-44</td>\n",
       "    </tr>\n",
       "    <tr>\n",
       "      <th>278</th>\n",
       "      <td>DNF</td>\n",
       "      <td>-</td>\n",
       "      <td>Mark GIBSON</td>\n",
       "      <td>Reino Unido</td>\n",
       "      <td>hombres</td>\n",
       "      <td>40-44</td>\n",
       "    </tr>\n",
       "    <tr>\n",
       "      <th>279</th>\n",
       "      <td>DNF</td>\n",
       "      <td>-</td>\n",
       "      <td>Maria-Del Pino NUÑEZ-RAMOS</td>\n",
       "      <td>España</td>\n",
       "      <td>mujeres</td>\n",
       "      <td>40-44</td>\n",
       "    </tr>\n",
       "    <tr>\n",
       "      <th>280</th>\n",
       "      <td>DNF</td>\n",
       "      <td>-</td>\n",
       "      <td>Angel RODRIGUEZ-PADILLA</td>\n",
       "      <td>España</td>\n",
       "      <td>hombres</td>\n",
       "      <td>50-54</td>\n",
       "    </tr>\n",
       "  </tbody>\n",
       "</table>\n",
       "</div>"
      ],
      "text/plain": [
       "    posicion tiempo                         nombre         pais      sex  \\\n",
       "276      DNF      -  Cesar-Alberto FERNANDEZ-PEREZ       España  hombres   \n",
       "277      DNF      -               Andrew MCPHERSON  Reino Unido  hombres   \n",
       "278      DNF      -                    Mark GIBSON  Reino Unido  hombres   \n",
       "279      DNF      -     Maria-Del Pino NUÑEZ-RAMOS       España  mujeres   \n",
       "280      DNF      -        Angel RODRIGUEZ-PADILLA       España  hombres   \n",
       "\n",
       "    rango_edad  \n",
       "276      40-44  \n",
       "277      40-44  \n",
       "278      40-44  \n",
       "279      40-44  \n",
       "280      50-54  "
      ]
     },
     "execution_count": 5,
     "metadata": {},
     "output_type": "execute_result"
    }
   ],
   "source": [
    "haria17.tail()"
   ]
  },
  {
   "cell_type": "code",
   "execution_count": 6,
   "metadata": {},
   "outputs": [
    {
     "data": {
      "text/plain": [
       "array(['SENIOR', 'VET-A', 'VET-B', 'VET-C'], dtype=object)"
      ]
     },
     "execution_count": 6,
     "metadata": {},
     "output_type": "execute_result"
    }
   ],
   "source": [
    "#creamos una columna de categoria en base a los rangos de edad y la colocamos\n",
    "#Aprovechamos y normalizamos tb el sexo\n",
    "haria17['cat']=haria17['rango_edad']\n",
    "\n",
    "for i in range(len(haria17.rango_edad)):\n",
    "    if haria17.rango_edad[i]=='20-34' or haria17.rango_edad[i]=='35-39':\n",
    "        haria17.cat[i]='SENIOR'\n",
    "    elif haria17.rango_edad[i]=='40-44' or haria17.rango_edad[i]=='45-49':\n",
    "        haria17.cat[i]='VET-A'\n",
    "    elif haria17.rango_edad[i]=='50-54' or haria17.rango_edad[i]=='55-59':\n",
    "        haria17.cat[i]='VET-B'\n",
    "    else:\n",
    "        haria17.cat[i]='VET-C'\n",
    "        \n",
    "\n",
    "    if haria17.sex[i]=='hombres':\n",
    "        haria17.sex[i]='M'\n",
    "    elif haria17.sex[i]=='mujeres':\n",
    "        haria17.sex[i]='F'   \n",
    "        \n",
    "\n",
    "#Cambiar DNF por 999\n",
    "\n",
    "    if haria17.posicion[i]=='DNF':\n",
    "        haria17.posicion[i]=999\n",
    "        \n",
    "        \n",
    "        \n",
    "#Quitar guión de tiempo ULTIMA MODIFICACION    \n",
    "    \n",
    "    if haria17.tiempo[i]=='-':\n",
    "        haria17.tiempo[i]='00:00:00'\n",
    "        \n",
    "haria17=haria17.reindex(columns=['posicion','tiempo','nombre','pais','sex','cat','rango_edad'])\n",
    "\n",
    "haria17.cat.unique()"
   ]
  },
  {
   "cell_type": "code",
   "execution_count": 7,
   "metadata": {},
   "outputs": [
    {
     "data": {
      "text/html": [
       "<div>\n",
       "<style scoped>\n",
       "    .dataframe tbody tr th:only-of-type {\n",
       "        vertical-align: middle;\n",
       "    }\n",
       "\n",
       "    .dataframe tbody tr th {\n",
       "        vertical-align: top;\n",
       "    }\n",
       "\n",
       "    .dataframe thead th {\n",
       "        text-align: right;\n",
       "    }\n",
       "</style>\n",
       "<table border=\"1\" class=\"dataframe\">\n",
       "  <thead>\n",
       "    <tr style=\"text-align: right;\">\n",
       "      <th></th>\n",
       "      <th>posicion</th>\n",
       "      <th>tiempo</th>\n",
       "      <th>nombre</th>\n",
       "      <th>pais</th>\n",
       "      <th>sex</th>\n",
       "      <th>cat</th>\n",
       "      <th>rango_edad</th>\n",
       "    </tr>\n",
       "  </thead>\n",
       "  <tbody>\n",
       "    <tr>\n",
       "      <th>276</th>\n",
       "      <td>999</td>\n",
       "      <td>00:00:00</td>\n",
       "      <td>Cesar-Alberto FERNANDEZ-PEREZ</td>\n",
       "      <td>España</td>\n",
       "      <td>M</td>\n",
       "      <td>VET-A</td>\n",
       "      <td>40-44</td>\n",
       "    </tr>\n",
       "    <tr>\n",
       "      <th>277</th>\n",
       "      <td>999</td>\n",
       "      <td>00:00:00</td>\n",
       "      <td>Andrew MCPHERSON</td>\n",
       "      <td>Reino Unido</td>\n",
       "      <td>M</td>\n",
       "      <td>VET-A</td>\n",
       "      <td>40-44</td>\n",
       "    </tr>\n",
       "    <tr>\n",
       "      <th>278</th>\n",
       "      <td>999</td>\n",
       "      <td>00:00:00</td>\n",
       "      <td>Mark GIBSON</td>\n",
       "      <td>Reino Unido</td>\n",
       "      <td>M</td>\n",
       "      <td>VET-A</td>\n",
       "      <td>40-44</td>\n",
       "    </tr>\n",
       "    <tr>\n",
       "      <th>279</th>\n",
       "      <td>999</td>\n",
       "      <td>00:00:00</td>\n",
       "      <td>Maria-Del Pino NUÑEZ-RAMOS</td>\n",
       "      <td>España</td>\n",
       "      <td>F</td>\n",
       "      <td>VET-A</td>\n",
       "      <td>40-44</td>\n",
       "    </tr>\n",
       "    <tr>\n",
       "      <th>280</th>\n",
       "      <td>999</td>\n",
       "      <td>00:00:00</td>\n",
       "      <td>Angel RODRIGUEZ-PADILLA</td>\n",
       "      <td>España</td>\n",
       "      <td>M</td>\n",
       "      <td>VET-B</td>\n",
       "      <td>50-54</td>\n",
       "    </tr>\n",
       "  </tbody>\n",
       "</table>\n",
       "</div>"
      ],
      "text/plain": [
       "    posicion    tiempo                         nombre         pais sex    cat  \\\n",
       "276      999  00:00:00  Cesar-Alberto FERNANDEZ-PEREZ       España   M  VET-A   \n",
       "277      999  00:00:00               Andrew MCPHERSON  Reino Unido   M  VET-A   \n",
       "278      999  00:00:00                    Mark GIBSON  Reino Unido   M  VET-A   \n",
       "279      999  00:00:00     Maria-Del Pino NUÑEZ-RAMOS       España   F  VET-A   \n",
       "280      999  00:00:00        Angel RODRIGUEZ-PADILLA       España   M  VET-B   \n",
       "\n",
       "    rango_edad  \n",
       "276      40-44  \n",
       "277      40-44  \n",
       "278      40-44  \n",
       "279      40-44  \n",
       "280      50-54  "
      ]
     },
     "execution_count": 7,
     "metadata": {},
     "output_type": "execute_result"
    }
   ],
   "source": [
    "haria17.tail()"
   ]
  },
  {
   "cell_type": "code",
   "execution_count": 8,
   "metadata": {},
   "outputs": [
    {
     "name": "stdout",
     "output_type": "stream",
     "text": [
      "<class 'pandas.core.frame.DataFrame'>\n",
      "RangeIndex: 280 entries, 0 to 279\n",
      "Data columns (total 10 columns):\n",
      " #   Column    Non-Null Count  Dtype \n",
      "---  ------    --------------  ----- \n",
      " 0   posicion  280 non-null    object\n",
      " 1   tiempo    280 non-null    object\n",
      " 2   dif       280 non-null    object\n",
      " 3   nombre    280 non-null    object\n",
      " 4   club      280 non-null    object\n",
      " 5   pais      280 non-null    object\n",
      " 6   sex       280 non-null    object\n",
      " 7   cat       280 non-null    object\n",
      " 8   carrera   280 non-null    object\n",
      " 9   anio      280 non-null    object\n",
      "dtypes: object(10)\n",
      "memory usage: 22.0+ KB\n"
     ]
    }
   ],
   "source": [
    "#Normalizamos formato de campos de las columnas añadiendo la configuración final para todas las tablas\n",
    "\n",
    "haria17.drop(['rango_edad'],axis='columns',inplace=True) #damos de baja columnas\n",
    "\n",
    "#Generamos las columnas restanetes\n",
    "haria17['dif']=generador.dif(len(haria17))\n",
    "haria17['club']=generador.generador(len(haria17))\n",
    "haria17['anio']=generador.anio(len(haria17),'2017')\n",
    "\n",
    "haria17['carrera']=generador.carrera(len(haria17),'haria')\n",
    "\n",
    "haria17=haria17.reindex(columns=['posicion','tiempo','dif','nombre','club','pais','sex','cat','carrera','anio']) #Reorganizamos\n",
    "\n",
    "haria17.dropna(inplace=True)\n",
    "\n",
    "haria17.reset_index(drop=True,inplace=True)\n",
    "\n",
    "haria17.info()"
   ]
  },
  {
   "cell_type": "code",
   "execution_count": 9,
   "metadata": {},
   "outputs": [],
   "source": [
    "haria17.to_csv('../data/haria/haria17mod.csv', index='False', index_label=False)   #cargamos el csv"
   ]
  },
  {
   "cell_type": "markdown",
   "metadata": {},
   "source": [
    "#haria18"
   ]
  },
  {
   "cell_type": "code",
   "execution_count": 10,
   "metadata": {},
   "outputs": [],
   "source": [
    "out_file = io.StringIO()\n",
    "\n",
    "with open('../data/haria/haria2018.csv', encoding='utf8') as file:\n",
    "    out_file.write(file.read().replace('\"\"', '|').replace('\"', \"\"))\n",
    "\n",
    "out_file.seek(0)\n",
    "\n",
    "haria18 = pd.read_csv(out_file, delimiter = ',', quotechar='|')"
   ]
  },
  {
   "cell_type": "code",
   "execution_count": 11,
   "metadata": {},
   "outputs": [],
   "source": [
    "columns=['posicion', 'tiempo', 'nombre','link','pais','sex','rango_edad','otros']\n",
    "haria18.set_axis(columns,axis='columns', inplace='True')    #modificamos los nombres de columnas\n",
    "\n",
    "haria18.drop(['link','otros'],axis='columns',inplace=True)  #damos de baja columnas\n"
   ]
  },
  {
   "cell_type": "code",
   "execution_count": 12,
   "metadata": {},
   "outputs": [
    {
     "data": {
      "text/plain": [
       "array(['SENIOR', 'VET-A', 'VET-B', 'VET-C'], dtype=object)"
      ]
     },
     "execution_count": 12,
     "metadata": {},
     "output_type": "execute_result"
    }
   ],
   "source": [
    "#creamos una columna de categoria en base a los rangos de edad y la colocamos\n",
    "haria18['cat']=haria18['rango_edad']\n",
    "\n",
    "for i in range(len(haria18.rango_edad)):\n",
    "    if haria18.rango_edad[i]=='20-34' or haria18.rango_edad[i]=='35-39':\n",
    "        haria18.cat[i]='SENIOR'\n",
    "    elif haria18.rango_edad[i]=='40-44' or haria18.rango_edad[i]=='45-49':\n",
    "        haria18.cat[i]='VET-A'\n",
    "    elif haria18.rango_edad[i]=='50-54' or haria18.rango_edad[i]=='55-59':\n",
    "        haria18.cat[i]='VET-B'\n",
    "    else:\n",
    "        haria18.cat[i]='VET-C'\n",
    "    \n",
    "    #Aprovechamos y normalizamos tb el sexo    \n",
    "    if haria18.sex[i]=='hombres':\n",
    "        haria18.sex[i]='M'\n",
    "    elif haria18.sex[i]=='mujeres':\n",
    "        haria18.sex[i]='F'  \n",
    "        \n",
    "    \n",
    "        \n",
    "    #Quitar guión de posicion y tiempo ULTIMA MODIFICACION    \n",
    "    if haria18.posicion[i]=='DNF':  \n",
    "        haria18.posicion[i]=999\n",
    "    \n",
    "        \n",
    "    if haria18.tiempo[i]=='-':\n",
    "        haria18.tiempo[i]='00:00:00'\n",
    "        \n",
    "haria18=haria18.reindex(columns=['posicion','tiempo','nombre','pais','sex','cat','rango_edad'])\n",
    "\n",
    "haria18.cat.unique()"
   ]
  },
  {
   "cell_type": "code",
   "execution_count": 13,
   "metadata": {},
   "outputs": [],
   "source": [
    "haria18=haria18.drop(haria18[haria18.posicion=='Clasificación'].index)  ##limpiamos una fila errona que hay"
   ]
  },
  {
   "cell_type": "code",
   "execution_count": 14,
   "metadata": {},
   "outputs": [
    {
     "name": "stdout",
     "output_type": "stream",
     "text": [
      "<class 'pandas.core.frame.DataFrame'>\n",
      "RangeIndex: 127 entries, 0 to 126\n",
      "Data columns (total 10 columns):\n",
      " #   Column    Non-Null Count  Dtype \n",
      "---  ------    --------------  ----- \n",
      " 0   posicion  127 non-null    object\n",
      " 1   tiempo    127 non-null    object\n",
      " 2   dif       127 non-null    object\n",
      " 3   nombre    127 non-null    object\n",
      " 4   club      127 non-null    object\n",
      " 5   pais      127 non-null    object\n",
      " 6   sex       127 non-null    object\n",
      " 7   cat       127 non-null    object\n",
      " 8   carrera   127 non-null    object\n",
      " 9   anio      127 non-null    object\n",
      "dtypes: object(10)\n",
      "memory usage: 10.0+ KB\n"
     ]
    }
   ],
   "source": [
    "#Normalizamos formato de campos de las columnas añadiendo la configuración final para todas las tablas\n",
    "\n",
    "haria18.drop(['rango_edad'],axis='columns',inplace=True) #damos de baja columnas\n",
    "\n",
    "#Generamos las columnas restanetes\n",
    "haria18['dif']=generador.dif(len(haria18))\n",
    "haria18['club']=generador.generador(len(haria18))\n",
    "haria18['carrera']=generador.carrera(len(haria18),'haria')\n",
    "haria18['anio']=generador.anio(len(haria18),'2018')\n",
    "\n",
    "haria18=haria18.reindex(columns=['posicion','tiempo','dif','nombre','club','pais','sex','cat','carrera','anio']) #Reorganizamos\n",
    "\n",
    "haria18.dropna(inplace=True)\n",
    "\n",
    "haria18.reset_index(drop=True, inplace=True)\n",
    "\n",
    "haria18.info()"
   ]
  },
  {
   "cell_type": "code",
   "execution_count": 15,
   "metadata": {},
   "outputs": [],
   "source": [
    "haria18.to_csv('../data/haria/haria18mod.csv', index='False', index_label=False)   #cargamos el csv"
   ]
  },
  {
   "cell_type": "code",
   "execution_count": 16,
   "metadata": {},
   "outputs": [
    {
     "data": {
      "text/html": [
       "<div>\n",
       "<style scoped>\n",
       "    .dataframe tbody tr th:only-of-type {\n",
       "        vertical-align: middle;\n",
       "    }\n",
       "\n",
       "    .dataframe tbody tr th {\n",
       "        vertical-align: top;\n",
       "    }\n",
       "\n",
       "    .dataframe thead th {\n",
       "        text-align: right;\n",
       "    }\n",
       "</style>\n",
       "<table border=\"1\" class=\"dataframe\">\n",
       "  <thead>\n",
       "    <tr style=\"text-align: right;\">\n",
       "      <th></th>\n",
       "      <th>posicion</th>\n",
       "      <th>tiempo</th>\n",
       "      <th>dif</th>\n",
       "      <th>nombre</th>\n",
       "      <th>club</th>\n",
       "      <th>pais</th>\n",
       "      <th>sex</th>\n",
       "      <th>cat</th>\n",
       "      <th>carrera</th>\n",
       "      <th>anio</th>\n",
       "    </tr>\n",
       "  </thead>\n",
       "  <tbody>\n",
       "    <tr>\n",
       "      <th>0</th>\n",
       "      <td>1</td>\n",
       "      <td>08:48:46</td>\n",
       "      <td>00:00:00</td>\n",
       "      <td>David LUTZARDO</td>\n",
       "      <td>N/D</td>\n",
       "      <td>España</td>\n",
       "      <td>M</td>\n",
       "      <td>SENIOR</td>\n",
       "      <td>haria</td>\n",
       "      <td>2018</td>\n",
       "    </tr>\n",
       "    <tr>\n",
       "      <th>1</th>\n",
       "      <td>2</td>\n",
       "      <td>09:27:01</td>\n",
       "      <td>00:00:00</td>\n",
       "      <td>Matthew HART</td>\n",
       "      <td>N/D</td>\n",
       "      <td>Reino Unido</td>\n",
       "      <td>M</td>\n",
       "      <td>VET-A</td>\n",
       "      <td>haria</td>\n",
       "      <td>2018</td>\n",
       "    </tr>\n",
       "    <tr>\n",
       "      <th>2</th>\n",
       "      <td>3</td>\n",
       "      <td>09:31:13</td>\n",
       "      <td>00:00:00</td>\n",
       "      <td>Gilles KLIPFEL</td>\n",
       "      <td>N/D</td>\n",
       "      <td>Francia</td>\n",
       "      <td>M</td>\n",
       "      <td>SENIOR</td>\n",
       "      <td>haria</td>\n",
       "      <td>2018</td>\n",
       "    </tr>\n",
       "    <tr>\n",
       "      <th>3</th>\n",
       "      <td>4</td>\n",
       "      <td>09:32:24</td>\n",
       "      <td>00:00:00</td>\n",
       "      <td>Gemma ARENAS</td>\n",
       "      <td>N/D</td>\n",
       "      <td>España</td>\n",
       "      <td>F</td>\n",
       "      <td>SENIOR</td>\n",
       "      <td>haria</td>\n",
       "      <td>2018</td>\n",
       "    </tr>\n",
       "    <tr>\n",
       "      <th>4</th>\n",
       "      <td>5</td>\n",
       "      <td>09:35:16</td>\n",
       "      <td>00:00:00</td>\n",
       "      <td>Carlos Enrique VIERA CABALLO</td>\n",
       "      <td>N/D</td>\n",
       "      <td>España</td>\n",
       "      <td>M</td>\n",
       "      <td>SENIOR</td>\n",
       "      <td>haria</td>\n",
       "      <td>2018</td>\n",
       "    </tr>\n",
       "  </tbody>\n",
       "</table>\n",
       "</div>"
      ],
      "text/plain": [
       "  posicion    tiempo       dif                        nombre club  \\\n",
       "0        1  08:48:46  00:00:00                David LUTZARDO  N/D   \n",
       "1        2  09:27:01  00:00:00                  Matthew HART  N/D   \n",
       "2        3  09:31:13  00:00:00                Gilles KLIPFEL  N/D   \n",
       "3        4  09:32:24  00:00:00                  Gemma ARENAS  N/D   \n",
       "4        5  09:35:16  00:00:00  Carlos Enrique VIERA CABALLO  N/D   \n",
       "\n",
       "          pais sex     cat carrera  anio  \n",
       "0       España   M  SENIOR   haria  2018  \n",
       "1  Reino Unido   M   VET-A   haria  2018  \n",
       "2      Francia   M  SENIOR   haria  2018  \n",
       "3       España   F  SENIOR   haria  2018  \n",
       "4       España   M  SENIOR   haria  2018  "
      ]
     },
     "execution_count": 16,
     "metadata": {},
     "output_type": "execute_result"
    }
   ],
   "source": [
    "haria18.head()"
   ]
  },
  {
   "cell_type": "markdown",
   "metadata": {},
   "source": [
    "#haria19"
   ]
  },
  {
   "cell_type": "code",
   "execution_count": 17,
   "metadata": {},
   "outputs": [],
   "source": [
    "out_file = io.StringIO()\n",
    "\n",
    "with open('../data/haria/haria2019.csv', encoding='utf8') as file:\n",
    "    out_file.write(file.read().replace('\"\"', '|').replace('\"', \"\"))\n",
    "\n",
    "out_file.seek(0)\n",
    "\n",
    "haria19 = pd.read_csv(out_file, delimiter = ',', quotechar='|')"
   ]
  },
  {
   "cell_type": "code",
   "execution_count": 18,
   "metadata": {},
   "outputs": [],
   "source": [
    "haria19.head()\n",
    "columns=['posicion','dorsal','nombre','unnamed1','club','sex','cat','tp1','tp2','tp3','tp4','tp5','tp6','tiempo','otros','otros2']\n",
    "haria19.set_axis(columns, axis='columns',inplace=True)    #Modificamos el nombre de columnas\n",
    "\n",
    "haria19.drop(['unnamed1','otros','otros2','tp1','tp2','tp3','tp4','tp5','tp6'],axis='columns',inplace=True)     #Eliminamos las que no queremos\n",
    "haria19=haria19.reindex(columns=['posicion', 'tiempo','nombre', 'club', 'sex','cat'])   #las colocamos como queremos"
   ]
  },
  {
   "cell_type": "code",
   "execution_count": 19,
   "metadata": {},
   "outputs": [
    {
     "data": {
      "text/plain": [
       "array(['SENIOR', 'VET-A', 'unkwnow'], dtype=object)"
      ]
     },
     "execution_count": 19,
     "metadata": {},
     "output_type": "execute_result"
    }
   ],
   "source": [
    "\n",
    "\n",
    "#Nos salen valores extraños y las categorias no son como las que tenemos estipuladas. Al no tener otro indicador de edad los absolutos los modificamos a senior lo cual tiene sentido. Los veteranos a riesgo de falsificar la muestra los ponemos como veteranos A\n",
    "#y al resto los ponemos como unkwnow \n",
    "#        ABS M', 'VET M', '5,40', 'VET F', '5,11', '5,10', '4,95', 'ABS F',\n",
    "#       '4,72', '4,70', '4,69', '4,58', '4,54', '4,45', '4,42', '4,29',\n",
    "#       '4,27', '4,17', '4,16', '4,05', '3,99', '3,98', '3,77', '3,70',\n",
    "#       '3,62', '3,55', nan\n",
    "\n",
    "\n",
    "#creamos una columna de categoria en base a los rangos de edad y la colocamos\n",
    "haria19['cat']=haria19['cat']\n",
    "\n",
    "for i in range(len(haria19.cat)):\n",
    "    if haria19.cat[i]=='ABS M' or haria19.cat[i]=='ABS F':\n",
    "        haria19.cat[i]='SENIOR'\n",
    "    elif haria19.cat[i]=='VET M' or haria19.cat[i]=='VET F':\n",
    "        haria19.cat[i]='VET-A'\n",
    "    else:\n",
    "        haria19.cat[i]='unkwnow'\n",
    "        \n",
    "    \n",
    "    if haria19.posicion[i]=='-':  \n",
    "        haria19.posicion[i]=999\n",
    "    else:  \n",
    "        num=str(haria19.posicion[i]).find('.')    \n",
    "        haria19.posicion[i]=haria19.posicion[i][:num]\n",
    "        \n",
    "    if haria19.tiempo[i]=='Retirado':\n",
    "        haria19.tiempo[i]='00:00:00'\n",
    "        \n",
    "    #Aprovechamos y normalizamos tb el sexo    \n",
    "    if haria19.sex[i]=='Hombre':\n",
    "        haria19.sex[i]='M'\n",
    "    elif haria19.sex[i]=='Mujer':\n",
    "        haria19.sex[i]='F'  \n",
    "    \n",
    "        \n",
    "\n",
    "haria19.cat.unique()"
   ]
  },
  {
   "cell_type": "code",
   "execution_count": 20,
   "metadata": {},
   "outputs": [],
   "source": [
    "#Normalizamos formato de campos de las columnas añadiendo la configuración final para todas las tablas\n",
    "\n",
    "\n",
    "\n",
    "#Generamos las columnas restanetes\n",
    "haria19['dif']=generador.dif(len(haria19))\n",
    "haria19['pais']=generador.generador(len(haria19))\n",
    "haria19['carrera']=generador.carrera(len(haria19),'haria')\n",
    "haria19['anio']=generador.anio(len(haria19),'2019')\n",
    "\n",
    "haria19=haria19.reindex(columns=['posicion','tiempo','dif','nombre','club','pais','sex','cat','carrera','anio']) #Reorganizamos"
   ]
  },
  {
   "cell_type": "code",
   "execution_count": 21,
   "metadata": {},
   "outputs": [
    {
     "name": "stdout",
     "output_type": "stream",
     "text": [
      "<class 'pandas.core.frame.DataFrame'>\n",
      "RangeIndex: 159 entries, 0 to 158\n",
      "Data columns (total 10 columns):\n",
      " #   Column    Non-Null Count  Dtype \n",
      "---  ------    --------------  ----- \n",
      " 0   posicion  159 non-null    object\n",
      " 1   tiempo    159 non-null    object\n",
      " 2   dif       159 non-null    object\n",
      " 3   nombre    159 non-null    object\n",
      " 4   club      159 non-null    object\n",
      " 5   pais      159 non-null    object\n",
      " 6   sex       159 non-null    object\n",
      " 7   cat       159 non-null    object\n",
      " 8   carrera   159 non-null    object\n",
      " 9   anio      159 non-null    object\n",
      "dtypes: object(10)\n",
      "memory usage: 12.5+ KB\n"
     ]
    }
   ],
   "source": [
    "haria19.info()"
   ]
  },
  {
   "cell_type": "code",
   "execution_count": 22,
   "metadata": {},
   "outputs": [],
   "source": [
    "haria19.to_csv('../data/haria/haria19mod.csv', index='False', index_label=False)"
   ]
  },
  {
   "cell_type": "code",
   "execution_count": 23,
   "metadata": {},
   "outputs": [],
   "source": [
    "haria=pd.concat([haria17,haria18,haria19])"
   ]
  },
  {
   "cell_type": "code",
   "execution_count": 24,
   "metadata": {},
   "outputs": [],
   "source": [
    "haria.to_csv('../data/haria/haria_final.csv',index=False, index_label=False)"
   ]
  }
 ],
 "metadata": {
  "kernelspec": {
   "display_name": "Python 3.9.12 ('base')",
   "language": "python",
   "name": "python3"
  },
  "language_info": {
   "codemirror_mode": {
    "name": "ipython",
    "version": 3
   },
   "file_extension": ".py",
   "mimetype": "text/x-python",
   "name": "python",
   "nbconvert_exporter": "python",
   "pygments_lexer": "ipython3",
   "version": "3.9.12"
  },
  "orig_nbformat": 4,
  "vscode": {
   "interpreter": {
    "hash": "1551151381e773f0aad4d7f5dd85d557969b09f98d8f1647db122078155b292b"
   }
  }
 },
 "nbformat": 4,
 "nbformat_minor": 2
}
